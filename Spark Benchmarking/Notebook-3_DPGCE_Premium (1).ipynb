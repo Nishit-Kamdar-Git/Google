{
 "cells": [
  {
   "cell_type": "markdown",
   "id": "04142412-5b20-40ef-af76-b74871fb700b",
   "metadata": {},
   "source": [
    "## DPGCE Premium"
   ]
  },
  {
   "cell_type": "markdown",
   "id": "30d60ab5-c76e-4cf1-bd3e-60df7931af30",
   "metadata": {},
   "source": [
    "### Objective\n",
    "This notebook is designed for running TPCH and TPCDS benchmarks on DPGCE Premium cluster."
   ]
  },
  {
   "cell_type": "markdown",
   "id": "3e947fc5-0c4e-4cab-b63f-193238a86b0f",
   "metadata": {
    "tags": []
   },
   "source": [
    "### Initialize Public GCS Bucket\n",
    "This initializes the public GCS bucket from which datasets and utilities will be copied to your GCS bucket."
   ]
  },
  {
   "cell_type": "code",
   "execution_count": 1,
   "id": "f8a908e9-80b6-4e29-897f-d663d4cd62a5",
   "metadata": {
    "tags": []
   },
   "outputs": [],
   "source": [
    "SOURCE_PUBLIC_GCS_BUCKET = \"tpc-benchmarking-kit-bucket\""
   ]
  },
  {
   "cell_type": "markdown",
   "id": "79822a27-91e6-498d-a70d-fdbca31272ff",
   "metadata": {},
   "source": [
    "### Benchmark Configuration Setup\n",
    "\n",
    "This step initializes the benchmark configurations. These configurations define the parameters for the benchmark run, such as:\n",
    "\n",
    "- **Benchmark:** The benchmarks to run (e.g., \"tpch\",  \"tpcds\",  \"tpch,tpcds\",  \"tpcds,tpch\").\n",
    "- **TPCH Queries to Run:** The specific queries to run for TPCH (e.g., \"q1,q2\", \"q3\", \"all\").\n",
    "- **TPCDS Queries to Run:** The specific queries to run for TPCDS (e.g., \"q1,q2\", \"q3\", \"all\").\n",
    "- **Size:** The scale factor or data size (e.g., \"sf1000\", \"sf10000\").\n",
    "- **File Format:** The currently supported file format is Parquet.\n",
    "\n",
    "**NOTE: You can customize the benchmark_configs to adjust the benchmark settings. After making changes, restart the kernel and re-run all cells for the modifications to take effect.**"
   ]
  },
  {
   "cell_type": "code",
   "execution_count": 2,
   "id": "2306de89-0385-4658-ad64-468a9764fb86",
   "metadata": {
    "tags": []
   },
   "outputs": [],
   "source": [
    "benchmark_configs = {\n",
    "    \"benchmark\":\"tpch,tpcds\", # the benchmark that gets specified first is run first\n",
    "    \"TPCH_queries_to_run\": \"all\", # if benchmark does not contain tpch, this will be ignored\n",
    "    \"TPCDS_queries_to_run\": \"all\", # if benchmark does not contain tpcds, this will be ignored\n",
    "    \"size\": \"sf1000\", # sf1000 for 1000GB, sf10000 for 10000GB\n",
    "    \"file_format\": \"parquet\"\n",
    "}"
   ]
  },
  {
   "cell_type": "code",
   "execution_count": 3,
   "id": "26911b29-2211-4e00-9a02-f6b08b3e0316",
   "metadata": {
    "tags": []
   },
   "outputs": [],
   "source": [
    "benchmark_string = benchmark_configs.get(\"benchmark\", \"\")\n",
    "size = benchmark_configs.get(\"size\",\"\")\n",
    "file_format = benchmark_configs.get(\"file_format\", \"\")\n",
    "\n",
    "benchmarks_list = [bench.strip() for bench in benchmark_string.split(',')]\n",
    "\n",
    "first_benchmark = benchmarks_list[0] if len(benchmarks_list) > 0 else None\n",
    "second_benchmark = benchmarks_list[1] if len(benchmarks_list) > 1 else None"
   ]
  },
  {
   "cell_type": "markdown",
   "id": "1079f38b-c736-49fd-bf13-43457ac4af98",
   "metadata": {},
   "source": [
    "### Validate Benchmark Configurations"
   ]
  },
  {
   "cell_type": "code",
   "execution_count": 4,
   "id": "25a2b1a4-91b4-4202-8a8d-fd4e9ea7c6aa",
   "metadata": {
    "tags": []
   },
   "outputs": [
    {
     "name": "stdout",
     "output_type": "stream",
     "text": [
      "Benchmark Configurations\n",
      "First benchmark: tpch\n",
      "Second benchmark: tpcds\n",
      "Scale Factor: sf1000\n",
      "File Format: parquet\n"
     ]
    }
   ],
   "source": [
    "# Check for valid benchmark types\n",
    "\n",
    "if first_benchmark is None:\n",
    "    print(\"Error! Please specify benchmark to be run.\")\n",
    "    print(\"Valid benchmark types are - \\n 1. tpch \\n 2. tpcds \\n 3. tpch,tpcds \\n 4. tpcds,tpch\")\n",
    "    raise SystemExit()\n",
    "    \n",
    "if first_benchmark != \"tpch\" and first_benchmark != \"tpcds\":\n",
    "    print(f\"Error! Unrecognised benchmark type {first_benchmark}.\")\n",
    "    print(\"Valid benchmark types are - \\n 1. tpch \\n 2. tpcds \\n 3. tpch,tpcds \\n 4. tpcds,tpch\")\n",
    "    raise SystemExit()\n",
    "    \n",
    "if second_benchmark is not None and second_benchmark != \"tpch\" and second_benchmark != \"tpcds\":\n",
    "    print(f\"Error! Unrecognised benchmark type {second_benchmark}.\")\n",
    "    print(\"Valid benchmark types are - \\n 1. tpch \\n 2. tpcds \\n 3. tpch,tpcds \\n 4. tpcds,tpch\")\n",
    "    raise SystemExit()\n",
    "    \n",
    "# Check for valid scale factor\n",
    "if size is None or size == \"\" :\n",
    "    print(\"Error! Please specify scale factor/size\")\n",
    "    print(\"Valid size values are - \\n 1. sf1000 \\n 2. sf10000\")\n",
    "    raise SystemExit()\n",
    "\n",
    "if size != \"sf1000\" and size != \"sf10000\":\n",
    "    print(f\"Error! Unsupported value for size {size}\")\n",
    "    print(\"Valid size values are - \\n 1. sf1000 \\n 2. sf10000\")\n",
    "    raise SystemExit()\n",
    "\n",
    "# Check for valid file formats\n",
    "if file_format is None or file_format == \"\":\n",
    "    print(\"Error! Please specify file format\")\n",
    "    print(\"Valid file formats are - \\n 1. parquet\")\n",
    "    raise SystemExit()    \n",
    "\n",
    "if file_format != \"parquet\" :\n",
    "    print(f\"Error! Unrecognised file format {file_format}\")\n",
    "    print(\"Valid file formats are - \\n 1. parquet\")\n",
    "    raise SystemExit()  \n",
    "\n",
    "print(\"Benchmark Configurations\")\n",
    "print(f\"First benchmark: {first_benchmark}\")\n",
    "print(f\"Second benchmark: {second_benchmark}\")\n",
    "print(f\"Scale Factor: {size}\")\n",
    "print(f\"File Format: {file_format}\")"
   ]
  },
  {
   "cell_type": "markdown",
   "id": "31c1e912-b255-4319-aa1d-056061265ac2",
   "metadata": {},
   "source": [
    "### Initialization Setup\n",
    "This cell defines variables storing your DPGCE cluster, region, and project details."
   ]
  },
  {
   "cell_type": "code",
   "execution_count": 5,
   "id": "9462ee49-a8b8-46af-8a31-3c9f4c443de6",
   "metadata": {
    "tags": []
   },
   "outputs": [
    {
     "name": "stdout",
     "output_type": "stream",
     "text": [
      "Google Cloud Project: nishitkamdarargo\n",
      "Project Number: 279814974066\n",
      "Cluster: dpgce-benchmarking-premium-2\n",
      "Region: us-east1\n"
     ]
    }
   ],
   "source": [
    "import os\n",
    "import re\n",
    "import subprocess\n",
    "import requests\n",
    "import json\n",
    "\n",
    "CLUSTER_NAME = None \n",
    "BUCKET_NAME = None\n",
    "REGION = None\n",
    "TIER = \"premium\"\n",
    "\n",
    "# Get cluster name\n",
    "def get_dataproc_cluster_name():\n",
    "    metadata_url = \"http://metadata.google.internal/computeMetadata/v1/instance/attributes/dataproc-cluster-name\"\n",
    "    headers = {\"Metadata-Flavor\": \"Google\"}\n",
    "\n",
    "    try:\n",
    "        response = requests.get(metadata_url, headers=headers, timeout=5)\n",
    "        response.raise_for_status()  # Raise an exception for HTTP errors (4xx or 5xx)\n",
    "        cluster_name = response.text\n",
    "        return cluster_name\n",
    "    except requests.exceptions.RequestException as e:\n",
    "        print(f\"Could not retrieve Dataproc cluster name from metadata server: {e}\")\n",
    "        return None\n",
    "    except Exception as e:\n",
    "        print(f\"An unexpected error occurred: {e}\")\n",
    "        return None\n",
    "\n",
    "# Retrieves the current region in use\n",
    "def get_gcloud_region():\n",
    "    metadata_url = \"http://metadata.google.internal/computeMetadata/v1/instance/zone\"\n",
    "    headers = {\"Metadata-Flavor\": \"Google\"}\n",
    "\n",
    "    try:\n",
    "        response = requests.get(metadata_url, headers=headers, timeout=5)\n",
    "        response.raise_for_status() \n",
    "        zone = response.text.split('/')[-1]\n",
    "        region = '-'.join(zone.split('-')[:-1])\n",
    "        return region\n",
    "    except requests.exceptions.RequestException as e:\n",
    "        print(f\"Could not retrieve region from metadata server: {e}\")\n",
    "        return None\n",
    "    except Exception as e:\n",
    "        print(f\"An unexpected error occurred: {e}\")\n",
    "        return None        \n",
    "\n",
    "# Returns name of current project\n",
    "def get_gcloud_project():\n",
    "    try:\n",
    "        command = [\"gcloud\", \"config\", \"get\", \"project\"]\n",
    "        process = subprocess.run(command, capture_output=True, text=True, check=True)\n",
    "        project_name = process.stdout.strip()\n",
    "        return project_name\n",
    "    except subprocess.CalledProcessError as e:\n",
    "        raise ValueError(f\"Error getting gcloud project: {e}\\nStdout: {e.stdout}\\nStderr: {e.stderr}\")\n",
    "    except FileNotFoundError:\n",
    "        raise ValueError(\"Error: gcloud command not found. Make sure the Google Cloud CLI is installed and in your system's PATH.\")\n",
    "        \n",
    "# Returns project number of current project\n",
    "def get_project_number(project_id: str) -> str:\n",
    "    try:\n",
    "        command = [\n",
    "            \"gcloud\",\n",
    "            \"projects\",\n",
    "            \"describe\",\n",
    "            project_id,\n",
    "            \"--format=value(projectNumber)\",\n",
    "        ]\n",
    "        result = subprocess.run(command, capture_output=True, text=True, check=True)\n",
    "        project_number = result.stdout.strip()\n",
    "        return project_number\n",
    "    except subprocess.CalledProcessError as e:\n",
    "        raise ValueError(f\"Error executing gcloud command for project ID '{project_id}': {e}\\nStderr: {e.stderr}\")\n",
    "    except FileNotFoundError:\n",
    "        raise ValueError(\"Error: gcloud CLI not found. Make sure it's installed and in your system's PATH.\")\n",
    "\n",
    "CLUSTER_NAME = get_dataproc_cluster_name()\n",
    "REGION = get_gcloud_region()\n",
    "PROJECT = get_gcloud_project()\n",
    "PROJECT_NUMBER = get_project_number(PROJECT)\n",
    "\n",
    "print(f\"Google Cloud Project: {PROJECT}\")\n",
    "print(f\"Project Number: {PROJECT_NUMBER}\")\n",
    "print(f\"Cluster: {CLUSTER_NAME}\")\n",
    "print(f\"Region: {REGION}\")"
   ]
  },
  {
   "cell_type": "markdown",
   "id": "de6929d6-2163-4873-bf90-517d3c09ca6a",
   "metadata": {},
   "source": [
    "### Initialize your GCS Bucket\n",
    "To run the benchmarks, a Google Cloud Storage (GCS) bucket is required to store necessary utilities.\n",
    "\n",
    "The default GCS bucket name is `sparkpoc-bucket-dpgce-standard-PROJECT_NUMBER-REGION`. You can use a different bucket name as needed.\n",
    "\n",
    "**NOTE - The following cell will attempt to create a storage bucket. If a bucket with this name already exists in the specified region and you own it, you might see a \"bucket name taken\" message or a confirmation of a previous creation. You can safely ignore these messages if your desired bucket is already created. Otherwise, please choose a unique bucket name and try again.**"
   ]
  },
  {
   "cell_type": "code",
   "execution_count": 6,
   "id": "c484dea8-4af7-4fbd-8602-b1b19d41910c",
   "metadata": {
    "tags": []
   },
   "outputs": [
    {
     "name": "stdout",
     "output_type": "stream",
     "text": [
      "GCS Bucket Name: sparkpoc-bucket-dpgce-premium-279814974066-us-east1\n"
     ]
    }
   ],
   "source": [
    "BUCKET_NAME = f\"sparkpoc-bucket-dpgce-premium-{PROJECT_NUMBER}-{REGION}\"\n",
    "print(f\"GCS Bucket Name: {BUCKET_NAME}\")"
   ]
  },
  {
   "cell_type": "code",
   "execution_count": 7,
   "id": "44b17c34-c528-452d-9dbd-b12eed8c4488",
   "metadata": {
    "tags": []
   },
   "outputs": [
    {
     "name": "stdout",
     "output_type": "stream",
     "text": [
      "Creating gs://sparkpoc-bucket-dpgce-premium-279814974066-us-east1/...\n",
      "\u001b[1;31mERROR:\u001b[0m (gcloud.storage.buckets.create) HTTPError 409: Your previous request to create the named bucket succeeded and you already own it.\n"
     ]
    }
   ],
   "source": [
    "! gcloud storage buckets create gs://{BUCKET_NAME} --uniform-bucket-level-access --location={REGION}"
   ]
  },
  {
   "cell_type": "markdown",
   "id": "7e8ab533-ffb3-481e-bcef-b8b8e3690c1e",
   "metadata": {},
   "source": [
    "### Copy Utilities\n",
    "\n",
    "Run the following cells to copy the necessary utilities in your GCS bucket.\n",
    "\n",
    "Duplicate file copy operations will be skipped.\n",
    "\n",
    "**Troubleshooting: If the copy operation seems to hang at 100% for a significant time, it's likely due to a temporary error. In such cases, restarting the kernel and running all cells from the beginning is recommended.**"
   ]
  },
  {
   "cell_type": "code",
   "execution_count": 8,
   "id": "f2add8b3-4d9f-4957-8b2e-9ee3dee800cf",
   "metadata": {
    "tags": []
   },
   "outputs": [
    {
     "name": "stdout",
     "output_type": "stream",
     "text": [
      "Copying utilities\n",
      "Source GCS location: gs://tpc-benchmarking-kit-bucket/notebook_utils/\n",
      "Destination GCS location: gs://sparkpoc-bucket-dpgce-premium-279814974066-us-east1/dpgce-benchmarking-premium-2/premium/notebook_utils/\n",
      "\n",
      "Polling for latest operation name...done.                                      \n",
      "Operation name: transferJobs-13513057103545324768-15531723508270377158\n",
      "Parent job: 13513057103545324768\n",
      "Start time: 2025-08-06T09:30:38.022291382Z\n",
      "SUCCESS | 0% (0B of 0B) | Skipped: 162.6kiB | Errors: 0 : 0 /\n",
      "End time: 2025-08-06T09:30:50.161304571Z\n"
     ]
    }
   ],
   "source": [
    "source_location = f\"gs://{SOURCE_PUBLIC_GCS_BUCKET}/notebook_utils/\"\n",
    "destination_location = f\"gs://{BUCKET_NAME}/{CLUSTER_NAME}/{TIER}/notebook_utils/\"\n",
    "\n",
    "print(\"Copying utilities\")\n",
    "print(f\"Source GCS location: {source_location}\")\n",
    "print(f\"Destination GCS location: {destination_location}\")\n",
    "print(\"\")\n",
    "\n",
    "# Copy notebook_utils which contains queries\n",
    "! gcloud transfer jobs monitor \\\n",
    "$( gcloud transfer jobs create \\\n",
    "  --format='value(name)' \\\n",
    "  \"{source_location}\" \"{destination_location}\" \\\n",
    ")"
   ]
  },
  {
   "cell_type": "markdown",
   "id": "fbbdfd7b-3627-4135-b420-830e6c9e6377",
   "metadata": {},
   "source": [
    "### Copy Datasets\n",
    "\n",
    "Duplicate file copy operations will be skipped.\n",
    "\n",
    "**Troubleshooting: If the copy operation seems to hang at 100% for a significant time, it's likely due to a temporary error. In such cases, restarting the kernel and running all cells from the beginning is recommended.**"
   ]
  },
  {
   "cell_type": "code",
   "execution_count": 9,
   "id": "4bfb437e-d759-4e29-a9dc-afa3ed4bdcc2",
   "metadata": {
    "tags": []
   },
   "outputs": [
    {
     "name": "stdout",
     "output_type": "stream",
     "text": [
      "Copying tpch sf1000 datasets\n",
      "Source GCS location: gs://tpc-benchmarking-kit-bucket/tpch/sf1000/\n",
      "Destination GCS location: gs://sparkpoc-bucket-dpgce-premium-279814974066-us-east1/dpgce-benchmarking-premium-2/premium/tpch/sf1000/\n",
      "\n",
      "Polling for latest operation name...done.                                      \n",
      "Operation name: transferJobs-15032519642485440616-17756618311735289807\n",
      "Parent job: 15032519642485440616\n",
      "Start time: 2025-08-06T09:30:53.341659215Z\n",
      "SUCCESS | 0% (0B of 0B) | Skipped: 351.5GiB | Errors: 0 : 0 |\n",
      "End time: 2025-08-06T09:31:04.990007760Z\n"
     ]
    }
   ],
   "source": [
    "print(f\"Copying {first_benchmark} {size} datasets\")\n",
    "\n",
    "source_location = f\"gs://{SOURCE_PUBLIC_GCS_BUCKET}/{first_benchmark}/{size}/\"\n",
    "destination_location = f\"gs://{BUCKET_NAME}/{CLUSTER_NAME}/{TIER}/{first_benchmark}/{size}/\"\n",
    "\n",
    "print(f\"Source GCS location: {source_location}\")\n",
    "print(f\"Destination GCS location: {destination_location}\")\n",
    "print(\"\")\n",
    "\n",
    "# Copy TPC datasets\n",
    "! gcloud transfer jobs monitor \\\n",
    "$( gcloud transfer jobs create \\\n",
    "  --format='value(name)' \\\n",
    "  \"{source_location}\" \"{destination_location}\"\\\n",
    ")"
   ]
  },
  {
   "cell_type": "code",
   "execution_count": 10,
   "id": "6a19eaab-e7e7-429b-8125-bf1160f6cdef",
   "metadata": {
    "tags": []
   },
   "outputs": [
    {
     "name": "stdout",
     "output_type": "stream",
     "text": [
      "Copying tpcds sf1000 datasets\n",
      "Source GCS location: gs://tpc-benchmarking-kit-bucket/tpcds/sf1000/\n",
      "Destination GCS location: gs://sparkpoc-bucket-dpgce-premium-279814974066-us-east1/dpgce-benchmarking-premium-2/premium/tpcds/sf1000/\n",
      "\n",
      "Polling for latest operation name...done.                                      \n",
      "Operation name: transferJobs-17830822403559275155-8911596264472311597\n",
      "Parent job: 17830822403559275155\n",
      "Start time: 2025-08-06T09:31:07.126309681Z\n",
      "SUCCESS | 0% (0B of 0B) | Skipped: 304.3GiB | Errors: 0 : 0 /\n",
      "End time: 2025-08-06T09:31:19.188658873Z\n"
     ]
    }
   ],
   "source": [
    "if second_benchmark is not None:\n",
    "    print(f\"Copying {second_benchmark} {size} datasets\")    \n",
    "    \n",
    "    source_location = f\"gs://{SOURCE_PUBLIC_GCS_BUCKET}/{second_benchmark}/{size}/\"\n",
    "    destination_location = f\"gs://{BUCKET_NAME}/{CLUSTER_NAME}/{TIER}/{second_benchmark}/{size}/\"\n",
    "    \n",
    "    print(f\"Source GCS location: {source_location}\")\n",
    "    print(f\"Destination GCS location: {destination_location}\")\n",
    "    print(\"\")    \n",
    "    \n",
    "    # Copy TPC datasets\n",
    "    ! gcloud transfer jobs monitor \\\n",
    "    $( gcloud transfer jobs create \\\n",
    "      --format='value(name)' \\\n",
    "      \"{source_location}\" \"{destination_location}\"\\\n",
    "    )\n",
    "\n",
    "else:\n",
    "    print(\"Second benchmark is empty\")\n",
    "    print(\"Skipping this step.\")"
   ]
  },
  {
   "cell_type": "markdown",
   "id": "521e75f6-c70f-49ab-adfe-a63d37c07e4a",
   "metadata": {},
   "source": [
    "### Define Benchmark Utility Functions\n",
    "\n",
    "To facilitate the execution of TPC benchmarks, we need to load a set of utility functions. These functions are defined in the following cell and handle tasks such as:\n",
    "\n",
    "- Query execution timing\n",
    "- Data loading and setup\n",
    "- Result formatting\n",
    "- Writing results to GCS\n",
    "- Terminating current Spark session\n"
   ]
  },
  {
   "cell_type": "code",
   "execution_count": 11,
   "id": "1fa8206e-779e-4f94-8646-53f07e4c11b0",
   "metadata": {
    "tags": []
   },
   "outputs": [],
   "source": [
    "from pyspark.sql import SparkSession\n",
    "from urllib.parse import urlparse\n",
    "from py4j.java_gateway import java_import\n",
    "import os\n",
    "from google.cloud import storage\n",
    "import time\n",
    "from typing import Callable, List, Tuple\n",
    "import csv\n",
    "import io\n",
    "import matplotlib.pyplot as plt\n",
    "from prettytable import PrettyTable, HRuleStyle\n",
    "import subprocess\n",
    "import re\n",
    "\n",
    "################################################ Run Benchmark ############################################\n",
    "\n",
    "# Set up TPCH tables\n",
    "def setupTPCHTables(spark: SparkSession, locationPath: str, size: str):\n",
    "    spark.sparkContext.setJobDescription(\"SETUP\")\n",
    "    tpchtables = [\"customer\", \"lineitem\", \"nation\", \"orders\", \"part\", \"partsupp\", \"region\", \"supplier\"]\n",
    "\n",
    "    print(\"Setting up TPCH tables\")\n",
    "\n",
    "    ntn = f\"\"\"create table nation (n_nationkey long, n_name string, n_regionkey long, n_comment string) using parquet location \"{locationPath}/tpch/{size}/parquet/partitioned/{size}_parquet/nation/\" options (\"compression\"=\"snappy\")\"\"\"\n",
    "    rgn = f\"\"\"create table region (r_regionkey long, r_name string, r_comment string) using parquet location \"{locationPath}/tpch/{size}/parquet/partitioned/{size}_parquet/region/\" options (\"compression\"=\"snappy\")\"\"\"\n",
    "    prtsupp = f\"\"\"create table partsupp (ps_partkey long, ps_suppkey long, ps_availqty int, ps_supplycost decimal(12, 2), ps_comment string) using parquet location \"{locationPath}/tpch/{size}/parquet/partitioned/{size}_parquet/partsupp/\" options (\"compression\"=\"snappy\")\"\"\"\n",
    "    supp = f\"\"\"create table supplier (s_suppkey long, s_name string, s_address string, s_nationkey long, s_phone string, s_acctbal decimal(12, 2), s_comment string) using parquet location \"{locationPath}/tpch/{size}/parquet/partitioned/{size}_parquet/supplier/\" options (\"compression\"=\"snappy\")\"\"\"\n",
    "    odrs = f\"\"\"create table orders (o_orderkey long, o_custkey long, o_orderstatus string, o_totalprice decimal(12, 2), o_orderdate date, o_orderpriority string, o_clerk string, o_shippriority int, o_comment string) using parquet partitioned by (o_orderdate) location \"{locationPath}/tpch/{size}/parquet/partitioned/{size}_parquet/orders/\" options (\"compression\"=\"snappy\")\"\"\"\n",
    "    cstmr = f\"\"\"create table customer (c_custkey long, c_name string, c_address string, c_nationkey long, c_phone string, c_acctbal decimal(12, 2), c_mktsegment string, c_comment string) using parquet partitioned by (c_mktsegment) location \"{locationPath}/tpch/{size}/parquet/partitioned/{size}_parquet/customer/\" options (\"compression\"=\"snappy\")\"\"\"\n",
    "    prt = f\"\"\"create table part (p_partkey long, p_name string, p_mfgr string, p_brand string, p_type string, p_size int, p_container string, p_retailprice decimal(12, 2), p_comment string) using parquet partitioned by (p_brand) location \"{locationPath}/tpch/{size}/parquet/partitioned/{size}_parquet/part/\" options (\"compression\"=\"snappy\")\"\"\"\n",
    "    litem = f\"\"\"create table lineitem (l_orderkey long, l_partkey long, l_suppkey long, l_linenumber int, l_quantity decimal(12, 2), l_extendedprice decimal(12, 2), l_discount decimal(12, 2), l_tax decimal(12,2), l_returnflag string, l_linestatus string, l_shipdate date, l_commitdate date, l_receiptdate date, l_shipinstruct string, l_shipmode string, l_comment string) USING parquet PARTITIONED BY (l_shipdate) LOCATION \"{locationPath}/tpch/{size}/parquet/partitioned/{size}_parquet/lineitem/\" options (\"compression\"=\"snappy\")\"\"\"\n",
    "\n",
    "    for table in tpchtables:\n",
    "        spark.sql(f\"DROP TABLE IF EXISTS {table}\")\n",
    "\n",
    "    spark.sql(ntn)\n",
    "    spark.sql(rgn)\n",
    "    spark.sql(prtsupp)\n",
    "    spark.sql(supp)\n",
    "    spark.sql(odrs)\n",
    "    spark.sql(cstmr)\n",
    "    spark.sql(prt)\n",
    "    spark.sql(litem)\n",
    "    spark.sql(\"msck repair table orders\")\n",
    "    spark.sql(\"msck repair table customer\")\n",
    "    spark.sql(\"msck repair table part\")\n",
    "    spark.sql(\"msck repair table lineitem\")\n",
    "    \n",
    "    print(\"TPCH Tables set up\")\n",
    "\n",
    "# Set up TPCDS tables\n",
    "def setupTPCDSTables(spark: SparkSession, locationPath: str, size: str):\n",
    "    spark.sparkContext.setJobDescription(\"SETUP\")\n",
    "    tpcdstables = [\"call_center\", \"catalog_page\", \"catalog_returns\", \"catalog_sales\", \"customer\", \"customer_address\", \"customer_demographics\", \"date_dim\", \"household_demographics\", \"income_band\", \"inventory\", \"item\", \"promotion\", \"reason\", \"ship_mode\", \"store\", \"store_returns\", \"store_sales\", \"time_dim\", \"warehouse\", \"web_page\", \"web_returns\", \"web_sales\", \"web_site\"]\n",
    "\n",
    "    print(\"Setting up TPCDS tables\")\n",
    "\n",
    "    store_sales = f\"\"\"create table store_sales using parquet location \"{locationPath}/tpcds/{size}/parquet/partitioned/{size}_parquet/store_sales/\" options (\"compression\"=\"snappy\")\"\"\"\n",
    "    store = f\"\"\"create table store using parquet location \"{locationPath}/tpcds/{size}/parquet/partitioned/{size}_parquet/store/\" options (\"compression\"=\"snappy\")\"\"\"\n",
    "    call_center = f\"\"\"create table call_center using parquet location \"{locationPath}/tpcds/{size}/parquet/partitioned/{size}_parquet/call_center/\" options (\"compression\"=\"snappy\")\"\"\"\n",
    "    catalog_page = f\"\"\"create table catalog_page using parquet location \"{locationPath}/tpcds/{size}/parquet/partitioned/{size}_parquet/catalog_page/\" options (\"compression\"=\"snappy\")\"\"\"\n",
    "    customer = f\"\"\"create table customer using parquet location \"{locationPath}/tpcds/{size}/parquet/partitioned/{size}_parquet/customer/\" options (\"compression\"=\"snappy\")\"\"\"\n",
    "    customer_address = f\"\"\"create table customer_address using parquet location \"{locationPath}/tpcds/{size}/parquet/partitioned/{size}_parquet/customer_address/\" options (\"compression\"=\"snappy\")\"\"\"\n",
    "    customer_demographics = f\"\"\"create table customer_demographics using parquet location \"{locationPath}/tpcds/{size}/parquet/partitioned/{size}_parquet/customer_demographics/\" options (\"compression\"=\"snappy\")\"\"\"\n",
    "    date_dim = f\"\"\"create table date_dim using parquet location \"{locationPath}/tpcds/{size}/parquet/partitioned/{size}_parquet/date_dim/\" options (\"compression\"=\"snappy\")\"\"\"\n",
    "    household_demographics = f\"\"\"create table household_demographics using parquet location \"{locationPath}/tpcds/{size}/parquet/partitioned/{size}_parquet/household_demographics/\" options (\"compression\"=\"snappy\")\"\"\"\n",
    "    income_band = f\"\"\"create table income_band using parquet location \"{locationPath}/tpcds/{size}/parquet/partitioned/{size}_parquet/income_band/\" options (\"compression\"=\"snappy\")\"\"\"\n",
    "    inventory = f\"\"\"create table inventory using parquet location \"{locationPath}/tpcds/{size}/parquet/partitioned/{size}_parquet/inventory/\" options (\"compression\"=\"snappy\")\"\"\"\n",
    "    item = f\"\"\"create table item using parquet location \"{locationPath}/tpcds/{size}/parquet/partitioned/{size}_parquet/item/\" options (\"compression\"=\"snappy\")\"\"\"\n",
    "    promotion = f\"\"\"create table promotion using parquet location \"{locationPath}/tpcds/{size}/parquet/partitioned/{size}_parquet/promotion/\" options (\"compression\"=\"snappy\")\"\"\"\n",
    "    reason = f\"\"\"create table reason using parquet location \"{locationPath}/tpcds/{size}/parquet/partitioned/{size}_parquet/reason/\" options (\"compression\"=\"snappy\")\"\"\"\n",
    "    ship_mode = f\"\"\"create table ship_mode using parquet location \"{locationPath}/tpcds/{size}/parquet/partitioned/{size}_parquet/ship_mode/\" options (\"compression\"=\"snappy\")\"\"\"\n",
    "    store_returns = f\"\"\"create table store_returns using parquet location \"{locationPath}/tpcds/{size}/parquet/partitioned/{size}_parquet/store_returns/\" options (\"compression\"=\"snappy\")\"\"\"\n",
    "    time_dim = f\"\"\"create table time_dim using parquet location \"{locationPath}/tpcds/{size}/parquet/partitioned/{size}_parquet/time_dim/\" options (\"compression\"=\"snappy\")\"\"\"\n",
    "    warehouse = f\"\"\"create table warehouse using parquet location \"{locationPath}/tpcds/{size}/parquet/partitioned/{size}_parquet/warehouse/\" options (\"compression\"=\"snappy\")\"\"\"\n",
    "    web_page = f\"\"\"create table web_page using parquet location \"{locationPath}/tpcds/{size}/parquet/partitioned/{size}_parquet/web_page/\" options (\"compression\"=\"snappy\")\"\"\"\n",
    "    web_returns = f\"\"\"create table web_returns using parquet location \"{locationPath}/tpcds/{size}/parquet/partitioned/{size}_parquet/web_returns/\" options (\"compression\"=\"snappy\")\"\"\"\n",
    "    web_sales = f\"\"\"create table web_sales using parquet location \"{locationPath}/tpcds/{size}/parquet/partitioned/{size}_parquet/web_sales/\" options (\"compression\"=\"snappy\")\"\"\"\n",
    "    web_site = f\"\"\"create table web_site using parquet location \"{locationPath}/tpcds/{size}/parquet/partitioned/{size}_parquet/web_site/\" options (\"compression\"=\"snappy\")\"\"\"\n",
    "    catalog_sales = f\"\"\"create table catalog_sales using parquet location \"{locationPath}/tpcds/{size}/parquet/partitioned/{size}_parquet/catalog_sales/\" options (\"compression\"=\"snappy\")\"\"\"\n",
    "    catalog_returns = f\"\"\"create table catalog_returns using parquet location \"{locationPath}/tpcds/{size}/parquet/partitioned/{size}_parquet/catalog_returns/\" options (\"compression\"=\"snappy\")\"\"\"\n",
    "\n",
    "    for table in tpcdstables:\n",
    "        spark.sql(f\"DROP TABLE IF EXISTS {table}\")\n",
    "\n",
    "    spark.sql(store_sales)\n",
    "    spark.sql(store)\n",
    "    spark.sql(call_center)\n",
    "    spark.sql(catalog_page)\n",
    "    spark.sql(customer)\n",
    "    spark.sql(customer_address)\n",
    "    spark.sql(customer_demographics)\n",
    "    spark.sql(date_dim)\n",
    "    spark.sql(household_demographics)\n",
    "    spark.sql(income_band)\n",
    "    spark.sql(inventory)\n",
    "    spark.sql(item)\n",
    "    spark.sql(promotion)\n",
    "    spark.sql(reason)\n",
    "    spark.sql(ship_mode)\n",
    "    spark.sql(store_returns)\n",
    "    spark.sql(time_dim)\n",
    "    spark.sql(warehouse)\n",
    "    spark.sql(web_page)\n",
    "    spark.sql(web_returns)\n",
    "    spark.sql(web_sales)\n",
    "    spark.sql(web_site)\n",
    "    spark.sql(catalog_sales)\n",
    "    spark.sql(catalog_returns)\n",
    "    spark.sql(\"alter table store_sales recover partitions\")\n",
    "    spark.sql(\"alter table catalog_sales recover partitions\")\n",
    "    spark.sql(\"alter table web_sales recover partitions\")\n",
    "    spark.sql(\"alter table catalog_returns recover partitions\")\n",
    "    spark.sql(\"alter table store_returns recover partitions\")\n",
    "    spark.sql(\"alter table web_returns recover partitions\")\n",
    "    spark.sql(\"alter table inventory recover partitions\")\n",
    "\n",
    "    print(\"TPCDS Tables set up\")\n",
    "\n",
    "# Returns list of query names in GCS folder of the given benchmark\n",
    "def getQueryNames(bucket_name: str, cluster_name: str, tier: str, benchmark: str) -> List[str]:\n",
    "    file_names = []\n",
    "    gcs_query_path = f\"{cluster_name}/{tier}/notebook_utils/{benchmark}-queries/\"\n",
    "    \n",
    "    try:\n",
    "        client = storage.Client()\n",
    "        bucket = client.get_bucket(bucket_name)\n",
    "        blobs = bucket.list_blobs(prefix=gcs_query_path)      \n",
    "        \n",
    "        for blob in blobs:\n",
    "            if not blob.name.endswith(\"/\"):  \n",
    "                relative_path = os.path.relpath(blob.name, gcs_query_path)\n",
    "                file_name = os.path.basename(relative_path)\n",
    "                name_without_suffix = file_name\n",
    "                dot_index = file_name.rfind('.')\n",
    "                if dot_index > 0:\n",
    "                    name_without_suffix = file_name[:dot_index]\n",
    "                file_names.append(name_without_suffix)\n",
    "\n",
    "        file_names.sort() \n",
    "        return file_names\n",
    "    \n",
    "    except Exception as e:\n",
    "        print(f\"Error listing files in 'gs://{bucket_name}/{gcs_query_path}': {e}\")\n",
    "        raise ValueError(f\"Failed to get query names from 'gs://{bucket_name}/{gcs_query_path}'\")\n",
    "\n",
    "# Returns the query string from given GCS path\n",
    "def getQuery(spark: SparkSession, gcsPath: str) -> str:\n",
    "    query = \"\"\n",
    "    try:\n",
    "        # Use Spark's textFile to read the content of the GCS file into an RDD\n",
    "        rdd = spark.sparkContext.textFile(gcsPath)\n",
    "        # Join all lines of the RDD with a new line\n",
    "        query = \"\\n\".join(rdd.collect())\n",
    "        return query\n",
    "    except Exception as e:\n",
    "        if \"java.io.FileNotFoundException\" in str(e):\n",
    "            print(f\"Error: File not found at path '{gcsPath}'\")\n",
    "        else:\n",
    "            print(f\"An error occurred while reading '{gcsPath}': {e}\")\n",
    "        return \"\"\n",
    "\n",
    "# Measure query runtime in ms\n",
    "def measureTimeMs(query: str) -> int:\n",
    "    try:\n",
    "        start_time = time.perf_counter()\n",
    "        spark.sql(query).collect()\n",
    "        end_time = time.perf_counter()\n",
    "        elapsedTime = end_time - start_time\n",
    "        elapsedTime = elapsedTime * 1000\n",
    "        elapsedTime = round(elapsedTime)\n",
    "        return elapsedTime\n",
    "    except Exception as e:\n",
    "        print(f\"Error running query: {query}\\nError: {e}\")\n",
    "        return -1\n",
    "\n",
    "# Write query runtimes to given GCS path\n",
    "def write_query_runtimes_to_gcs_csv(\n",
    "    runtime_data: List[Tuple[str, int]],\n",
    "    result_location: str\n",
    "):\n",
    "    if not runtime_data:\n",
    "        print(\"No data to write to CSV.\")\n",
    "        return\n",
    "    \n",
    "    billing_pag_url = \"https://cloud.google.com/products/calculator?hl=en&dl=CjhDaVJqWkRjelptRTJNaTAxTVRsbUxUUmhZakV0WVdVM1pDMDNOR000WWpZM01qSTRORGNRQVE9PRAwGiRGNzQ1ODdGMC0yMEQ2LTQ2MzItQkEwMS05NjgwRDRBQjUzQzQ\"\n",
    "\n",
    "    path_without_prefix = result_location[len(\"gs://\"):]\n",
    "    parts = path_without_prefix.split('/', 1)\n",
    "\n",
    "    if len(parts) == 2:\n",
    "        gcs_bucket_name = parts[0]\n",
    "        gcs_file_path = parts[1]\n",
    "    else: \n",
    "        raise ValueError(f\"Invalid result location!\")\n",
    "\n",
    "    # Create an in-memory file-like object\n",
    "    csv_buffer = io.StringIO()\n",
    "\n",
    "    # Create a CSV writer object\n",
    "    csv_writer = csv.writer(csv_buffer)\n",
    "    \n",
    "    csv_writer.writerow([\"Runtime Performance\"])\n",
    "\n",
    "    # Write the header row\n",
    "    csv_writer.writerow([\"Query_Id\", \"Runtime (in ms)\"])\n",
    "\n",
    "    # Write the data rows\n",
    "    for query_id, runtime in runtime_data:\n",
    "        csv_writer.writerow([query_id, runtime])\n",
    "    \n",
    "    csv_writer.writerow([])\n",
    "    csv_writer.writerow([\"Cost Performance\"])\n",
    "    csv_writer.writerow([f\"To estimate the cost of this run, copy the runtime hours and paste them into the Dataproc Cost Estimator available through the following link\"])\n",
    "    csv_writer.writerow([f\"{billing_pag_url}\"])\n",
    "    total_runtime = runtime_data[0][1]\n",
    "    csv_writer.writerow([f\"Total Runtime (in hours) : {round(total_runtime/3600000,4)}\"])  \n",
    "\n",
    "    # Get the CSV data from the buffer\n",
    "    csv_data = csv_buffer.getvalue()\n",
    "\n",
    "    # Initialize the GCS client\n",
    "    storage_client = storage.Client()\n",
    "    bucket = storage_client.bucket(gcs_bucket_name)\n",
    "    blob = bucket.blob(gcs_file_path)\n",
    "\n",
    "    try:\n",
    "        # Upload the CSV data to GCS\n",
    "        blob.upload_from_string(csv_data, content_type=\"text/csv\")\n",
    "        print(f\"Runtime results successfully written to {result_location}\")\n",
    "    except Exception as e:\n",
    "        print(f\"Error writing to GCS: {e}\")\n",
    "\n",
    "# Run TPC benchmark\n",
    "def runTPCBenchmark(spark: SparkSession, benchmark: str, benchmark_configs: dict[str, str], bucket_name: str, cluster_name: str, run_id: str, runtype: str, tier: str):\n",
    "    size = benchmark_configs.get(\"size\", \"\")\n",
    "    file_format = benchmark_configs.get(\"file_format\", \"\")   \n",
    "    prefix_location_path = f\"gs://{bucket_name}/{cluster_name}/{tier}\"\n",
    "    query_folder = f\"{prefix_location_path}/notebook_utils\"\n",
    "    query_names = getQueryNames(bucket_name,cluster_name,tier,benchmark)\n",
    "    result_location = f\"{prefix_location_path}/{runtype}/output/{file_format}/{benchmark}/{size}/{run_id}.csv\"\n",
    "\n",
    "    \n",
    "    if benchmark == \"tpch\":\n",
    "        queries_to_run = benchmark_configs.get(\"TPCH_queries_to_run\", \"\")\n",
    "        print(f\"Running benchmark: {benchmark}, size: {size}, queries to run: {queries_to_run}, runtime engine: {runtype}\")\n",
    "        \n",
    "        setupTPCHTables(spark,prefix_location_path,size)\n",
    "        \n",
    "        print(\"--------Running TPCH Benchmark with following configurations--------\")\n",
    "        \n",
    "    elif benchmark == \"tpcds\":\n",
    "        queries_to_run = benchmark_configs.get(\"TPCDS_queries_to_run\", \"\")\n",
    "        print(f\"Running benchmark: {benchmark}, size: {size}, queries to run: {queries_to_run}, runtime engine: {runtype}\")\n",
    "        \n",
    "        setupTPCDSTables(spark,prefix_location_path,size)\n",
    "        \n",
    "        print(\"--------Running TPCDS Benchmark with following configurations--------\")\n",
    "        \n",
    "    else:\n",
    "        print(f\"Unrecognised benchmark name {benchmark}\")\n",
    "        return\n",
    "    \n",
    "    \n",
    "    print(f\"Queries to run: {queries_to_run}\")\n",
    "    print(f\"Benchmark: {benchmark}\")\n",
    "    print(f\"Result Location: {result_location}\")\n",
    "    print(f\"Scale Factor: {size}\")\n",
    "    print(f\"File Format: {file_format}\")    \n",
    "    print(\"--------------------------------------------------------------------\")\n",
    "    \n",
    "    \n",
    "    runtime: List[Tuple[str, int]] = []\n",
    "\n",
    "    filtered_query_names = []\n",
    "    if queries_to_run.strip() == \"all\":\n",
    "        filtered_query_names = query_names\n",
    "    elif queries_to_run:\n",
    "        queries_to_run_list = [q.strip() for q in queries_to_run.split(',')] # Split by comma if multiple queries\n",
    "        filtered_query_names = [q for q in query_names if q in queries_to_run_list]\n",
    "    \n",
    "    for query_name in filtered_query_names:\n",
    "        query_path = f\"{query_folder}/{benchmark}-queries/{query_name}.sql\"\n",
    "        query = getQuery(spark, query_path)\n",
    "        if query:\n",
    "            print(f\"Running {benchmark} query {query_name}\")\n",
    "            spark.sparkContext.setJobDescription(query_name)\n",
    "            query_run_time = measureTimeMs(query)\n",
    "            if query_run_time != -1:                            \n",
    "                print(f\"{benchmark} query {query_name} ran in {query_run_time} ms\")\n",
    "                runtime.append((query_name, query_run_time))\n",
    "            else:\n",
    "                print(f\"{benchmark} query {query_name} failed.\")\n",
    "                runtime.append((query_name, 0))                \n",
    "        else:\n",
    "            print(f\"Skipping query {query_name} due to reading error.\")\n",
    "\n",
    "    query_ids = [item[0] for item in runtime]\n",
    "    runtimes = [item[1] for item in runtime]\n",
    "    \n",
    "    headers=[\"QueryId\", \"Runtime(in ms)\"]\n",
    "    total_runtime = sum(runtime_ms for _, runtime_ms in runtime)\n",
    "    runtime.insert(0,(\"Sum\",total_runtime))\n",
    "    \n",
    "    table = PrettyTable()\n",
    "    table.field_names = headers\n",
    "    table.add_rows(runtime)\n",
    "    table.hrules = HRuleStyle.ALL\n",
    "    print(table)\n",
    "    \n",
    "    plt.figure(figsize=(25, 15)) \n",
    "    plt.bar(query_ids, runtimes, color='skyblue')\n",
    "    plt.xlabel(\"Query Id\", fontsize=20)\n",
    "    plt.ylabel(\"Runtime (in ms)\", fontsize=20)\n",
    "    plt.title(f\"Query Runtimes for {benchmark} {size} (Runtype: {runtype}, File format: {file_format})\", fontsize=25)\n",
    "    plt.xticks(rotation=90, ha='right',fontsize=15)  \n",
    "    plt.yticks(fontsize=20)\n",
    "    plt.tight_layout()  \n",
    "    plt.show()\n",
    "    \n",
    "    print(\"----------------------------------------------------------------------------------------------------------\")\n",
    "    \n",
    "    # Write results to GCS bucket\n",
    "    print(f\"Writing to GCS bucket {bucket_name}\")\n",
    "    write_query_runtimes_to_gcs_csv(runtime, result_location)    \n",
    "    \n",
    "    print(\"----------------------------------------------------------------------------------------------------------\")\n",
    "    # Gracefully stopping the spark application and cleaning up yarn resources\n",
    "    app_id = spark.sparkContext.applicationId\n",
    "    spark.stop()\n",
    "    cleanup_yarn_application(app_id)\n",
    "    \n",
    "    \n",
    "################################################ Terminate Previous Spark Application ############################################\n",
    "\n",
    "# Reads the application ID from the given GCS path\n",
    "def read_app_id_from_gcs(gcs_uri: str) -> str or None:\n",
    "    try:\n",
    "        storage_client = storage.Client()\n",
    "        match = re.match(r\"gs://([^/]+)/(.*)\", gcs_uri)\n",
    "        if not match:\n",
    "            print(f\"Error: Invalid GCS URI format: {gcs_uri}\")\n",
    "            return None\n",
    "\n",
    "        bucket_name = match.group(1)\n",
    "        blob_name = match.group(2)\n",
    "        bucket = storage_client.bucket(bucket_name)\n",
    "        blob = bucket.blob(blob_name)\n",
    "\n",
    "        try:\n",
    "            app_id = blob.download_as_text()\n",
    "            return app_id.strip()\n",
    "        except storage.exceptions.NotFound:\n",
    "            print(f\"Error: GCS file not found at: {gcs_uri}\")\n",
    "            return None\n",
    "        except Exception as e:\n",
    "            print(f\"Error downloading from GCS: {e}\")\n",
    "            return None\n",
    "\n",
    "    except Exception as e:\n",
    "        print(f\"Error initializing GCS client or parsing URI: {e}\")\n",
    "        return None\n",
    "\n",
    "# Writes the current application ID to the given GCS path\n",
    "def write_app_id_to_gcs(gcs_uri: str, app_id: str):\n",
    "    try:\n",
    "        storage_client = storage.Client()\n",
    "        match = re.match(r\"gs://([^/]+)/(.*)\", gcs_uri)\n",
    "        if not match:\n",
    "            print(f\"Error: Invalid GCS URI format: {gcs_uri}. Could not write current application id to GCS.\")\n",
    "            return \n",
    "\n",
    "        bucket_name = match.group(1)\n",
    "        blob_name = match.group(2)\n",
    "        bucket = storage_client.bucket(bucket_name)\n",
    "        blob = bucket.blob(blob_name)\n",
    "\n",
    "        try:\n",
    "            blob.upload_from_string(app_id, content_type=\"text/plain\")\n",
    "            print(f\"Current Spark application ID '{app_id}' written to GCS: {gcs_uri}\")\n",
    "        except Exception as e:\n",
    "            print(f\"Error uploading to GCS: {e}\")\n",
    "            return\n",
    "\n",
    "    except Exception as e:\n",
    "        print(f\"Error initializing GCS client or parsing URI: {e}\")\n",
    "        return\n",
    "\n",
    "# Returns GCS path containing the application id of previous spark application\n",
    "def get_previous_app_id_file(bucket_name: str, cluster_name: str) -> str or None:\n",
    "    storage_client = storage.Client()\n",
    "    bucket = storage_client.bucket(bucket_name)\n",
    "    folder_path=f\"{cluster_name}/app_ids/\"\n",
    "    blobs = list(bucket.list_blobs(prefix=folder_path))\n",
    "\n",
    "    if not blobs:\n",
    "        return None\n",
    "\n",
    "    latest_blob = max(blobs, key=lambda blob: blob.time_created)\n",
    "    return f\"gs://{bucket_name}/{latest_blob.name}\"\n",
    "\n",
    "# Kills spark application from previous kernel if it's still running\n",
    "def kill_previous_spark_application(bucket_name: str, cluster_name: str):\n",
    "    previous_app_id_file = get_previous_app_id_file(bucket_name, cluster_name)\n",
    "    folder_name = f\"{cluster_name}/app_ids/\"\n",
    "    \n",
    "    if not previous_app_id_file :\n",
    "        print(f\"No application id found in given path: gs://{bucket_name}/{folder_name}\")\n",
    "        return\n",
    "    \n",
    "    app_id = read_app_id_from_gcs(previous_app_id_file)\n",
    "    \n",
    "    if not app_id:\n",
    "        print(f\"No application id found in given path: {previous_app_id_file}\")\n",
    "        return\n",
    "    \n",
    "    print(f\"Attempting to kill previous Spark application: {app_id}\")\n",
    "    command = [\"yarn\", \"application\", \"-kill\", app_id]\n",
    "    process = subprocess.run(command, capture_output=True, text=True, check=False)\n",
    "\n",
    "    if process.returncode == 0:\n",
    "        print(f\"Successfully initiated kill for application: {app_id}\")\n",
    "        return\n",
    "    else:\n",
    "        print(f\"Could not kill application {app_id}:\")\n",
    "        print(f\"Stdout: {process.stdout}\")\n",
    "        print(f\"Stderr: {process.stderr}\")\n",
    "        return    \n",
    "\n",
    "# Returns application state\n",
    "def get_yarn_app_state(app_id: str):\n",
    "    try:\n",
    "        command = f\"yarn application -status {app_id}\"\n",
    "        process = subprocess.run(command, shell=True, capture_output=True, text=True, check=False)\n",
    "        output = process.stdout\n",
    "        for line in output.splitlines():\n",
    "            if \"State :\" in line:\n",
    "                return line.split(\":\")[-1].strip()\n",
    "        return \"UNKNOWN\"\n",
    "    except Exception as e:\n",
    "        print(f\"Error getting YARN application status: {e}\")\n",
    "        return \"UNKNOWN\"\n",
    "\n",
    "# Returns application Id of currently running spark application\n",
    "def get_spark_app_id_from_session():\n",
    "    spark = SparkSession.getActiveSession()\n",
    "    if spark:\n",
    "        return spark.sparkContext.applicationId\n",
    "    return None\n",
    "\n",
    "\n",
    "# Kills the first spark application that gets created when starting kernel\n",
    "def kill_initial_spark_application():\n",
    "    \n",
    "    existing_spark = SparkSession.getActiveSession()\n",
    "    old_app_id = get_spark_app_id_from_session()\n",
    "\n",
    "    if existing_spark:\n",
    "        print(f\"An existing SparkSession found (App ID: {old_app_id}). Stopping it...\")\n",
    "        existing_spark.stop()\n",
    "        print(\"Existing SparkSession stopped.\")\n",
    "        cleanup_yarn_application(old_app_id)\n",
    "\n",
    "# Waits until the current application is cleaned up from yarn\n",
    "def cleanup_yarn_application(app_id: str,timeout=120,check_interval=10):\n",
    "    wait_time = 0\n",
    "    yarn_state = \"RUNNING\" if app_id else \"FINISHED\"\n",
    "\n",
    "    if app_id:\n",
    "        while yarn_state not in [\"FINISHED\", \"KILLED\", \"FAILED\"] and wait_time < timeout:\n",
    "            yarn_state = get_yarn_app_state(app_id)\n",
    "            print(f\"Waiting for old YARN application (ID: {app_id}) to finish. Current state: {yarn_state} ({wait_time}/{timeout}s)\")\n",
    "            time.sleep(check_interval)\n",
    "            wait_time += check_interval\n",
    "\n",
    "        if yarn_state in [\"FINISHED\", \"KILLED\", \"FAILED\"]:\n",
    "            print(f\"Old YARN application (ID: {app_id}) has finished with state: {yarn_state}.\")\n",
    "        else:\n",
    "            print(f\"Timeout reached ({timeout}s) while waiting for old YARN application (ID: {app_id}) to finish. Proceeding with caution.\")\n",
    "    else:\n",
    "        print(\"No initial Spark application ID found.\")    "
   ]
  },
  {
   "cell_type": "markdown",
   "id": "b27ca463-6ec6-4c32-bbe1-4ffd39af4850",
   "metadata": {},
   "source": [
    "### DPGCE Premium with Lightning Engine"
   ]
  },
  {
   "cell_type": "markdown",
   "id": "c8854323-68f3-4a29-9339-cee179f9f1ad",
   "metadata": {},
   "source": [
    "#### Defining the Run Id\n",
    "The following cell defines a unique identifier for the current notebook execution. This Run Id can be used in the `Run_Comparison_Notebook` for Runtime and Cost performance comparison"
   ]
  },
  {
   "cell_type": "code",
   "execution_count": 12,
   "id": "87f8da7c-f596-4110-b012-9e9d08a2e309",
   "metadata": {
    "tags": []
   },
   "outputs": [
    {
     "name": "stdout",
     "output_type": "stream",
     "text": [
      "The Run Id for current notebook session is dpgce_premium_spark_parquet_sf1000_tpch_tpcds_dpgce-benchmarking-premium-2_us-east1_2025-08-06_09-31-21\n"
     ]
    }
   ],
   "source": [
    "RUNTYPE = \"spark\"\n",
    "RUN_ID = f\"dpgce_{TIER}_{RUNTYPE}_{file_format}_{size}_{first_benchmark}\"\n",
    "\n",
    "if second_benchmark is not None:\n",
    "    RUN_ID+=f\"_{second_benchmark}\"\n",
    "\n",
    "from datetime import datetime, timezone\n",
    "now_utc = datetime.now(timezone.utc)\n",
    "timestamp_str = now_utc.strftime(\"%Y-%m-%d_%H-%M-%S\")\n",
    "\n",
    "RUN_ID+=f\"_{CLUSTER_NAME}_{REGION}\"\n",
    "\n",
    "RUN_ID+=f\"_{timestamp_str}\"\n",
    "print(f\"The Run Id for current notebook session is {RUN_ID}\")"
   ]
  },
  {
   "cell_type": "markdown",
   "id": "1735d258-87ad-45ef-93d9-7716b042ac37",
   "metadata": {},
   "source": [
    "#### First Benchmark "
   ]
  },
  {
   "cell_type": "markdown",
   "id": "e258a735-8d12-4f5c-b20c-3f813229cbfa",
   "metadata": {},
   "source": [
    "##### Terminate Previous Spark Application\n",
    "Terminates any active Spark applications currently running."
   ]
  },
  {
   "cell_type": "code",
   "execution_count": 13,
   "id": "fadeee75-6a6f-4be5-9b31-9ed57ef39fa7",
   "metadata": {
    "tags": []
   },
   "outputs": [
    {
     "name": "stdout",
     "output_type": "stream",
     "text": [
      "An existing SparkSession found (App ID: application_1754464177981_0004). Stopping it...\n",
      "Existing SparkSession stopped.\n",
      "Waiting for old YARN application (ID: application_1754464177981_0004) to finish. Current state: FINISHED (0/120s)\n",
      "Old YARN application (ID: application_1754464177981_0004) has finished with state: FINISHED.\n",
      "----------------------------------------------------------------------------\n",
      "Attempting to kill previous Spark application: application_1754464177981_0002\n",
      "Successfully initiated kill for application: application_1754464177981_0002\n"
     ]
    }
   ],
   "source": [
    "# Kill Spark App Launched at Kernel Start\n",
    "kill_initial_spark_application()\n",
    "\n",
    "print(\"----------------------------------------------------------------------------\")\n",
    "\n",
    "# Kill currently running Spark Apps (if any from previous kernel)\n",
    "kill_previous_spark_application(BUCKET_NAME,CLUSTER_NAME)"
   ]
  },
  {
   "cell_type": "markdown",
   "id": "db021dde-54ac-4270-bfff-c94d3a4d515e",
   "metadata": {},
   "source": [
    "##### Start Spark Session\n",
    "\n",
    "In the following step, spark properties are set to run benchmarks."
   ]
  },
  {
   "cell_type": "code",
   "execution_count": 14,
   "id": "b49704b5-c651-4a0a-b3fb-2461a919fe89",
   "metadata": {
    "tags": []
   },
   "outputs": [
    {
     "name": "stdout",
     "output_type": "stream",
     "text": [
      "Spark Application Name: tpch dpgce premium benchmark run\n",
      "Spark Application ID: application_1754464177981_0005\n",
      "Spark Session ID: application_1754464177981_0005\n",
      "Spark Dataproc Engine: lightningEngine\n",
      "Spark Lightning Engine: default\n",
      "Spark Version: 3.5.3\n",
      "Spark Master: yarn\n",
      "Current Spark application ID 'application_1754464177981_0005' written to GCS: gs://sparkpoc-bucket-dpgce-premium-279814974066-us-east1/dpgce-benchmarking-premium-2/app_ids/application_1754464177981_0005.txt\n"
     ]
    }
   ],
   "source": [
    "#  Start new Spark session with specified configurations\n",
    "#  tier = premium enables following two properties by default -\n",
    "#  spark.dataproc.engine=lightningEngine\n",
    "#  spark.dataproc.lightningEngine.runtime=default\n",
    "\n",
    "spark_configs = {\n",
    "    \"spark.dynamicAllocation.enabled\": \"false\",\n",
    "    \"spark.hadoop.fs.gs.grpc.enable\": \"false\"\n",
    "}\n",
    "\n",
    "if(size == \"sf10000\"):\n",
    "    spark_configs[\"spark.executor.instances\"] = \"27\"\n",
    "else:\n",
    "    spark_configs[\"spark.executor.instances\"] = \"10\"    \n",
    "\n",
    "spark_builder = SparkSession.builder.appName(f\"{first_benchmark} dpgce premium benchmark run\").enableHiveSupport()\n",
    "# Set the logger to display only ERROR logs\n",
    "logger = sc._jvm.org.apache.logging.log4j\n",
    "logger.core.config.Configurator.setAllLevels(\"org\",logger.Level.ERROR)\n",
    "\n",
    "for key, value in spark_configs.items():\n",
    "    spark_builder.config(key, value)\n",
    "\n",
    "spark = spark_builder.getOrCreate()\n",
    "\n",
    "print(f\"Spark Application Name: {spark.sparkContext.appName}\")\n",
    "print(f\"Spark Application ID: {spark.sparkContext.applicationId}\")\n",
    "print(f\"Spark Session ID: {spark.sparkContext._jsc.sc().applicationId()}\")\n",
    "print(f\"Spark Dataproc Engine: {spark.conf.get('spark.dataproc.engine')}\")\n",
    "print(f\"Spark Lightning Engine: {spark.conf.get('spark.dataproc.lightningEngine.runtime')}\")\n",
    "print(f\"Spark Version: {spark.version}\")\n",
    "print(f\"Spark Master: {spark.sparkContext.master}\")\n",
    "\n",
    "# Writing current spark application id to GCS bucket\n",
    "current_app_id = spark.sparkContext.applicationId\n",
    "path_to_app_id = f\"gs://{BUCKET_NAME}/{CLUSTER_NAME}/app_ids/{current_app_id}.txt\"\n",
    "write_app_id_to_gcs(path_to_app_id,current_app_id) "
   ]
  },
  {
   "cell_type": "markdown",
   "id": "ba8022c0-c543-4b0a-864d-ffbc58df8420",
   "metadata": {},
   "source": [
    "##### Run Benchmark\n",
    "The following cell runs the first benchmark with the configurations passed.\n",
    "\n",
    "**NOTE - After every benchmark run is complete, it terminates the existing spark session. New spark session is created for each run.**"
   ]
  },
  {
   "cell_type": "code",
   "execution_count": null,
   "id": "39a3e5c8-1c23-4269-b0c5-a035bdec3a60",
   "metadata": {
    "tags": []
   },
   "outputs": [
    {
     "name": "stdout",
     "output_type": "stream",
     "text": [
      "Running benchmark: tpch, size: sf1000, queries to run: all, runtime engine: spark\n",
      "Setting up TPCH tables\n"
     ]
    },
    {
     "name": "stderr",
     "output_type": "stream",
     "text": [
      "ivysettings.xml file not found in HIVE_HOME or HIVE_CONF_DIR,/etc/hive/conf.dist/ivysettings.xml will be used\n",
      "                                                                                \r"
     ]
    },
    {
     "name": "stdout",
     "output_type": "stream",
     "text": [
      "TPCH Tables set up\n",
      "--------Running TPCH Benchmark with following configurations--------\n",
      "Queries to run: all\n",
      "Benchmark: tpch\n",
      "Result Location: gs://sparkpoc-bucket-dpgce-premium-279814974066-us-east1/dpgce-benchmarking-premium-2/premium/spark/output/parquet/tpch/sf1000/dpgce_premium_spark_parquet_sf1000_tpch_tpcds_dpgce-benchmarking-premium-2_us-east1_2025-08-06_09-31-21.csv\n",
      "Scale Factor: sf1000\n",
      "File Format: parquet\n",
      "--------------------------------------------------------------------\n",
      "Running tpch query q1\n"
     ]
    },
    {
     "name": "stderr",
     "output_type": "stream",
     "text": [
      "                                                                                \r"
     ]
    },
    {
     "name": "stdout",
     "output_type": "stream",
     "text": [
      "tpch query q1 ran in 131439 ms\n",
      "Running tpch query q10\n"
     ]
    },
    {
     "name": "stderr",
     "output_type": "stream",
     "text": [
      "                                                                                \r"
     ]
    },
    {
     "name": "stdout",
     "output_type": "stream",
     "text": [
      "tpch query q10 ran in 50892 ms\n",
      "Running tpch query q11\n"
     ]
    },
    {
     "name": "stderr",
     "output_type": "stream",
     "text": [
      "                                                                                \r"
     ]
    },
    {
     "name": "stdout",
     "output_type": "stream",
     "text": [
      "tpch query q11 ran in 16573 ms\n",
      "Running tpch query q12\n"
     ]
    },
    {
     "name": "stderr",
     "output_type": "stream",
     "text": [
      "                                                                                \r"
     ]
    },
    {
     "name": "stdout",
     "output_type": "stream",
     "text": [
      "tpch query q12 ran in 36095 ms\n",
      "Running tpch query q13\n"
     ]
    },
    {
     "name": "stderr",
     "output_type": "stream",
     "text": [
      "                                                                                \r"
     ]
    },
    {
     "name": "stdout",
     "output_type": "stream",
     "text": [
      "tpch query q13 ran in 57266 ms\n",
      "Running tpch query q14\n"
     ]
    },
    {
     "name": "stderr",
     "output_type": "stream",
     "text": [
      "                                                                                \r"
     ]
    },
    {
     "name": "stdout",
     "output_type": "stream",
     "text": [
      "tpch query q14 ran in 7608 ms\n",
      "Running tpch query q15\n"
     ]
    },
    {
     "name": "stderr",
     "output_type": "stream",
     "text": [
      "                                                                                \r"
     ]
    },
    {
     "name": "stdout",
     "output_type": "stream",
     "text": [
      "tpch query q15 ran in 19318 ms\n",
      "Running tpch query q16\n"
     ]
    },
    {
     "name": "stderr",
     "output_type": "stream",
     "text": [
      "                                                                                \r"
     ]
    },
    {
     "name": "stdout",
     "output_type": "stream",
     "text": [
      "tpch query q16 ran in 23653 ms\n",
      "Running tpch query q17\n"
     ]
    },
    {
     "name": "stderr",
     "output_type": "stream",
     "text": [
      "                                                                                \r"
     ]
    },
    {
     "name": "stdout",
     "output_type": "stream",
     "text": [
      "tpch query q17 ran in 38111 ms\n",
      "Running tpch query q18\n"
     ]
    },
    {
     "name": "stderr",
     "output_type": "stream",
     "text": [
      "[Stage 286:=========>  (111 + 34) / 145][Stage 289:============>(118 + 7) / 125]]]\r"
     ]
    }
   ],
   "source": [
    "# Run first benchmark\n",
    "runTPCBenchmark(spark,first_benchmark,benchmark_configs,BUCKET_NAME,CLUSTER_NAME,RUN_ID,RUNTYPE,TIER)"
   ]
  },
  {
   "cell_type": "markdown",
   "id": "fdd87ab6-5b3a-48c5-b7fa-086b3576204a",
   "metadata": {},
   "source": [
    "#### Second Benchmark"
   ]
  },
  {
   "cell_type": "markdown",
   "id": "2279a061-21cd-42e8-88bf-100ea8c1d0a2",
   "metadata": {},
   "source": [
    "##### Terminate Previous Spark Application\n",
    "Terminates any active Spark applications currently running."
   ]
  },
  {
   "cell_type": "code",
   "execution_count": null,
   "id": "2d47423f-b46b-4993-9757-642f8c209158",
   "metadata": {
    "tags": []
   },
   "outputs": [],
   "source": [
    "if second_benchmark is not None:\n",
    "    \n",
    "    # Kill Spark App Launched at Kernel Start\n",
    "    kill_initial_spark_application()\n",
    "    \n",
    "    print(\"----------------------------------------------------------------------------\")\n",
    "    \n",
    "    # Kill currently running Spark Apps (if any from previous kernel)\n",
    "    kill_previous_spark_application(BUCKET_NAME,CLUSTER_NAME)\n",
    "else:\n",
    "    print(\"Second benchmark is empty!\")\n",
    "    print(\"Skipping this step.\")"
   ]
  },
  {
   "cell_type": "markdown",
   "id": "fca36856-161c-4f15-a209-ec516050438e",
   "metadata": {},
   "source": [
    "##### Start Spark Session\n",
    "\n",
    "In the following step, spark properties are set to run benchmarks."
   ]
  },
  {
   "cell_type": "code",
   "execution_count": null,
   "id": "c00b06cf-33d3-474f-a146-ba1d2631679f",
   "metadata": {
    "tags": []
   },
   "outputs": [],
   "source": [
    "if second_benchmark is not None:\n",
    "    \n",
    "    #  Start new Spark session with specified configurations\n",
    "    #  tier = premium enables following two properties by default -\n",
    "    #  spark.dataproc.engine=lightningEngine\n",
    "    #  spark.dataproc.lightningEngine.runtime=default\n",
    "    spark_configs = {\n",
    "        \"spark.dynamicAllocation.enabled\": \"false\",\n",
    "        \"spark.hadoop.fs.gs.grpc.enable\": \"false\"     \n",
    "    }\n",
    "    \n",
    "    if(size == \"sf10000\"):\n",
    "        spark_configs[\"spark.executor.instances\"] = \"27\"\n",
    "    else:\n",
    "        spark_configs[\"spark.executor.instances\"] = \"10\"        \n",
    "\n",
    "    spark_builder = SparkSession.builder.appName(f\"{second_benchmark} dpgce premium benchmark run\").enableHiveSupport()\n",
    "\n",
    "    # Set the logger to display only ERROR logs\n",
    "    logger = sc._jvm.org.apache.logging.log4j\n",
    "    logger.core.config.Configurator.setAllLevels(\"org\",logger.Level.ERROR)\n",
    "\n",
    "    for key, value in spark_configs.items():\n",
    "        spark_builder.config(key, value)\n",
    "\n",
    "    spark = spark_builder.getOrCreate()\n",
    "\n",
    "    print(f\"Spark Application Name: {spark.sparkContext.appName}\")\n",
    "    print(f\"Spark Application ID: {spark.sparkContext.applicationId}\")\n",
    "    print(f\"Spark Session ID: {spark.sparkContext._jsc.sc().applicationId()}\")\n",
    "    print(f\"Spark Version: {spark.version}\")\n",
    "    print(f\"Spark Master: {spark.sparkContext.master}\")\n",
    "\n",
    "    # Writing current spark application id to GCS bucket\n",
    "    current_app_id = spark.sparkContext.applicationId\n",
    "    path_to_app_id = f\"gs://{BUCKET_NAME}/{CLUSTER_NAME}/app_ids/{current_app_id}.txt\"\n",
    "    write_app_id_to_gcs(path_to_app_id,current_app_id)\n",
    "\n",
    "else:\n",
    "    print(\"Second benchmark is empty!\")\n",
    "    print(\"Skipping this step.\")    "
   ]
  },
  {
   "cell_type": "markdown",
   "id": "3dda8d4f-2506-46eb-bc11-12f78dcf57fc",
   "metadata": {},
   "source": [
    "##### Run Benchmark\n",
    "The following cell runs the second benchmark with the configurations passed.\n",
    "\n",
    "**NOTE - After every benchmark run is complete, it terminates the existing spark session. New spark session is created for each run.**"
   ]
  },
  {
   "cell_type": "code",
   "execution_count": null,
   "id": "9db47e2a-fc57-44b5-b419-c25c0339d66d",
   "metadata": {
    "tags": []
   },
   "outputs": [
    {
     "name": "stderr",
     "output_type": "stream",
     "text": [
      "                                                                                \r"
     ]
    },
    {
     "name": "stdout",
     "output_type": "stream",
     "text": [
      "TPCDS Tables set up\n",
      "--------Running TPCDS Benchmark with following configurations--------\n",
      "Queries to run: all\n",
      "Benchmark: tpcds\n",
      "Result Location: gs://sparkpoc-bucket-dpgce-premium-279814974066-us-east1/dpgce-benchmarking-premium-2/premium/spark/output/parquet/tpcds/sf1000/dpgce_premium_spark_parquet_sf1000_tpch_tpcds_dpgce-benchmarking-premium-2_us-east1_2025-08-06_09-31-21.csv\n",
      "Scale Factor: sf1000\n",
      "File Format: parquet\n",
      "--------------------------------------------------------------------\n",
      "Running tpcds query q1\n"
     ]
    },
    {
     "name": "stderr",
     "output_type": "stream",
     "text": [
      "                                                                                \r"
     ]
    },
    {
     "name": "stdout",
     "output_type": "stream",
     "text": [
      "tpcds query q1 ran in 10339 ms\n",
      "Running tpcds query q10\n"
     ]
    },
    {
     "name": "stderr",
     "output_type": "stream",
     "text": [
      "                                                                                \r"
     ]
    },
    {
     "name": "stdout",
     "output_type": "stream",
     "text": [
      "tpcds query q10 ran in 8944 ms\n",
      "Running tpcds query q11\n"
     ]
    },
    {
     "name": "stderr",
     "output_type": "stream",
     "text": [
      "                                                                                \r"
     ]
    },
    {
     "name": "stdout",
     "output_type": "stream",
     "text": [
      "tpcds query q11 ran in 35222 ms\n",
      "Running tpcds query q12\n"
     ]
    },
    {
     "name": "stderr",
     "output_type": "stream",
     "text": [
      "                                                                                \r"
     ]
    },
    {
     "name": "stdout",
     "output_type": "stream",
     "text": [
      "tpcds query q12 ran in 2732 ms\n",
      "Running tpcds query q13\n"
     ]
    },
    {
     "name": "stderr",
     "output_type": "stream",
     "text": [
      "                                                                                \r"
     ]
    },
    {
     "name": "stdout",
     "output_type": "stream",
     "text": [
      "tpcds query q13 ran in 8162 ms\n",
      "Running tpcds query q14a\n"
     ]
    },
    {
     "name": "stderr",
     "output_type": "stream",
     "text": [
      "                                                                                \r"
     ]
    },
    {
     "name": "stdout",
     "output_type": "stream",
     "text": [
      "tpcds query q14a ran in 45732 ms\n",
      "Running tpcds query q14b\n"
     ]
    },
    {
     "name": "stderr",
     "output_type": "stream",
     "text": [
      "                                                                                \r"
     ]
    },
    {
     "name": "stdout",
     "output_type": "stream",
     "text": [
      "tpcds query q14b ran in 40391 ms\n",
      "Running tpcds query q15\n"
     ]
    },
    {
     "name": "stderr",
     "output_type": "stream",
     "text": [
      "                                                                                \r"
     ]
    },
    {
     "name": "stdout",
     "output_type": "stream",
     "text": [
      "tpcds query q15 ran in 9020 ms\n",
      "Running tpcds query q16\n"
     ]
    },
    {
     "name": "stderr",
     "output_type": "stream",
     "text": [
      "                                                                                04]\r"
     ]
    },
    {
     "name": "stdout",
     "output_type": "stream",
     "text": [
      "tpcds query q16 ran in 45133 ms\n",
      "Running tpcds query q17\n"
     ]
    },
    {
     "name": "stderr",
     "output_type": "stream",
     "text": [
      "                                                                                \r"
     ]
    },
    {
     "name": "stdout",
     "output_type": "stream",
     "text": [
      "tpcds query q17 ran in 10342 ms\n",
      "Running tpcds query q18\n"
     ]
    },
    {
     "name": "stderr",
     "output_type": "stream",
     "text": [
      "                                                                                \r"
     ]
    },
    {
     "name": "stdout",
     "output_type": "stream",
     "text": [
      "tpcds query q18 ran in 9900 ms\n",
      "Running tpcds query q19\n"
     ]
    },
    {
     "name": "stderr",
     "output_type": "stream",
     "text": [
      "                                                                                \r"
     ]
    },
    {
     "name": "stdout",
     "output_type": "stream",
     "text": [
      "tpcds query q19 ran in 7981 ms\n",
      "Running tpcds query q2\n"
     ]
    },
    {
     "name": "stderr",
     "output_type": "stream",
     "text": [
      "                                                                                \r"
     ]
    },
    {
     "name": "stdout",
     "output_type": "stream",
     "text": [
      "tpcds query q2 ran in 21800 ms\n",
      "Running tpcds query q20\n"
     ]
    },
    {
     "name": "stderr",
     "output_type": "stream",
     "text": [
      "                                                                                \r"
     ]
    },
    {
     "name": "stdout",
     "output_type": "stream",
     "text": [
      "tpcds query q20 ran in 2422 ms\n",
      "Running tpcds query q21\n"
     ]
    },
    {
     "name": "stderr",
     "output_type": "stream",
     "text": [
      "                                                                                \r"
     ]
    },
    {
     "name": "stdout",
     "output_type": "stream",
     "text": [
      "tpcds query q21 ran in 2249 ms\n",
      "Running tpcds query q22\n"
     ]
    },
    {
     "name": "stderr",
     "output_type": "stream",
     "text": [
      "                                                                                \r"
     ]
    },
    {
     "name": "stdout",
     "output_type": "stream",
     "text": [
      "tpcds query q22 ran in 9102 ms\n",
      "Running tpcds query q23a\n"
     ]
    },
    {
     "name": "stderr",
     "output_type": "stream",
     "text": [
      "                                                                                \r"
     ]
    },
    {
     "name": "stdout",
     "output_type": "stream",
     "text": [
      "tpcds query q23a ran in 101832 ms\n",
      "Running tpcds query q23b\n"
     ]
    },
    {
     "name": "stderr",
     "output_type": "stream",
     "text": [
      "                                                                                \r"
     ]
    },
    {
     "name": "stdout",
     "output_type": "stream",
     "text": [
      "tpcds query q23b ran in 104697 ms\n",
      "Running tpcds query q24a\n"
     ]
    },
    {
     "name": "stderr",
     "output_type": "stream",
     "text": [
      "                                                                                \r"
     ]
    },
    {
     "name": "stdout",
     "output_type": "stream",
     "text": [
      "tpcds query q24a ran in 60804 ms\n",
      "Running tpcds query q24b\n"
     ]
    },
    {
     "name": "stderr",
     "output_type": "stream",
     "text": [
      "                                                                                \r"
     ]
    },
    {
     "name": "stdout",
     "output_type": "stream",
     "text": [
      "tpcds query q24b ran in 56032 ms\n",
      "Running tpcds query q25\n"
     ]
    },
    {
     "name": "stderr",
     "output_type": "stream",
     "text": [
      "                                                                                \r"
     ]
    },
    {
     "name": "stdout",
     "output_type": "stream",
     "text": [
      "tpcds query q25 ran in 8479 ms\n",
      "Running tpcds query q26\n"
     ]
    },
    {
     "name": "stderr",
     "output_type": "stream",
     "text": [
      "                                                                                \r"
     ]
    },
    {
     "name": "stdout",
     "output_type": "stream",
     "text": [
      "tpcds query q26 ran in 4884 ms\n",
      "Running tpcds query q27\n"
     ]
    },
    {
     "name": "stderr",
     "output_type": "stream",
     "text": [
      "                                                                                \r"
     ]
    },
    {
     "name": "stdout",
     "output_type": "stream",
     "text": [
      "tpcds query q27 ran in 5472 ms\n",
      "Running tpcds query q28\n"
     ]
    },
    {
     "name": "stderr",
     "output_type": "stream",
     "text": [
      "                                                                                \r"
     ]
    },
    {
     "name": "stdout",
     "output_type": "stream",
     "text": [
      "tpcds query q28 ran in 15843 ms\n",
      "Running tpcds query q29\n"
     ]
    },
    {
     "name": "stderr",
     "output_type": "stream",
     "text": [
      "                                                                                \r"
     ]
    },
    {
     "name": "stdout",
     "output_type": "stream",
     "text": [
      "tpcds query q29 ran in 23845 ms\n",
      "Running tpcds query q3\n"
     ]
    },
    {
     "name": "stderr",
     "output_type": "stream",
     "text": [
      "                                                                                \r"
     ]
    },
    {
     "name": "stdout",
     "output_type": "stream",
     "text": [
      "tpcds query q3 ran in 2297 ms\n",
      "Running tpcds query q30\n"
     ]
    },
    {
     "name": "stderr",
     "output_type": "stream",
     "text": [
      "                                                                                \r"
     ]
    },
    {
     "name": "stdout",
     "output_type": "stream",
     "text": [
      "tpcds query q30 ran in 12651 ms\n",
      "Running tpcds query q31\n"
     ]
    },
    {
     "name": "stderr",
     "output_type": "stream",
     "text": [
      "                                                                                \r"
     ]
    },
    {
     "name": "stdout",
     "output_type": "stream",
     "text": [
      "tpcds query q31 ran in 11089 ms\n",
      "Running tpcds query q32\n"
     ]
    },
    {
     "name": "stderr",
     "output_type": "stream",
     "text": [
      "                                                                                \r"
     ]
    },
    {
     "name": "stdout",
     "output_type": "stream",
     "text": [
      "tpcds query q32 ran in 2053 ms\n",
      "Running tpcds query q33\n"
     ]
    },
    {
     "name": "stderr",
     "output_type": "stream",
     "text": [
      "                                                                                \r"
     ]
    },
    {
     "name": "stdout",
     "output_type": "stream",
     "text": [
      "tpcds query q33 ran in 3647 ms\n",
      "Running tpcds query q34\n"
     ]
    },
    {
     "name": "stderr",
     "output_type": "stream",
     "text": [
      "                                                                                \r"
     ]
    },
    {
     "name": "stdout",
     "output_type": "stream",
     "text": [
      "tpcds query q34 ran in 4712 ms\n",
      "Running tpcds query q35\n"
     ]
    },
    {
     "name": "stderr",
     "output_type": "stream",
     "text": [
      "                                                                                \r"
     ]
    },
    {
     "name": "stdout",
     "output_type": "stream",
     "text": [
      "tpcds query q35 ran in 10330 ms\n",
      "Running tpcds query q36\n"
     ]
    },
    {
     "name": "stderr",
     "output_type": "stream",
     "text": [
      "                                                                                \r"
     ]
    },
    {
     "name": "stdout",
     "output_type": "stream",
     "text": [
      "tpcds query q36 ran in 4637 ms\n",
      "Running tpcds query q37\n"
     ]
    },
    {
     "name": "stderr",
     "output_type": "stream",
     "text": [
      "                                                                                \r"
     ]
    },
    {
     "name": "stdout",
     "output_type": "stream",
     "text": [
      "tpcds query q37 ran in 10047 ms\n",
      "Running tpcds query q38\n"
     ]
    },
    {
     "name": "stderr",
     "output_type": "stream",
     "text": [
      "                                                                                \r"
     ]
    },
    {
     "name": "stdout",
     "output_type": "stream",
     "text": [
      "tpcds query q38 ran in 23102 ms\n",
      "Running tpcds query q39a\n"
     ]
    },
    {
     "name": "stderr",
     "output_type": "stream",
     "text": [
      "                                                                                \r"
     ]
    },
    {
     "name": "stdout",
     "output_type": "stream",
     "text": [
      "tpcds query q39a ran in 7060 ms\n",
      "Running tpcds query q39b\n"
     ]
    },
    {
     "name": "stderr",
     "output_type": "stream",
     "text": [
      "                                                                                \r"
     ]
    },
    {
     "name": "stdout",
     "output_type": "stream",
     "text": [
      "tpcds query q39b ran in 5600 ms\n",
      "Running tpcds query q4\n"
     ]
    },
    {
     "name": "stderr",
     "output_type": "stream",
     "text": [
      "                                                                                ]\r"
     ]
    },
    {
     "name": "stdout",
     "output_type": "stream",
     "text": [
      "tpcds query q4 ran in 81645 ms\n",
      "Running tpcds query q40\n"
     ]
    },
    {
     "name": "stderr",
     "output_type": "stream",
     "text": [
      "                                                                                \r"
     ]
    },
    {
     "name": "stdout",
     "output_type": "stream",
     "text": [
      "tpcds query q40 ran in 11036 ms\n",
      "Running tpcds query q41\n",
      "tpcds query q41 ran in 910 ms\n",
      "Running tpcds query q42\n"
     ]
    },
    {
     "name": "stderr",
     "output_type": "stream",
     "text": [
      "                                                                                \r"
     ]
    },
    {
     "name": "stdout",
     "output_type": "stream",
     "text": [
      "tpcds query q42 ran in 1847 ms\n",
      "Running tpcds query q43\n"
     ]
    },
    {
     "name": "stderr",
     "output_type": "stream",
     "text": [
      "                                                                                \r"
     ]
    },
    {
     "name": "stdout",
     "output_type": "stream",
     "text": [
      "tpcds query q43 ran in 4512 ms\n",
      "Running tpcds query q44\n"
     ]
    },
    {
     "name": "stderr",
     "output_type": "stream",
     "text": [
      "                                                                                \r"
     ]
    },
    {
     "name": "stdout",
     "output_type": "stream",
     "text": [
      "tpcds query q44 ran in 21780 ms\n",
      "Running tpcds query q45\n"
     ]
    },
    {
     "name": "stderr",
     "output_type": "stream",
     "text": [
      "                                                                                \r"
     ]
    },
    {
     "name": "stdout",
     "output_type": "stream",
     "text": [
      "tpcds query q45 ran in 9014 ms\n",
      "Running tpcds query q46\n"
     ]
    },
    {
     "name": "stderr",
     "output_type": "stream",
     "text": [
      "                                                                                \r"
     ]
    },
    {
     "name": "stdout",
     "output_type": "stream",
     "text": [
      "tpcds query q46 ran in 10899 ms\n",
      "Running tpcds query q47\n"
     ]
    },
    {
     "name": "stderr",
     "output_type": "stream",
     "text": [
      "                                                                                \r"
     ]
    },
    {
     "name": "stdout",
     "output_type": "stream",
     "text": [
      "tpcds query q47 ran in 12128 ms\n",
      "Running tpcds query q48\n"
     ]
    },
    {
     "name": "stderr",
     "output_type": "stream",
     "text": [
      "                                                                                \r"
     ]
    },
    {
     "name": "stdout",
     "output_type": "stream",
     "text": [
      "tpcds query q48 ran in 7851 ms\n",
      "Running tpcds query q49\n"
     ]
    },
    {
     "name": "stderr",
     "output_type": "stream",
     "text": [
      "                                                                                \r"
     ]
    },
    {
     "name": "stdout",
     "output_type": "stream",
     "text": [
      "tpcds query q49 ran in 20555 ms\n",
      "Running tpcds query q5\n"
     ]
    },
    {
     "name": "stderr",
     "output_type": "stream",
     "text": [
      "                                                                                \r"
     ]
    },
    {
     "name": "stdout",
     "output_type": "stream",
     "text": [
      "tpcds query q5 ran in 27353 ms\n",
      "Running tpcds query q50\n"
     ]
    },
    {
     "name": "stderr",
     "output_type": "stream",
     "text": [
      "                                                                                \r"
     ]
    },
    {
     "name": "stdout",
     "output_type": "stream",
     "text": [
      "tpcds query q50 ran in 58864 ms\n",
      "Running tpcds query q51\n"
     ]
    },
    {
     "name": "stderr",
     "output_type": "stream",
     "text": [
      "                                                                                \r"
     ]
    },
    {
     "name": "stdout",
     "output_type": "stream",
     "text": [
      "tpcds query q51 ran in 17634 ms\n",
      "Running tpcds query q52\n"
     ]
    },
    {
     "name": "stderr",
     "output_type": "stream",
     "text": [
      "                                                                                \r"
     ]
    },
    {
     "name": "stdout",
     "output_type": "stream",
     "text": [
      "tpcds query q52 ran in 1613 ms\n",
      "Running tpcds query q53\n"
     ]
    },
    {
     "name": "stderr",
     "output_type": "stream",
     "text": [
      "                                                                                \r"
     ]
    },
    {
     "name": "stdout",
     "output_type": "stream",
     "text": [
      "tpcds query q53 ran in 3849 ms\n",
      "Running tpcds query q54\n"
     ]
    },
    {
     "name": "stderr",
     "output_type": "stream",
     "text": [
      "                                                                                \r"
     ]
    },
    {
     "name": "stdout",
     "output_type": "stream",
     "text": [
      "tpcds query q54 ran in 7971 ms\n",
      "Running tpcds query q55\n"
     ]
    },
    {
     "name": "stderr",
     "output_type": "stream",
     "text": [
      "                                                                                \r"
     ]
    },
    {
     "name": "stdout",
     "output_type": "stream",
     "text": [
      "tpcds query q55 ran in 1395 ms\n",
      "Running tpcds query q56\n"
     ]
    },
    {
     "name": "stderr",
     "output_type": "stream",
     "text": [
      "                                                                                ]\r"
     ]
    },
    {
     "name": "stdout",
     "output_type": "stream",
     "text": [
      "tpcds query q56 ran in 3884 ms\n",
      "Running tpcds query q57\n"
     ]
    },
    {
     "name": "stderr",
     "output_type": "stream",
     "text": [
      "                                                                                \r"
     ]
    },
    {
     "name": "stdout",
     "output_type": "stream",
     "text": [
      "tpcds query q57 ran in 9283 ms\n",
      "Running tpcds query q58\n"
     ]
    },
    {
     "name": "stderr",
     "output_type": "stream",
     "text": [
      "                                                                                \r"
     ]
    },
    {
     "name": "stdout",
     "output_type": "stream",
     "text": [
      "tpcds query q58 ran in 3925 ms\n",
      "Running tpcds query q59\n"
     ]
    },
    {
     "name": "stderr",
     "output_type": "stream",
     "text": [
      "                                                                                \r"
     ]
    },
    {
     "name": "stdout",
     "output_type": "stream",
     "text": [
      "tpcds query q59 ran in 18847 ms\n",
      "Running tpcds query q6\n"
     ]
    },
    {
     "name": "stderr",
     "output_type": "stream",
     "text": [
      "                                                                                \r"
     ]
    },
    {
     "name": "stdout",
     "output_type": "stream",
     "text": [
      "tpcds query q6 ran in 6882 ms\n",
      "Running tpcds query q60\n"
     ]
    },
    {
     "name": "stderr",
     "output_type": "stream",
     "text": [
      "                                                                                ]\r"
     ]
    },
    {
     "name": "stdout",
     "output_type": "stream",
     "text": [
      "tpcds query q60 ran in 3670 ms\n",
      "Running tpcds query q61\n"
     ]
    },
    {
     "name": "stderr",
     "output_type": "stream",
     "text": [
      "                                                                                \r"
     ]
    },
    {
     "name": "stdout",
     "output_type": "stream",
     "text": [
      "tpcds query q61 ran in 7829 ms\n",
      "Running tpcds query q62\n"
     ]
    },
    {
     "name": "stderr",
     "output_type": "stream",
     "text": [
      "                                                                                \r"
     ]
    },
    {
     "name": "stdout",
     "output_type": "stream",
     "text": [
      "tpcds query q62 ran in 9991 ms\n",
      "Running tpcds query q63\n"
     ]
    },
    {
     "name": "stderr",
     "output_type": "stream",
     "text": [
      "                                                                                \r"
     ]
    },
    {
     "name": "stdout",
     "output_type": "stream",
     "text": [
      "tpcds query q63 ran in 3337 ms\n",
      "Running tpcds query q64\n"
     ]
    },
    {
     "name": "stderr",
     "output_type": "stream",
     "text": [
      "                                                                                ]\r"
     ]
    },
    {
     "name": "stdout",
     "output_type": "stream",
     "text": [
      "tpcds query q64 ran in 36559 ms\n",
      "Running tpcds query q65\n"
     ]
    },
    {
     "name": "stderr",
     "output_type": "stream",
     "text": [
      "                                                                                \r"
     ]
    },
    {
     "name": "stdout",
     "output_type": "stream",
     "text": [
      "tpcds query q65 ran in 24904 ms\n",
      "Running tpcds query q66\n"
     ]
    },
    {
     "name": "stderr",
     "output_type": "stream",
     "text": [
      "                                                                                \r"
     ]
    },
    {
     "name": "stdout",
     "output_type": "stream",
     "text": [
      "tpcds query q66 ran in 6999 ms\n",
      "Running tpcds query q67\n"
     ]
    },
    {
     "name": "stderr",
     "output_type": "stream",
     "text": [
      "                                                                                \r"
     ]
    },
    {
     "name": "stdout",
     "output_type": "stream",
     "text": [
      "tpcds query q67 ran in 129368 ms\n",
      "Running tpcds query q68\n"
     ]
    },
    {
     "name": "stderr",
     "output_type": "stream",
     "text": [
      "                                                                                \r"
     ]
    },
    {
     "name": "stdout",
     "output_type": "stream",
     "text": [
      "tpcds query q68 ran in 11181 ms\n",
      "Running tpcds query q69\n"
     ]
    },
    {
     "name": "stderr",
     "output_type": "stream",
     "text": [
      "                                                                                \r"
     ]
    },
    {
     "name": "stdout",
     "output_type": "stream",
     "text": [
      "tpcds query q69 ran in 5006 ms\n",
      "Running tpcds query q7\n"
     ]
    },
    {
     "name": "stderr",
     "output_type": "stream",
     "text": [
      "                                                                                \r"
     ]
    },
    {
     "name": "stdout",
     "output_type": "stream",
     "text": [
      "tpcds query q7 ran in 5120 ms\n",
      "Running tpcds query q70\n"
     ]
    },
    {
     "name": "stderr",
     "output_type": "stream",
     "text": [
      "                                                                                \r"
     ]
    },
    {
     "name": "stdout",
     "output_type": "stream",
     "text": [
      "tpcds query q70 ran in 9463 ms\n",
      "Running tpcds query q71\n"
     ]
    },
    {
     "name": "stderr",
     "output_type": "stream",
     "text": [
      "                                                                                \r"
     ]
    },
    {
     "name": "stdout",
     "output_type": "stream",
     "text": [
      "tpcds query q71 ran in 4304 ms\n",
      "Running tpcds query q72\n"
     ]
    },
    {
     "name": "stderr",
     "output_type": "stream",
     "text": [
      "                                                                                \r"
     ]
    },
    {
     "name": "stdout",
     "output_type": "stream",
     "text": [
      "tpcds query q72 ran in 35411 ms\n",
      "Running tpcds query q73\n"
     ]
    },
    {
     "name": "stderr",
     "output_type": "stream",
     "text": [
      "                                                                                \r"
     ]
    },
    {
     "name": "stdout",
     "output_type": "stream",
     "text": [
      "tpcds query q73 ran in 3953 ms\n",
      "Running tpcds query q74\n"
     ]
    },
    {
     "name": "stderr",
     "output_type": "stream",
     "text": [
      "                                                                                ]\r"
     ]
    },
    {
     "name": "stdout",
     "output_type": "stream",
     "text": [
      "tpcds query q74 ran in 29811 ms\n",
      "Running tpcds query q75\n"
     ]
    },
    {
     "name": "stderr",
     "output_type": "stream",
     "text": [
      "                                                                                ]\r"
     ]
    },
    {
     "name": "stdout",
     "output_type": "stream",
     "text": [
      "tpcds query q75 ran in 47898 ms\n",
      "Running tpcds query q76\n"
     ]
    },
    {
     "name": "stderr",
     "output_type": "stream",
     "text": [
      "                                                                                \r"
     ]
    },
    {
     "name": "stdout",
     "output_type": "stream",
     "text": [
      "tpcds query q76 ran in 20046 ms\n",
      "Running tpcds query q77\n"
     ]
    },
    {
     "name": "stderr",
     "output_type": "stream",
     "text": [
      "                                                                                \r"
     ]
    },
    {
     "name": "stdout",
     "output_type": "stream",
     "text": [
      "tpcds query q77 ran in 3680 ms\n",
      "Running tpcds query q78\n"
     ]
    },
    {
     "name": "stderr",
     "output_type": "stream",
     "text": [
      "                                                                                ]]\r"
     ]
    },
    {
     "name": "stdout",
     "output_type": "stream",
     "text": [
      "tpcds query q78 ran in 94152 ms\n",
      "Running tpcds query q79\n"
     ]
    },
    {
     "name": "stderr",
     "output_type": "stream",
     "text": [
      "                                                                                \r"
     ]
    },
    {
     "name": "stdout",
     "output_type": "stream",
     "text": [
      "tpcds query q79 ran in 11899 ms\n",
      "Running tpcds query q8\n"
     ]
    },
    {
     "name": "stderr",
     "output_type": "stream",
     "text": [
      "                                                                                \r"
     ]
    },
    {
     "name": "stdout",
     "output_type": "stream",
     "text": [
      "tpcds query q8 ran in 7929 ms\n",
      "Running tpcds query q80\n"
     ]
    },
    {
     "name": "stderr",
     "output_type": "stream",
     "text": [
      "                                                                                ]\r"
     ]
    },
    {
     "name": "stdout",
     "output_type": "stream",
     "text": [
      "tpcds query q80 ran in 32646 ms\n",
      "Running tpcds query q81\n"
     ]
    },
    {
     "name": "stderr",
     "output_type": "stream",
     "text": [
      "                                                                                \r"
     ]
    },
    {
     "name": "stdout",
     "output_type": "stream",
     "text": [
      "tpcds query q81 ran in 17053 ms\n",
      "Running tpcds query q82\n"
     ]
    },
    {
     "name": "stderr",
     "output_type": "stream",
     "text": [
      "                                                                                \r"
     ]
    },
    {
     "name": "stdout",
     "output_type": "stream",
     "text": [
      "tpcds query q82 ran in 12715 ms\n",
      "Running tpcds query q83\n"
     ]
    },
    {
     "name": "stderr",
     "output_type": "stream",
     "text": [
      "                                                                                \r"
     ]
    },
    {
     "name": "stdout",
     "output_type": "stream",
     "text": [
      "tpcds query q83 ran in 3027 ms\n",
      "Running tpcds query q84\n"
     ]
    },
    {
     "name": "stderr",
     "output_type": "stream",
     "text": [
      "                                                                                \r"
     ]
    },
    {
     "name": "stdout",
     "output_type": "stream",
     "text": [
      "tpcds query q84 ran in 9081 ms\n",
      "Running tpcds query q85\n"
     ]
    },
    {
     "name": "stderr",
     "output_type": "stream",
     "text": [
      "                                                                                \r"
     ]
    },
    {
     "name": "stdout",
     "output_type": "stream",
     "text": [
      "tpcds query q85 ran in 12640 ms\n",
      "Running tpcds query q86\n"
     ]
    },
    {
     "name": "stderr",
     "output_type": "stream",
     "text": [
      "                                                                                \r"
     ]
    },
    {
     "name": "stdout",
     "output_type": "stream",
     "text": [
      "tpcds query q86 ran in 4328 ms\n",
      "Running tpcds query q87\n"
     ]
    },
    {
     "name": "stderr",
     "output_type": "stream",
     "text": [
      "                                                                                ]\r"
     ]
    },
    {
     "name": "stdout",
     "output_type": "stream",
     "text": [
      "tpcds query q87 ran in 25489 ms\n",
      "Running tpcds query q88\n"
     ]
    },
    {
     "name": "stderr",
     "output_type": "stream",
     "text": [
      "                                                                                \r"
     ]
    },
    {
     "name": "stdout",
     "output_type": "stream",
     "text": [
      "tpcds query q88 ran in 11799 ms\n",
      "Running tpcds query q89\n"
     ]
    },
    {
     "name": "stderr",
     "output_type": "stream",
     "text": [
      "                                                                                \r"
     ]
    },
    {
     "name": "stdout",
     "output_type": "stream",
     "text": [
      "tpcds query q89 ran in 4018 ms\n",
      "Running tpcds query q9\n"
     ]
    },
    {
     "name": "stderr",
     "output_type": "stream",
     "text": [
      "                                                                                \r"
     ]
    },
    {
     "name": "stdout",
     "output_type": "stream",
     "text": [
      "tpcds query q9 ran in 17252 ms\n",
      "Running tpcds query q90\n"
     ]
    },
    {
     "name": "stderr",
     "output_type": "stream",
     "text": [
      "                                                                                \r"
     ]
    },
    {
     "name": "stdout",
     "output_type": "stream",
     "text": [
      "tpcds query q90 ran in 8673 ms\n",
      "Running tpcds query q91\n"
     ]
    },
    {
     "name": "stderr",
     "output_type": "stream",
     "text": [
      "                                                                                \r"
     ]
    },
    {
     "name": "stdout",
     "output_type": "stream",
     "text": [
      "tpcds query q91 ran in 10499 ms\n",
      "Running tpcds query q92\n"
     ]
    },
    {
     "name": "stderr",
     "output_type": "stream",
     "text": [
      "                                                                                \r"
     ]
    },
    {
     "name": "stdout",
     "output_type": "stream",
     "text": [
      "tpcds query q92 ran in 2361 ms\n",
      "Running tpcds query q93\n"
     ]
    },
    {
     "name": "stderr",
     "output_type": "stream",
     "text": [
      "                                                                                \r"
     ]
    },
    {
     "name": "stdout",
     "output_type": "stream",
     "text": [
      "tpcds query q93 ran in 79660 ms\n",
      "Running tpcds query q94\n"
     ]
    },
    {
     "name": "stderr",
     "output_type": "stream",
     "text": [
      "                                                                                \r"
     ]
    },
    {
     "name": "stdout",
     "output_type": "stream",
     "text": [
      "tpcds query q94 ran in 29347 ms\n",
      "Running tpcds query q95\n"
     ]
    },
    {
     "name": "stderr",
     "output_type": "stream",
     "text": [
      "                                                                                \r"
     ]
    },
    {
     "name": "stdout",
     "output_type": "stream",
     "text": [
      "tpcds query q95 ran in 50657 ms\n",
      "Running tpcds query q96\n"
     ]
    },
    {
     "name": "stderr",
     "output_type": "stream",
     "text": [
      "                                                                                \r"
     ]
    },
    {
     "name": "stdout",
     "output_type": "stream",
     "text": [
      "tpcds query q96 ran in 11761 ms\n",
      "Running tpcds query q97\n"
     ]
    },
    {
     "name": "stderr",
     "output_type": "stream",
     "text": [
      "                                                                                \r"
     ]
    },
    {
     "name": "stdout",
     "output_type": "stream",
     "text": [
      "tpcds query q97 ran in 35690 ms\n",
      "Running tpcds query q98\n"
     ]
    },
    {
     "name": "stderr",
     "output_type": "stream",
     "text": [
      "                                                                                \r"
     ]
    },
    {
     "name": "stdout",
     "output_type": "stream",
     "text": [
      "tpcds query q98 ran in 2931 ms\n",
      "Running tpcds query q99\n"
     ]
    },
    {
     "name": "stderr",
     "output_type": "stream",
     "text": [
      "                                                                                \r"
     ]
    },
    {
     "name": "stdout",
     "output_type": "stream",
     "text": [
      "tpcds query q99 ran in 14883 ms\n",
      "+---------+----------------+\n",
      "| QueryId | Runtime(in ms) |\n",
      "+---------+----------------+\n",
      "|   Sum   |    2001281     |\n",
      "+---------+----------------+\n",
      "|    q1   |     10339      |\n",
      "+---------+----------------+\n",
      "|   q10   |      8944      |\n",
      "+---------+----------------+\n",
      "|   q11   |     35222      |\n",
      "+---------+----------------+\n",
      "|   q12   |      2732      |\n",
      "+---------+----------------+\n",
      "|   q13   |      8162      |\n",
      "+---------+----------------+\n",
      "|   q14a  |     45732      |\n",
      "+---------+----------------+\n",
      "|   q14b  |     40391      |\n",
      "+---------+----------------+\n",
      "|   q15   |      9020      |\n",
      "+---------+----------------+\n",
      "|   q16   |     45133      |\n",
      "+---------+----------------+\n",
      "|   q17   |     10342      |\n",
      "+---------+----------------+\n",
      "|   q18   |      9900      |\n",
      "+---------+----------------+\n",
      "|   q19   |      7981      |\n",
      "+---------+----------------+\n",
      "|    q2   |     21800      |\n",
      "+---------+----------------+\n",
      "|   q20   |      2422      |\n",
      "+---------+----------------+\n",
      "|   q21   |      2249      |\n",
      "+---------+----------------+\n",
      "|   q22   |      9102      |\n",
      "+---------+----------------+\n",
      "|   q23a  |     101832     |\n",
      "+---------+----------------+\n",
      "|   q23b  |     104697     |\n",
      "+---------+----------------+\n",
      "|   q24a  |     60804      |\n",
      "+---------+----------------+\n",
      "|   q24b  |     56032      |\n",
      "+---------+----------------+\n",
      "|   q25   |      8479      |\n",
      "+---------+----------------+\n",
      "|   q26   |      4884      |\n",
      "+---------+----------------+\n",
      "|   q27   |      5472      |\n",
      "+---------+----------------+\n",
      "|   q28   |     15843      |\n",
      "+---------+----------------+\n",
      "|   q29   |     23845      |\n",
      "+---------+----------------+\n",
      "|    q3   |      2297      |\n",
      "+---------+----------------+\n",
      "|   q30   |     12651      |\n",
      "+---------+----------------+\n",
      "|   q31   |     11089      |\n",
      "+---------+----------------+\n",
      "|   q32   |      2053      |\n",
      "+---------+----------------+\n",
      "|   q33   |      3647      |\n",
      "+---------+----------------+\n",
      "|   q34   |      4712      |\n",
      "+---------+----------------+\n",
      "|   q35   |     10330      |\n",
      "+---------+----------------+\n",
      "|   q36   |      4637      |\n",
      "+---------+----------------+\n",
      "|   q37   |     10047      |\n",
      "+---------+----------------+\n",
      "|   q38   |     23102      |\n",
      "+---------+----------------+\n",
      "|   q39a  |      7060      |\n",
      "+---------+----------------+\n",
      "|   q39b  |      5600      |\n",
      "+---------+----------------+\n",
      "|    q4   |     81645      |\n",
      "+---------+----------------+\n",
      "|   q40   |     11036      |\n",
      "+---------+----------------+\n",
      "|   q41   |      910       |\n",
      "+---------+----------------+\n",
      "|   q42   |      1847      |\n",
      "+---------+----------------+\n",
      "|   q43   |      4512      |\n",
      "+---------+----------------+\n",
      "|   q44   |     21780      |\n",
      "+---------+----------------+\n",
      "|   q45   |      9014      |\n",
      "+---------+----------------+\n",
      "|   q46   |     10899      |\n",
      "+---------+----------------+\n",
      "|   q47   |     12128      |\n",
      "+---------+----------------+\n",
      "|   q48   |      7851      |\n",
      "+---------+----------------+\n",
      "|   q49   |     20555      |\n",
      "+---------+----------------+\n",
      "|    q5   |     27353      |\n",
      "+---------+----------------+\n",
      "|   q50   |     58864      |\n",
      "+---------+----------------+\n",
      "|   q51   |     17634      |\n",
      "+---------+----------------+\n",
      "|   q52   |      1613      |\n",
      "+---------+----------------+\n",
      "|   q53   |      3849      |\n",
      "+---------+----------------+\n",
      "|   q54   |      7971      |\n",
      "+---------+----------------+\n",
      "|   q55   |      1395      |\n",
      "+---------+----------------+\n",
      "|   q56   |      3884      |\n",
      "+---------+----------------+\n",
      "|   q57   |      9283      |\n",
      "+---------+----------------+\n",
      "|   q58   |      3925      |\n",
      "+---------+----------------+\n",
      "|   q59   |     18847      |\n",
      "+---------+----------------+\n",
      "|    q6   |      6882      |\n",
      "+---------+----------------+\n",
      "|   q60   |      3670      |\n",
      "+---------+----------------+\n",
      "|   q61   |      7829      |\n",
      "+---------+----------------+\n",
      "|   q62   |      9991      |\n",
      "+---------+----------------+\n",
      "|   q63   |      3337      |\n",
      "+---------+----------------+\n",
      "|   q64   |     36559      |\n",
      "+---------+----------------+\n",
      "|   q65   |     24904      |\n",
      "+---------+----------------+\n",
      "|   q66   |      6999      |\n",
      "+---------+----------------+\n",
      "|   q67   |     129368     |\n",
      "+---------+----------------+\n",
      "|   q68   |     11181      |\n",
      "+---------+----------------+\n",
      "|   q69   |      5006      |\n",
      "+---------+----------------+\n",
      "|    q7   |      5120      |\n",
      "+---------+----------------+\n",
      "|   q70   |      9463      |\n",
      "+---------+----------------+\n",
      "|   q71   |      4304      |\n",
      "+---------+----------------+\n",
      "|   q72   |     35411      |\n",
      "+---------+----------------+\n",
      "|   q73   |      3953      |\n",
      "+---------+----------------+\n",
      "|   q74   |     29811      |\n",
      "+---------+----------------+\n",
      "|   q75   |     47898      |\n",
      "+---------+----------------+\n",
      "|   q76   |     20046      |\n",
      "+---------+----------------+\n",
      "|   q77   |      3680      |\n",
      "+---------+----------------+\n",
      "|   q78   |     94152      |\n",
      "+---------+----------------+\n",
      "|   q79   |     11899      |\n",
      "+---------+----------------+\n",
      "|    q8   |      7929      |\n",
      "+---------+----------------+\n",
      "|   q80   |     32646      |\n",
      "+---------+----------------+\n",
      "|   q81   |     17053      |\n",
      "+---------+----------------+\n",
      "|   q82   |     12715      |\n",
      "+---------+----------------+\n",
      "|   q83   |      3027      |\n",
      "+---------+----------------+\n",
      "|   q84   |      9081      |\n",
      "+---------+----------------+\n",
      "|   q85   |     12640      |\n",
      "+---------+----------------+\n",
      "|   q86   |      4328      |\n",
      "+---------+----------------+\n",
      "|   q87   |     25489      |\n",
      "+---------+----------------+\n",
      "|   q88   |     11799      |\n",
      "+---------+----------------+\n",
      "|   q89   |      4018      |\n",
      "+---------+----------------+\n",
      "|    q9   |     17252      |\n",
      "+---------+----------------+\n",
      "|   q90   |      8673      |\n",
      "+---------+----------------+\n",
      "|   q91   |     10499      |\n",
      "+---------+----------------+\n",
      "|   q92   |      2361      |\n",
      "+---------+----------------+\n",
      "|   q93   |     79660      |\n",
      "+---------+----------------+\n",
      "|   q94   |     29347      |\n",
      "+---------+----------------+\n",
      "|   q95   |     50657      |\n",
      "+---------+----------------+\n",
      "|   q96   |     11761      |\n",
      "+---------+----------------+\n",
      "|   q97   |     35690      |\n",
      "+---------+----------------+\n",
      "|   q98   |      2931      |\n",
      "+---------+----------------+\n",
      "|   q99   |     14883      |\n",
      "+---------+----------------+\n"
     ]
    },
    {
     "data": {
      "image/png": "[encoded data removed]",
      "text/plain": [
       "<Figure size 2500x1500 with 1 Axes>"
      ]
     },
     "metadata": {},
     "output_type": "display_data"
    },
    {
     "name": "stdout",
     "output_type": "stream",
     "text": [
      "----------------------------------------------------------------------------------------------------------\n",
      "Writing to GCS bucket sparkpoc-bucket-dpgce-premium-279814974066-us-east1\n",
      "Runtime results successfully written to gs://sparkpoc-bucket-dpgce-premium-279814974066-us-east1/dpgce-benchmarking-premium-2/premium/spark/output/parquet/tpcds/sf1000/dpgce_premium_spark_parquet_sf1000_tpch_tpcds_dpgce-benchmarking-premium-2_us-east1_2025-08-06_09-31-21.csv\n",
      "----------------------------------------------------------------------------------------------------------\n",
      "Waiting for old YARN application (ID: application_1754464177981_0006) to finish. Current state: FINISHED (0/120s)\n",
      "Old YARN application (ID: application_1754464177981_0006) has finished with state: FINISHED.\n"
     ]
    }
   ],
   "source": [
    "if second_benchmark is not None:\n",
    "    # Run second benchmark    \n",
    "    runTPCBenchmark(spark,second_benchmark,benchmark_configs,BUCKET_NAME,CLUSTER_NAME,RUN_ID,RUNTYPE,TIER)\n",
    "else:\n",
    "    print(\"Second benchmark is empty!\")\n",
    "    print(f\"Skipping this step.\")    "
   ]
  },
  {
   "cell_type": "markdown",
   "id": "50d214de-e511-4f71-8998-9cd999a6028f",
   "metadata": {},
   "source": [
    "### DPGCE Premium with Lightning Engine with NQE"
   ]
  },
  {
   "cell_type": "markdown",
   "id": "c150c0fa-49b6-48cb-970e-9fcf3dac5010",
   "metadata": {},
   "source": [
    "#### Defining the Run Id\n",
    "The following cell defines a unique identifier for the current notebook execution. This Run Id can be used in the `Run_Comparison_Notebook` for Runtime and Cost performance comparison"
   ]
  },
  {
   "cell_type": "code",
   "execution_count": null,
   "id": "d34bd52c-de12-43ce-bc29-b6b3eaf5b90e",
   "metadata": {},
   "outputs": [
    {
     "name": "stdout",
     "output_type": "stream",
     "text": [
      "The Run Id for current notebook session is dpgce_premium_native_parquet_sf1000_tpch_tpcds_dpgce-benchmarking-premium-2_us-east1_2025-08-06_10-35-56\n"
     ]
    }
   ],
   "source": [
    "RUNTYPE = \"native\"\n",
    "RUN_ID = f\"dpgce_premium_{RUNTYPE}_{file_format}_{size}_{first_benchmark}\"\n",
    "\n",
    "if second_benchmark is not None:\n",
    "    RUN_ID+=f\"_{second_benchmark}\"\n",
    "\n",
    "from datetime import datetime, timezone\n",
    "now_utc = datetime.now(timezone.utc)\n",
    "timestamp_str = now_utc.strftime(\"%Y-%m-%d_%H-%M-%S\")\n",
    "\n",
    "RUN_ID+=f\"_{CLUSTER_NAME}_{REGION}\"\n",
    "\n",
    "RUN_ID+=f\"_{timestamp_str}\"\n",
    "print(f\"The Run Id for current notebook session is {RUN_ID}\")"
   ]
  },
  {
   "cell_type": "markdown",
   "id": "aeeb823b-7f41-4f0b-a533-0905a0e26175",
   "metadata": {},
   "source": [
    "#### First Benchmark "
   ]
  },
  {
   "cell_type": "markdown",
   "id": "65e9e36a-600b-4fc5-8232-d6148dd3c5e9",
   "metadata": {},
   "source": [
    "##### Terminate Previous Spark Application\n",
    "Terminates any active Spark applications currently running."
   ]
  },
  {
   "cell_type": "code",
   "execution_count": null,
   "id": "c13f0663-979c-4ec4-bbe0-21b38eca5b62",
   "metadata": {},
   "outputs": [
    {
     "name": "stdout",
     "output_type": "stream",
     "text": [
      "----------------------------------------------------------------------------\n",
      "Attempting to kill previous Spark application: application_1754464177981_0006\n",
      "Successfully initiated kill for application: application_1754464177981_0006\n"
     ]
    }
   ],
   "source": [
    "# Kill Spark App Launched at Kernel Start\n",
    "kill_initial_spark_application()\n",
    "\n",
    "print(\"----------------------------------------------------------------------------\")\n",
    "\n",
    "# Kill currently running Spark Apps (if any from previous kernel)\n",
    "kill_previous_spark_application(BUCKET_NAME,CLUSTER_NAME)"
   ]
  },
  {
   "cell_type": "markdown",
   "id": "76492d86-f802-4cb3-b4dc-d46d4724bb3e",
   "metadata": {},
   "source": [
    "##### Start Spark Session\n",
    "\n",
    "In the following step, spark properties are set to run benchmarks."
   ]
  },
  {
   "cell_type": "code",
   "execution_count": null,
   "id": "87f19711-5961-4dc9-aa8b-ea0cf96d9954",
   "metadata": {},
   "outputs": [
    {
     "name": "stdout",
     "output_type": "stream",
     "text": [
      "Spark Application Name: tpch dpgce premium with nqe benchmark run\n",
      "Spark Application ID: application_1754464177981_0007\n",
      "Spark Session ID: application_1754464177981_0007\n",
      "Spark Version: 3.5.3\n",
      "Spark Master: yarn\n",
      "Current Spark application ID 'application_1754464177981_0007' written to GCS: gs://sparkpoc-bucket-dpgce-premium-279814974066-us-east1/dpgce-benchmarking-premium-2/app_ids/application_1754464177981_0007.txt\n"
     ]
    }
   ],
   "source": [
    "#  Start new Spark session with specified configurations\n",
    "#  tier = premium enables following two properties by default -\n",
    "#  spark.dataproc.engine=lightningEngine\n",
    "#  spark.dataproc.lightningEngine.runtime=default\n",
    "\n",
    "spark_configs = {\n",
    "    \"spark.dataproc.lightningEngine.runtime\": \"native\",\n",
    "    \"spark.dynamicAllocation.enabled\": \"false\",\n",
    "    \"spark.hadoop.fs.gs.grpc.enable\": \"false\"\n",
    "}\n",
    "\n",
    "if(size == \"sf10000\"):\n",
    "    spark_configs[\"spark.executor.instances\"] = \"27\"\n",
    "else:\n",
    "    spark_configs[\"spark.executor.instances\"] = \"10\"\n",
    "\n",
    "spark_builder = SparkSession.builder.appName(f\"{first_benchmark} dpgce premium with nqe benchmark run\").enableHiveSupport()\n",
    "# Set the logger to display only ERROR logs\n",
    "logger = sc._jvm.org.apache.logging.log4j\n",
    "logger.core.config.Configurator.setAllLevels(\"org\",logger.Level.ERROR)\n",
    "\n",
    "for key, value in spark_configs.items():\n",
    "    spark_builder.config(key, value)\n",
    "\n",
    "spark = spark_builder.getOrCreate()\n",
    "\n",
    "print(f\"Spark Application Name: {spark.sparkContext.appName}\")\n",
    "print(f\"Spark Application ID: {spark.sparkContext.applicationId}\")\n",
    "print(f\"Spark Session ID: {spark.sparkContext._jsc.sc().applicationId()}\")\n",
    "print(f\"Spark Version: {spark.version}\")\n",
    "print(f\"Spark Master: {spark.sparkContext.master}\")\n",
    "\n",
    "# Writing current spark application id to GCS bucket\n",
    "current_app_id = spark.sparkContext.applicationId\n",
    "path_to_app_id = f\"gs://{BUCKET_NAME}/{CLUSTER_NAME}/app_ids/{current_app_id}.txt\"\n",
    "write_app_id_to_gcs(path_to_app_id,current_app_id) "
   ]
  },
  {
   "cell_type": "markdown",
   "id": "1b24088a-54d0-4a0a-a471-6425f4bade62",
   "metadata": {},
   "source": [
    "##### Run Benchmark\n",
    "The following cell runs the first benchmark with the configurations passed.\n",
    "\n",
    "**NOTE - After every benchmark run is complete, it terminates the existing spark session. New spark session is created for each run.**"
   ]
  },
  {
   "cell_type": "code",
   "execution_count": null,
   "id": "00201a9f-eae6-4832-8b9f-f30c40683e0d",
   "metadata": {},
   "outputs": [
    {
     "name": "stdout",
     "output_type": "stream",
     "text": [
      "Running benchmark: tpch, size: sf1000, queries to run: all, runtime engine: native\n",
      "Setting up TPCH tables\n"
     ]
    },
    {
     "name": "stderr",
     "output_type": "stream",
     "text": [
      "                                                                                \r"
     ]
    },
    {
     "name": "stdout",
     "output_type": "stream",
     "text": [
      "TPCH Tables set up\n",
      "--------Running TPCH Benchmark with following configurations--------\n",
      "Queries to run: all\n",
      "Benchmark: tpch\n",
      "Result Location: gs://sparkpoc-bucket-dpgce-premium-279814974066-us-east1/dpgce-benchmarking-premium-2/premium/native/output/parquet/tpch/sf1000/dpgce_premium_native_parquet_sf1000_tpch_tpcds_dpgce-benchmarking-premium-2_us-east1_2025-08-06_10-35-56.csv\n",
      "Scale Factor: sf1000\n",
      "File Format: parquet\n",
      "--------------------------------------------------------------------\n",
      "Running tpch query q1\n"
     ]
    },
    {
     "name": "stderr",
     "output_type": "stream",
     "text": [
      "                                                                                \r"
     ]
    },
    {
     "name": "stdout",
     "output_type": "stream",
     "text": [
      "tpch query q1 ran in 142634 ms\n",
      "Running tpch query q10\n"
     ]
    },
    {
     "name": "stderr",
     "output_type": "stream",
     "text": [
      "                                                                                \r"
     ]
    },
    {
     "name": "stdout",
     "output_type": "stream",
     "text": [
      "tpch query q10 ran in 56771 ms\n",
      "Running tpch query q11\n"
     ]
    },
    {
     "name": "stderr",
     "output_type": "stream",
     "text": [
      "                                                                                \r"
     ]
    },
    {
     "name": "stdout",
     "output_type": "stream",
     "text": [
      "tpch query q11 ran in 17166 ms\n",
      "Running tpch query q12\n"
     ]
    },
    {
     "name": "stderr",
     "output_type": "stream",
     "text": [
      "                                                                                \r"
     ]
    },
    {
     "name": "stdout",
     "output_type": "stream",
     "text": [
      "tpch query q12 ran in 40130 ms\n",
      "Running tpch query q13\n"
     ]
    },
    {
     "name": "stderr",
     "output_type": "stream",
     "text": [
      "                                                                                \r"
     ]
    },
    {
     "name": "stdout",
     "output_type": "stream",
     "text": [
      "tpch query q13 ran in 62687 ms\n",
      "Running tpch query q14\n"
     ]
    },
    {
     "name": "stderr",
     "output_type": "stream",
     "text": [
      "                                                                                \r"
     ]
    },
    {
     "name": "stdout",
     "output_type": "stream",
     "text": [
      "tpch query q14 ran in 8775 ms\n",
      "Running tpch query q15\n"
     ]
    },
    {
     "name": "stderr",
     "output_type": "stream",
     "text": [
      "                                                                                \r"
     ]
    },
    {
     "name": "stdout",
     "output_type": "stream",
     "text": [
      "tpch query q15 ran in 22606 ms\n",
      "Running tpch query q16\n"
     ]
    },
    {
     "name": "stderr",
     "output_type": "stream",
     "text": [
      "                                                                                \r"
     ]
    },
    {
     "name": "stdout",
     "output_type": "stream",
     "text": [
      "tpch query q16 ran in 25649 ms\n",
      "Running tpch query q17\n"
     ]
    },
    {
     "name": "stderr",
     "output_type": "stream",
     "text": [
      "                                                                                \r"
     ]
    },
    {
     "name": "stdout",
     "output_type": "stream",
     "text": [
      "tpch query q17 ran in 40085 ms\n",
      "Running tpch query q18\n"
     ]
    },
    {
     "name": "stderr",
     "output_type": "stream",
     "text": [
      "                                                                                ]]\r"
     ]
    },
    {
     "name": "stdout",
     "output_type": "stream",
     "text": [
      "tpch query q18 ran in 417842 ms\n",
      "Running tpch query q19\n"
     ]
    },
    {
     "name": "stderr",
     "output_type": "stream",
     "text": [
      "                                                                                \r"
     ]
    },
    {
     "name": "stdout",
     "output_type": "stream",
     "text": [
      "tpch query q19 ran in 28468 ms\n",
      "Running tpch query q2\n"
     ]
    },
    {
     "name": "stderr",
     "output_type": "stream",
     "text": [
      "                                                                                \r"
     ]
    },
    {
     "name": "stdout",
     "output_type": "stream",
     "text": [
      "tpch query q2 ran in 21952 ms\n",
      "Running tpch query q20\n"
     ]
    },
    {
     "name": "stderr",
     "output_type": "stream",
     "text": [
      "                                                                                \r"
     ]
    },
    {
     "name": "stdout",
     "output_type": "stream",
     "text": [
      "tpch query q20 ran in 27385 ms\n",
      "Running tpch query q21\n"
     ]
    },
    {
     "name": "stderr",
     "output_type": "stream",
     "text": [
      "                                                                                69]]\r"
     ]
    },
    {
     "name": "stdout",
     "output_type": "stream",
     "text": [
      "tpch query q21 ran in 228969 ms\n",
      "Running tpch query q22\n"
     ]
    },
    {
     "name": "stderr",
     "output_type": "stream",
     "text": [
      "                                                                                \r"
     ]
    },
    {
     "name": "stdout",
     "output_type": "stream",
     "text": [
      "tpch query q22 ran in 30912 ms\n",
      "Running tpch query q3\n"
     ]
    },
    {
     "name": "stderr",
     "output_type": "stream",
     "text": [
      "                                                                                \r"
     ]
    },
    {
     "name": "stdout",
     "output_type": "stream",
     "text": [
      "tpch query q3 ran in 70426 ms\n",
      "Running tpch query q4\n"
     ]
    },
    {
     "name": "stderr",
     "output_type": "stream",
     "text": [
      "                                                                                \r"
     ]
    },
    {
     "name": "stdout",
     "output_type": "stream",
     "text": [
      "tpch query q4 ran in 58488 ms\n",
      "Running tpch query q5\n"
     ]
    },
    {
     "name": "stderr",
     "output_type": "stream",
     "text": [
      "                                                                                \r"
     ]
    },
    {
     "name": "stdout",
     "output_type": "stream",
     "text": [
      "tpch query q5 ran in 103344 ms\n",
      "Running tpch query q6\n"
     ]
    },
    {
     "name": "stderr",
     "output_type": "stream",
     "text": [
      "                                                                                \r"
     ]
    },
    {
     "name": "stdout",
     "output_type": "stream",
     "text": [
      "tpch query q6 ran in 5367 ms\n",
      "Running tpch query q7\n"
     ]
    },
    {
     "name": "stderr",
     "output_type": "stream",
     "text": [
      "                                                                                \r"
     ]
    },
    {
     "name": "stdout",
     "output_type": "stream",
     "text": [
      "tpch query q7 ran in 39031 ms\n",
      "Running tpch query q8\n"
     ]
    },
    {
     "name": "stderr",
     "output_type": "stream",
     "text": [
      "                                                                                \r"
     ]
    },
    {
     "name": "stdout",
     "output_type": "stream",
     "text": [
      "tpch query q8 ran in 111141 ms\n",
      "Running tpch query q9\n"
     ]
    },
    {
     "name": "stderr",
     "output_type": "stream",
     "text": [
      "                                                                                ]\r"
     ]
    },
    {
     "name": "stdout",
     "output_type": "stream",
     "text": [
      "tpch query q9 ran in 169031 ms\n",
      "+---------+----------------+\n",
      "| QueryId | Runtime(in ms) |\n",
      "+---------+----------------+\n",
      "|   Sum   |    1728859     |\n",
      "+---------+----------------+\n",
      "|    q1   |     142634     |\n",
      "+---------+----------------+\n",
      "|   q10   |     56771      |\n",
      "+---------+----------------+\n",
      "|   q11   |     17166      |\n",
      "+---------+----------------+\n",
      "|   q12   |     40130      |\n",
      "+---------+----------------+\n",
      "|   q13   |     62687      |\n",
      "+---------+----------------+\n",
      "|   q14   |      8775      |\n",
      "+---------+----------------+\n",
      "|   q15   |     22606      |\n",
      "+---------+----------------+\n",
      "|   q16   |     25649      |\n",
      "+---------+----------------+\n",
      "|   q17   |     40085      |\n",
      "+---------+----------------+\n",
      "|   q18   |     417842     |\n",
      "+---------+----------------+\n",
      "|   q19   |     28468      |\n",
      "+---------+----------------+\n",
      "|    q2   |     21952      |\n",
      "+---------+----------------+\n",
      "|   q20   |     27385      |\n",
      "+---------+----------------+\n",
      "|   q21   |     228969     |\n",
      "+---------+----------------+\n",
      "|   q22   |     30912      |\n",
      "+---------+----------------+\n",
      "|    q3   |     70426      |\n",
      "+---------+----------------+\n",
      "|    q4   |     58488      |\n",
      "+---------+----------------+\n",
      "|    q5   |     103344     |\n",
      "+---------+----------------+\n",
      "|    q6   |      5367      |\n",
      "+---------+----------------+\n",
      "|    q7   |     39031      |\n",
      "+---------+----------------+\n",
      "|    q8   |     111141     |\n",
      "+---------+----------------+\n",
      "|    q9   |     169031     |\n",
      "+---------+----------------+\n"
     ]
    },
    {
     "data": {
      "image/png": "[encoded data removed]",
      "text/plain": [
       "<Figure size 2500x1500 with 1 Axes>"
      ]
     },
     "metadata": {},
     "output_type": "display_data"
    },
    {
     "name": "stdout",
     "output_type": "stream",
     "text": [
      "----------------------------------------------------------------------------------------------------------\n",
      "Writing to GCS bucket sparkpoc-bucket-dpgce-premium-279814974066-us-east1\n",
      "Runtime results successfully written to gs://sparkpoc-bucket-dpgce-premium-279814974066-us-east1/dpgce-benchmarking-premium-2/premium/native/output/parquet/tpch/sf1000/dpgce_premium_native_parquet_sf1000_tpch_tpcds_dpgce-benchmarking-premium-2_us-east1_2025-08-06_10-35-56.csv\n",
      "----------------------------------------------------------------------------------------------------------\n",
      "Waiting for old YARN application (ID: application_1754464177981_0007) to finish. Current state: FINISHED (0/120s)\n",
      "Old YARN application (ID: application_1754464177981_0007) has finished with state: FINISHED.\n"
     ]
    }
   ],
   "source": [
    "# Run first benchmark\n",
    "runTPCBenchmark(spark,first_benchmark,benchmark_configs,BUCKET_NAME,CLUSTER_NAME,RUN_ID,RUNTYPE,TIER)"
   ]
  },
  {
   "cell_type": "markdown",
   "id": "7f488c8b-0f2a-46bd-ab0b-141100319b7f",
   "metadata": {},
   "source": [
    "#### Second Benchmark"
   ]
  },
  {
   "cell_type": "markdown",
   "id": "b1871bf8-6304-49e2-8b91-45756d40a405",
   "metadata": {},
   "source": [
    "##### Terminate Previous Spark Application\n",
    "Terminates any active Spark applications currently running."
   ]
  },
  {
   "cell_type": "code",
   "execution_count": null,
   "id": "3ac6243a-f65a-413e-9fc9-1b7affa2f291",
   "metadata": {},
   "outputs": [
    {
     "name": "stdout",
     "output_type": "stream",
     "text": [
      "----------------------------------------------------------------------------\n",
      "Attempting to kill previous Spark application: application_1754464177981_0007\n",
      "Successfully initiated kill for application: application_1754464177981_0007\n"
     ]
    }
   ],
   "source": [
    "if second_benchmark is not None:\n",
    "    \n",
    "    # Kill Spark App Launched at Kernel Start\n",
    "    kill_initial_spark_application()\n",
    "    \n",
    "    print(\"----------------------------------------------------------------------------\")\n",
    "    \n",
    "    # Kill currently running Spark Apps (if any from previous kernel)\n",
    "    kill_previous_spark_application(BUCKET_NAME,CLUSTER_NAME)\n",
    "else:\n",
    "    print(\"Second benchmark is empty!\")\n",
    "    print(\"Skipping this step.\")"
   ]
  },
  {
   "cell_type": "markdown",
   "id": "82c8295f-a77d-467b-b21e-e14fed02451f",
   "metadata": {},
   "source": [
    "##### Start Spark Session\n",
    "\n",
    "In the following step, spark properties are set to run benchmarks."
   ]
  },
  {
   "cell_type": "code",
   "execution_count": null,
   "id": "259dfaf5-c758-4f7d-8377-796d543468b4",
   "metadata": {},
   "outputs": [
    {
     "name": "stdout",
     "output_type": "stream",
     "text": [
      "Spark Application Name: tpcds dpgce premium with nqe benchmark run\n",
      "Spark Application ID: application_1754464177981_0008\n",
      "Spark Session ID: application_1754464177981_0008\n",
      "Spark Version: 3.5.3\n",
      "Spark Master: yarn\n",
      "Current Spark application ID 'application_1754464177981_0008' written to GCS: gs://sparkpoc-bucket-dpgce-premium-279814974066-us-east1/dpgce-benchmarking-premium-2/app_ids/application_1754464177981_0008.txt\n"
     ]
    }
   ],
   "source": [
    "if second_benchmark is not None:\n",
    "    \n",
    "    #  Start new Spark session with specified configurations\n",
    "    #  tier = premium enables following two properties by default -\n",
    "    #  spark.dataproc.engine=lightningEngine\n",
    "    #  spark.dataproc.lightningEngine.runtime=default\n",
    "    spark_configs = {\n",
    "        \"spark.dataproc.lightningEngine.runtime\": \"native\",\n",
    "        \"spark.dynamicAllocation.enabled\": \"false\",\n",
    "        \"spark.hadoop.fs.gs.grpc.enable\": \"false\"     \n",
    "    }\n",
    "    \n",
    "    if(size == \"sf10000\"):\n",
    "        spark_configs[\"spark.executor.instances\"] = \"27\"\n",
    "    else:\n",
    "        spark_configs[\"spark.executor.instances\"] = \"10\"    \n",
    "\n",
    "    spark_builder = SparkSession.builder.appName(f\"{second_benchmark} dpgce premium with nqe benchmark run\").enableHiveSupport()\n",
    "\n",
    "    # Set the logger to display only ERROR logs\n",
    "    logger = sc._jvm.org.apache.logging.log4j\n",
    "    logger.core.config.Configurator.setAllLevels(\"org\",logger.Level.ERROR)\n",
    "\n",
    "    for key, value in spark_configs.items():\n",
    "        spark_builder.config(key, value)\n",
    "\n",
    "    spark = spark_builder.getOrCreate()\n",
    "\n",
    "    print(f\"Spark Application Name: {spark.sparkContext.appName}\")\n",
    "    print(f\"Spark Application ID: {spark.sparkContext.applicationId}\")\n",
    "    print(f\"Spark Session ID: {spark.sparkContext._jsc.sc().applicationId()}\")\n",
    "    print(f\"Spark Version: {spark.version}\")\n",
    "    print(f\"Spark Master: {spark.sparkContext.master}\")\n",
    "\n",
    "    # Writing current spark application id to GCS bucket\n",
    "    current_app_id = spark.sparkContext.applicationId\n",
    "    path_to_app_id = f\"gs://{BUCKET_NAME}/{CLUSTER_NAME}/app_ids/{current_app_id}.txt\"\n",
    "    write_app_id_to_gcs(path_to_app_id,current_app_id)\n",
    "\n",
    "else:\n",
    "    print(\"Second benchmark is empty!\")\n",
    "    print(\"Skipping this step.\")    "
   ]
  },
  {
   "cell_type": "markdown",
   "id": "e697505d-2238-4265-aa8f-eb059b75dfed",
   "metadata": {},
   "source": [
    "##### Run Benchmark\n",
    "The following cell runs the second benchmark with the configurations passed.\n",
    "\n",
    "**NOTE - After every benchmark run is complete, it terminates the existing spark session. New spark session is created for each run.**"
   ]
  },
  {
   "cell_type": "code",
   "execution_count": null,
   "id": "b5256ee9-e4f9-4571-a230-61861e672621",
   "metadata": {},
   "outputs": [
    {
     "name": "stdout",
     "output_type": "stream",
     "text": [
      "Running benchmark: tpcds, size: sf1000, queries to run: all, runtime engine: native\n",
      "Setting up TPCDS tables\n"
     ]
    },
    {
     "name": "stderr",
     "output_type": "stream",
     "text": [
      "                                                                                \r"
     ]
    },
    {
     "name": "stdout",
     "output_type": "stream",
     "text": [
      "TPCDS Tables set up\n",
      "--------Running TPCDS Benchmark with following configurations--------\n",
      "Queries to run: all\n",
      "Benchmark: tpcds\n",
      "Result Location: gs://sparkpoc-bucket-dpgce-premium-279814974066-us-east1/dpgce-benchmarking-premium-2/premium/native/output/parquet/tpcds/sf1000/dpgce_premium_native_parquet_sf1000_tpch_tpcds_dpgce-benchmarking-premium-2_us-east1_2025-08-06_10-35-56.csv\n",
      "Scale Factor: sf1000\n",
      "File Format: parquet\n",
      "--------------------------------------------------------------------\n",
      "Running tpcds query q1\n"
     ]
    },
    {
     "name": "stderr",
     "output_type": "stream",
     "text": [
      "                                                                                \r"
     ]
    },
    {
     "name": "stdout",
     "output_type": "stream",
     "text": [
      "tpcds query q1 ran in 9631 ms\n",
      "Running tpcds query q10\n"
     ]
    },
    {
     "name": "stderr",
     "output_type": "stream",
     "text": [
      "                                                                                \r"
     ]
    },
    {
     "name": "stdout",
     "output_type": "stream",
     "text": [
      "tpcds query q10 ran in 9585 ms\n",
      "Running tpcds query q11\n"
     ]
    },
    {
     "name": "stderr",
     "output_type": "stream",
     "text": [
      "                                                                                \r"
     ]
    },
    {
     "name": "stdout",
     "output_type": "stream",
     "text": [
      "tpcds query q11 ran in 38210 ms\n",
      "Running tpcds query q12\n"
     ]
    },
    {
     "name": "stderr",
     "output_type": "stream",
     "text": [
      "                                                                                \r"
     ]
    },
    {
     "name": "stdout",
     "output_type": "stream",
     "text": [
      "tpcds query q12 ran in 2722 ms\n",
      "Running tpcds query q13\n"
     ]
    },
    {
     "name": "stderr",
     "output_type": "stream",
     "text": [
      "                                                                                \r"
     ]
    },
    {
     "name": "stdout",
     "output_type": "stream",
     "text": [
      "tpcds query q13 ran in 8469 ms\n",
      "Running tpcds query q14a\n"
     ]
    },
    {
     "name": "stderr",
     "output_type": "stream",
     "text": [
      "                                                                                \r"
     ]
    },
    {
     "name": "stdout",
     "output_type": "stream",
     "text": [
      "tpcds query q14a ran in 45631 ms\n",
      "Running tpcds query q14b\n"
     ]
    },
    {
     "name": "stderr",
     "output_type": "stream",
     "text": [
      "                                                                                \r"
     ]
    },
    {
     "name": "stdout",
     "output_type": "stream",
     "text": [
      "tpcds query q14b ran in 43341 ms\n",
      "Running tpcds query q15\n"
     ]
    },
    {
     "name": "stderr",
     "output_type": "stream",
     "text": [
      "                                                                                \r"
     ]
    },
    {
     "name": "stdout",
     "output_type": "stream",
     "text": [
      "tpcds query q15 ran in 8780 ms\n",
      "Running tpcds query q16\n"
     ]
    },
    {
     "name": "stderr",
     "output_type": "stream",
     "text": [
      "                                                                                04]\r"
     ]
    },
    {
     "name": "stdout",
     "output_type": "stream",
     "text": [
      "tpcds query q16 ran in 39170 ms\n",
      "Running tpcds query q17\n"
     ]
    },
    {
     "name": "stderr",
     "output_type": "stream",
     "text": [
      "                                                                                \r"
     ]
    },
    {
     "name": "stdout",
     "output_type": "stream",
     "text": [
      "tpcds query q17 ran in 10314 ms\n",
      "Running tpcds query q18\n"
     ]
    },
    {
     "name": "stderr",
     "output_type": "stream",
     "text": [
      "                                                                                \r"
     ]
    },
    {
     "name": "stdout",
     "output_type": "stream",
     "text": [
      "tpcds query q18 ran in 9311 ms\n",
      "Running tpcds query q19\n"
     ]
    },
    {
     "name": "stderr",
     "output_type": "stream",
     "text": [
      "                                                                                \r"
     ]
    },
    {
     "name": "stdout",
     "output_type": "stream",
     "text": [
      "tpcds query q19 ran in 8213 ms\n",
      "Running tpcds query q2\n"
     ]
    },
    {
     "name": "stderr",
     "output_type": "stream",
     "text": [
      "                                                                                \r"
     ]
    },
    {
     "name": "stdout",
     "output_type": "stream",
     "text": [
      "tpcds query q2 ran in 19796 ms\n",
      "Running tpcds query q20\n"
     ]
    },
    {
     "name": "stderr",
     "output_type": "stream",
     "text": [
      "                                                                                \r"
     ]
    },
    {
     "name": "stdout",
     "output_type": "stream",
     "text": [
      "tpcds query q20 ran in 2263 ms\n",
      "Running tpcds query q21\n"
     ]
    },
    {
     "name": "stderr",
     "output_type": "stream",
     "text": [
      "                                                                                \r"
     ]
    },
    {
     "name": "stdout",
     "output_type": "stream",
     "text": [
      "tpcds query q21 ran in 2031 ms\n",
      "Running tpcds query q22\n"
     ]
    },
    {
     "name": "stderr",
     "output_type": "stream",
     "text": [
      "                                                                                \r"
     ]
    },
    {
     "name": "stdout",
     "output_type": "stream",
     "text": [
      "tpcds query q22 ran in 10240 ms\n",
      "Running tpcds query q23a\n"
     ]
    },
    {
     "name": "stderr",
     "output_type": "stream",
     "text": [
      "                                                                                \r"
     ]
    },
    {
     "name": "stdout",
     "output_type": "stream",
     "text": [
      "tpcds query q23a ran in 91477 ms\n",
      "Running tpcds query q23b\n"
     ]
    },
    {
     "name": "stderr",
     "output_type": "stream",
     "text": [
      "                                                                                \r"
     ]
    },
    {
     "name": "stdout",
     "output_type": "stream",
     "text": [
      "tpcds query q23b ran in 95328 ms\n",
      "Running tpcds query q24a\n"
     ]
    },
    {
     "name": "stderr",
     "output_type": "stream",
     "text": [
      "                                                                                \r"
     ]
    },
    {
     "name": "stdout",
     "output_type": "stream",
     "text": [
      "tpcds query q24a ran in 59297 ms\n",
      "Running tpcds query q24b\n"
     ]
    },
    {
     "name": "stderr",
     "output_type": "stream",
     "text": [
      "                                                                                \r"
     ]
    },
    {
     "name": "stdout",
     "output_type": "stream",
     "text": [
      "tpcds query q67 ran in 229396 ms\n",
      "Running tpcds query q68\n"
     ]
    },
    {
     "name": "stderr",
     "output_type": "stream",
     "text": [
      "                                                                                \r"
     ]
    },
    {
     "name": "stdout",
     "output_type": "stream",
     "text": [
      "tpcds query q68 ran in 11528 ms\n",
      "Running tpcds query q69\n"
     ]
    },
    {
     "name": "stderr",
     "output_type": "stream",
     "text": [
      "                                                                                \r"
     ]
    },
    {
     "name": "stdout",
     "output_type": "stream",
     "text": [
      "tpcds query q69 ran in 5754 ms\n",
      "Running tpcds query q7\n"
     ]
    },
    {
     "name": "stderr",
     "output_type": "stream",
     "text": [
      "                                                                                \r"
     ]
    },
    {
     "name": "stdout",
     "output_type": "stream",
     "text": [
      "tpcds query q7 ran in 5161 ms\n",
      "Running tpcds query q70\n"
     ]
    },
    {
     "name": "stderr",
     "output_type": "stream",
     "text": [
      "                                                                                \r"
     ]
    },
    {
     "name": "stdout",
     "output_type": "stream",
     "text": [
      "tpcds query q70 ran in 9513 ms\n",
      "Running tpcds query q71\n"
     ]
    },
    {
     "name": "stderr",
     "output_type": "stream",
     "text": [
      "                                                                                \r"
     ]
    },
    {
     "name": "stdout",
     "output_type": "stream",
     "text": [
      "tpcds query q71 ran in 4637 ms\n",
      "Running tpcds query q72\n"
     ]
    },
    {
     "name": "stderr",
     "output_type": "stream",
     "text": [
      "                                                                                \r"
     ]
    },
    {
     "name": "stdout",
     "output_type": "stream",
     "text": [
      "tpcds query q72 ran in 40779 ms\n",
      "Running tpcds query q73\n"
     ]
    },
    {
     "name": "stderr",
     "output_type": "stream",
     "text": [
      "                                                                                \r"
     ]
    },
    {
     "name": "stdout",
     "output_type": "stream",
     "text": [
      "tpcds query q73 ran in 4942 ms\n",
      "Running tpcds query q74\n"
     ]
    },
    {
     "name": "stderr",
     "output_type": "stream",
     "text": [
      "                                                                                ]\r"
     ]
    },
    {
     "name": "stdout",
     "output_type": "stream",
     "text": [
      "tpcds query q74 ran in 32656 ms\n",
      "Running tpcds query q75\n"
     ]
    },
    {
     "name": "stderr",
     "output_type": "stream",
     "text": [
      "                                                                                ]\r"
     ]
    },
    {
     "name": "stdout",
     "output_type": "stream",
     "text": [
      "tpcds query q75 ran in 60252 ms\n",
      "Running tpcds query q76\n"
     ]
    },
    {
     "name": "stderr",
     "output_type": "stream",
     "text": [
      "                                                                                \r"
     ]
    },
    {
     "name": "stdout",
     "output_type": "stream",
     "text": [
      "tpcds query q76 ran in 23544 ms\n",
      "Running tpcds query q77\n"
     ]
    },
    {
     "name": "stderr",
     "output_type": "stream",
     "text": [
      "                                                                                \r"
     ]
    },
    {
     "name": "stdout",
     "output_type": "stream",
     "text": [
      "tpcds query q77 ran in 3699 ms\n",
      "Running tpcds query q78\n"
     ]
    },
    {
     "name": "stderr",
     "output_type": "stream",
     "text": [
      "                                                                                ]]\r"
     ]
    },
    {
     "name": "stdout",
     "output_type": "stream",
     "text": [
      "tpcds query q78 ran in 109105 ms\n",
      "Running tpcds query q79\n"
     ]
    },
    {
     "name": "stderr",
     "output_type": "stream",
     "text": [
      "                                                                                \r"
     ]
    },
    {
     "name": "stdout",
     "output_type": "stream",
     "text": [
      "tpcds query q79 ran in 12143 ms\n",
      "Running tpcds query q8\n"
     ]
    },
    {
     "name": "stderr",
     "output_type": "stream",
     "text": [
      "                                                                                \r"
     ]
    },
    {
     "name": "stdout",
     "output_type": "stream",
     "text": [
      "tpcds query q8 ran in 8072 ms\n",
      "Running tpcds query q80\n"
     ]
    },
    {
     "name": "stderr",
     "output_type": "stream",
     "text": [
      "                                                                                ]\r"
     ]
    },
    {
     "name": "stdout",
     "output_type": "stream",
     "text": [
      "tpcds query q80 ran in 32567 ms\n",
      "Running tpcds query q81\n"
     ]
    },
    {
     "name": "stderr",
     "output_type": "stream",
     "text": [
      "                                                                                \r"
     ]
    },
    {
     "name": "stdout",
     "output_type": "stream",
     "text": [
      "tpcds query q81 ran in 16859 ms\n",
      "Running tpcds query q82\n"
     ]
    },
    {
     "name": "stderr",
     "output_type": "stream",
     "text": [
      "                                                                                \r"
     ]
    },
    {
     "name": "stdout",
     "output_type": "stream",
     "text": [
      "tpcds query q82 ran in 13281 ms\n",
      "Running tpcds query q83\n"
     ]
    },
    {
     "name": "stderr",
     "output_type": "stream",
     "text": [
      "                                                                                \r"
     ]
    },
    {
     "name": "stdout",
     "output_type": "stream",
     "text": [
      "tpcds query q83 ran in 3033 ms\n",
      "Running tpcds query q84\n"
     ]
    },
    {
     "name": "stderr",
     "output_type": "stream",
     "text": [
      "                                                                                \r"
     ]
    },
    {
     "name": "stdout",
     "output_type": "stream",
     "text": [
      "tpcds query q84 ran in 9239 ms\n",
      "Running tpcds query q85\n"
     ]
    },
    {
     "name": "stderr",
     "output_type": "stream",
     "text": [
      "                                                                                \r"
     ]
    },
    {
     "name": "stdout",
     "output_type": "stream",
     "text": [
      "tpcds query q85 ran in 13580 ms\n",
      "Running tpcds query q86\n"
     ]
    },
    {
     "name": "stderr",
     "output_type": "stream",
     "text": [
      "                                                                                \r"
     ]
    },
    {
     "name": "stdout",
     "output_type": "stream",
     "text": [
      "tpcds query q86 ran in 4267 ms\n",
      "Running tpcds query q87\n"
     ]
    },
    {
     "name": "stderr",
     "output_type": "stream",
     "text": [
      "                                                                                ]\r"
     ]
    },
    {
     "name": "stdout",
     "output_type": "stream",
     "text": [
      "tpcds query q87 ran in 24690 ms\n",
      "Running tpcds query q88\n"
     ]
    },
    {
     "name": "stderr",
     "output_type": "stream",
     "text": [
      "                                                                                \r"
     ]
    },
    {
     "name": "stdout",
     "output_type": "stream",
     "text": [
      "tpcds query q88 ran in 10980 ms\n",
      "Running tpcds query q89\n"
     ]
    },
    {
     "name": "stderr",
     "output_type": "stream",
     "text": [
      "                                                                                \r"
     ]
    },
    {
     "name": "stdout",
     "output_type": "stream",
     "text": [
      "tpcds query q89 ran in 4014 ms\n",
      "Running tpcds query q9\n"
     ]
    },
    {
     "name": "stderr",
     "output_type": "stream",
     "text": [
      "                                                                                \r"
     ]
    },
    {
     "name": "stdout",
     "output_type": "stream",
     "text": [
      "tpcds query q9 ran in 16659 ms\n",
      "Running tpcds query q90\n"
     ]
    },
    {
     "name": "stderr",
     "output_type": "stream",
     "text": [
      "                                                                                \r"
     ]
    },
    {
     "name": "stdout",
     "output_type": "stream",
     "text": [
      "tpcds query q90 ran in 7321 ms\n",
      "Running tpcds query q91\n"
     ]
    },
    {
     "name": "stderr",
     "output_type": "stream",
     "text": [
      "                                                                                \r"
     ]
    },
    {
     "name": "stdout",
     "output_type": "stream",
     "text": [
      "tpcds query q91 ran in 9623 ms\n",
      "Running tpcds query q92\n",
      "tpcds query q92 ran in 1870 ms\n",
      "Running tpcds query q93\n"
     ]
    },
    {
     "name": "stderr",
     "output_type": "stream",
     "text": [
      "                                                                                \r"
     ]
    },
    {
     "name": "stdout",
     "output_type": "stream",
     "text": [
      "tpcds query q93 ran in 78047 ms\n",
      "Running tpcds query q94\n"
     ]
    },
    {
     "name": "stderr",
     "output_type": "stream",
     "text": [
      "                                                                                \r"
     ]
    },
    {
     "name": "stdout",
     "output_type": "stream",
     "text": [
      "tpcds query q94 ran in 27602 ms\n",
      "Running tpcds query q95\n"
     ]
    },
    {
     "name": "stderr",
     "output_type": "stream",
     "text": [
      "                                                                                \r"
     ]
    },
    {
     "name": "stdout",
     "output_type": "stream",
     "text": [
      "tpcds query q95 ran in 58444 ms\n",
      "Running tpcds query q96\n"
     ]
    },
    {
     "name": "stderr",
     "output_type": "stream",
     "text": [
      "                                                                                \r"
     ]
    },
    {
     "name": "stdout",
     "output_type": "stream",
     "text": [
      "tpcds query q96 ran in 11220 ms\n",
      "Running tpcds query q97\n"
     ]
    },
    {
     "name": "stderr",
     "output_type": "stream",
     "text": [
      "                                                                                \r"
     ]
    },
    {
     "name": "stdout",
     "output_type": "stream",
     "text": [
      "tpcds query q97 ran in 41563 ms\n",
      "Running tpcds query q98\n"
     ]
    },
    {
     "name": "stderr",
     "output_type": "stream",
     "text": [
      "                                                                                \r"
     ]
    },
    {
     "name": "stdout",
     "output_type": "stream",
     "text": [
      "tpcds query q98 ran in 3543 ms\n",
      "Running tpcds query q99\n"
     ]
    },
    {
     "name": "stderr",
     "output_type": "stream",
     "text": [
      "                                                                                \r"
     ]
    },
    {
     "name": "stdout",
     "output_type": "stream",
     "text": [
      "tpcds query q99 ran in 15113 ms\n",
      "+---------+----------------+\n",
      "| QueryId | Runtime(in ms) |\n",
      "+---------+----------------+\n",
      "|   Sum   |    2147987     |\n",
      "+---------+----------------+\n",
      "|    q1   |      9631      |\n",
      "+---------+----------------+\n",
      "|   q10   |      9585      |\n",
      "+---------+----------------+\n",
      "|   q11   |     38210      |\n",
      "+---------+----------------+\n",
      "|   q12   |      2722      |\n",
      "+---------+----------------+\n",
      "|   q13   |      8469      |\n",
      "+---------+----------------+\n",
      "|   q14a  |     45631      |\n",
      "+---------+----------------+\n",
      "|   q14b  |     43341      |\n",
      "+---------+----------------+\n",
      "|   q15   |      8780      |\n",
      "+---------+----------------+\n",
      "|   q16   |     39170      |\n",
      "+---------+----------------+\n",
      "|   q17   |     10314      |\n",
      "+---------+----------------+\n",
      "|   q18   |      9311      |\n",
      "+---------+----------------+\n",
      "|   q19   |      8213      |\n",
      "+---------+----------------+\n",
      "|    q2   |     19796      |\n",
      "+---------+----------------+\n",
      "|   q20   |      2263      |\n",
      "+---------+----------------+\n",
      "|   q21   |      2031      |\n",
      "+---------+----------------+\n",
      "|   q22   |     10240      |\n",
      "+---------+----------------+\n",
      "|   q23a  |     91477      |\n",
      "+---------+----------------+\n",
      "|   q23b  |     95328      |\n",
      "+---------+----------------+\n",
      "|   q24a  |     59297      |\n",
      "+---------+----------------+\n",
      "|   q24b  |     51549      |\n",
      "+---------+----------------+\n",
      "|   q25   |      8156      |\n",
      "+---------+----------------+\n",
      "|   q26   |      4370      |\n",
      "+---------+----------------+\n",
      "|   q27   |      4948      |\n",
      "+---------+----------------+\n",
      "|   q28   |     14568      |\n",
      "+---------+----------------+\n",
      "|   q29   |     22106      |\n",
      "+---------+----------------+\n",
      "|    q3   |      2234      |\n",
      "+---------+----------------+\n",
      "|   q30   |     12445      |\n",
      "+---------+----------------+\n",
      "|   q31   |     10641      |\n",
      "+---------+----------------+\n",
      "|   q32   |      2280      |\n",
      "+---------+----------------+\n",
      "|   q33   |      3719      |\n",
      "+---------+----------------+\n",
      "|   q34   |      4289      |\n",
      "+---------+----------------+\n",
      "|   q35   |      9572      |\n",
      "+---------+----------------+\n",
      "|   q36   |      4466      |\n",
      "+---------+----------------+\n",
      "|   q37   |      9236      |\n",
      "+---------+----------------+\n",
      "|   q38   |     21689      |\n",
      "+---------+----------------+\n",
      "|   q39a  |      4977      |\n",
      "+---------+----------------+\n",
      "|   q39b  |      4348      |\n",
      "+---------+----------------+\n",
      "|    q4   |     76377      |\n",
      "+---------+----------------+\n",
      "|   q40   |     10583      |\n",
      "+---------+----------------+\n",
      "|   q41   |      850       |\n",
      "+---------+----------------+\n",
      "|   q42   |      2651      |\n",
      "+---------+----------------+\n",
      "|   q43   |      4624      |\n",
      "+---------+----------------+\n",
      "|   q44   |     22764      |\n",
      "+---------+----------------+\n",
      "|   q45   |      9272      |\n",
      "+---------+----------------+\n",
      "|   q46   |     11532      |\n",
      "+---------+----------------+\n",
      "|   q47   |     13267      |\n",
      "+---------+----------------+\n",
      "|   q48   |      8952      |\n",
      "+---------+----------------+\n",
      "|   q49   |     19982      |\n",
      "+---------+----------------+\n",
      "|    q5   |     29797      |\n",
      "+---------+----------------+\n",
      "|   q50   |     68637      |\n",
      "+---------+----------------+\n",
      "|   q51   |     22858      |\n",
      "+---------+----------------+\n",
      "|   q52   |      1605      |\n",
      "+---------+----------------+\n",
      "|   q53   |      3906      |\n",
      "+---------+----------------+\n",
      "|   q54   |      8630      |\n",
      "+---------+----------------+\n",
      "|   q55   |      1570      |\n",
      "+---------+----------------+\n",
      "|   q56   |      4021      |\n",
      "+---------+----------------+\n",
      "|   q57   |     10065      |\n",
      "+---------+----------------+\n",
      "|   q58   |      5047      |\n",
      "+---------+----------------+\n",
      "|   q59   |     20144      |\n",
      "+---------+----------------+\n",
      "|    q6   |      8295      |\n",
      "+---------+----------------+\n",
      "|   q60   |      3904      |\n",
      "+---------+----------------+\n",
      "|   q61   |      7845      |\n",
      "+---------+----------------+\n",
      "|   q62   |      9022      |\n",
      "+---------+----------------+\n",
      "|   q63   |      3540      |\n",
      "+---------+----------------+\n",
      "|   q64   |     38596      |\n",
      "+---------+----------------+\n",
      "|   q65   |     37387      |\n",
      "+---------+----------------+\n",
      "|   q66   |      8166      |\n",
      "+---------+----------------+\n",
      "|   q67   |     229396     |\n",
      "+---------+----------------+\n",
      "|   q68   |     11528      |\n",
      "+---------+----------------+\n",
      "|   q69   |      5754      |\n",
      "+---------+----------------+\n",
      "|    q7   |      5161      |\n",
      "+---------+----------------+\n",
      "|   q70   |      9513      |\n",
      "+---------+----------------+\n",
      "|   q71   |      4637      |\n",
      "+---------+----------------+\n",
      "|   q72   |     40779      |\n",
      "+---------+----------------+\n",
      "|   q73   |      4942      |\n",
      "+---------+----------------+\n",
      "|   q74   |     32656      |\n",
      "+---------+----------------+\n",
      "|   q75   |     60252      |\n",
      "+---------+----------------+\n",
      "|   q76   |     23544      |\n",
      "+---------+----------------+\n",
      "|   q77   |      3699      |\n",
      "+---------+----------------+\n",
      "|   q78   |     109105     |\n",
      "+---------+----------------+\n",
      "|   q79   |     12143      |\n",
      "+---------+----------------+\n",
      "|    q8   |      8072      |\n",
      "+---------+----------------+\n",
      "|   q80   |     32567      |\n",
      "+---------+----------------+\n",
      "|   q81   |     16859      |\n",
      "+---------+----------------+\n",
      "|   q82   |     13281      |\n",
      "+---------+----------------+\n",
      "|   q83   |      3033      |\n",
      "+---------+----------------+\n",
      "|   q84   |      9239      |\n",
      "+---------+----------------+\n",
      "|   q85   |     13580      |\n",
      "+---------+----------------+\n",
      "|   q86   |      4267      |\n",
      "+---------+----------------+\n",
      "|   q87   |     24690      |\n",
      "+---------+----------------+\n",
      "|   q88   |     10980      |\n",
      "+---------+----------------+\n",
      "|   q89   |      4014      |\n",
      "+---------+----------------+\n",
      "|    q9   |     16659      |\n",
      "+---------+----------------+\n",
      "|   q90   |      7321      |\n",
      "+---------+----------------+\n",
      "|   q91   |      9623      |\n",
      "+---------+----------------+\n",
      "|   q92   |      1870      |\n",
      "+---------+----------------+\n",
      "|   q93   |     78047      |\n",
      "+---------+----------------+\n",
      "|   q94   |     27602      |\n",
      "+---------+----------------+\n",
      "|   q95   |     58444      |\n",
      "+---------+----------------+\n",
      "|   q96   |     11220      |\n",
      "+---------+----------------+\n",
      "|   q97   |     41563      |\n",
      "+---------+----------------+\n",
      "|   q98   |      3543      |\n",
      "+---------+----------------+\n",
      "|   q99   |     15113      |\n",
      "+---------+----------------+\n"
     ]
    },
    {
     "data": {
      "image/png": "[encoded data removed]",
      "text/plain": [
       "<Figure size 2500x1500 with 1 Axes>"
      ]
     },
     "metadata": {},
     "output_type": "display_data"
    },
    {
     "name": "stdout",
     "output_type": "stream",
     "text": [
      "----------------------------------------------------------------------------------------------------------\n",
      "Writing to GCS bucket sparkpoc-bucket-dpgce-premium-279814974066-us-east1\n",
      "Runtime results successfully written to gs://sparkpoc-bucket-dpgce-premium-279814974066-us-east1/dpgce-benchmarking-premium-2/premium/native/output/parquet/tpcds/sf1000/dpgce_premium_native_parquet_sf1000_tpch_tpcds_dpgce-benchmarking-premium-2_us-east1_2025-08-06_10-35-56.csv\n",
      "----------------------------------------------------------------------------------------------------------\n",
      "Waiting for old YARN application (ID: application_1754464177981_0008) to finish. Current state: FINISHED (0/120s)\n",
      "Old YARN application (ID: application_1754464177981_0008) has finished with state: FINISHED.\n"
     ]
    }
   ],
   "source": [
    "if second_benchmark is not None:\n",
    "    # Run second benchmark    \n",
    "    runTPCBenchmark(spark,second_benchmark,benchmark_configs,BUCKET_NAME,CLUSTER_NAME,RUN_ID,RUNTYPE,TIER)\n",
    "else:\n",
    "    print(\"Second benchmark is empty!\")\n",
    "    print(f\"Skipping this step.\")    "
   ]
  }
 ],
 "metadata": {
  "environment": {
   "kernel": "9c39b79e5d2e7072beb4bd59-premium-spark-runtime",
   "name": "workbench-notebooks.m131",
   "type": "gcloud",
   "uri": "us-docker.pkg.dev/deeplearning-platform-release/gcr.io/workbench-notebooks:m131"
  },
  "kernelspec": {
   "display_name": "Premium for running TPC Benchmark on Serverless Spark (Remote)",
   "language": "python",
   "name": "9c39b79e5d2e7072beb4bd59-premium-spark-runtime"
  },
  "language_info": {
   "codemirror_mode": {
    "name": "ipython",
    "version": 3
   },
   "file_extension": ".py",
   "mimetype": "text/x-python",
   "name": "python",
   "nbconvert_exporter": "python",
   "pygments_lexer": "ipython3",
   "version": "3.12.3"
  }
 },
 "nbformat": 4,
 "nbformat_minor": 5
}
