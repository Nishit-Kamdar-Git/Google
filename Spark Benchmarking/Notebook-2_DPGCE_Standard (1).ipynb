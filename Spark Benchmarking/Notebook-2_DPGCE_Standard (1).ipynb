{
 "cells": [
  {
   "cell_type": "markdown",
   "id": "29adfe37-1345-4a8a-ae6c-6bb451e2a9c3",
   "metadata": {},
   "source": [
    "## DPGCE Standard"
   ]
  },
  {
   "cell_type": "markdown",
   "id": "30d60ab5-c76e-4cf1-bd3e-60df7931af30",
   "metadata": {
    "tags": []
   },
   "source": [
    "### Objective\n",
    "This notebook is designed for running TPCH and TPCDS benchmarks on DPGCE Standard cluster."
   ]
  },
  {
   "cell_type": "markdown",
   "id": "3e947fc5-0c4e-4cab-b63f-193238a86b0f",
   "metadata": {
    "tags": []
   },
   "source": [
    "### Initialize Public GCS Bucket\n",
    "This initializes the public GCS bucket from which datasets and utilities will be copied to your GCS bucket."
   ]
  },
  {
   "cell_type": "code",
   "execution_count": 1,
   "id": "f8a908e9-80b6-4e29-897f-d663d4cd62a5",
   "metadata": {
    "tags": []
   },
   "outputs": [],
   "source": [
    "SOURCE_PUBLIC_GCS_BUCKET = \"tpc-benchmarking-kit-bucket\""
   ]
  },
  {
   "cell_type": "markdown",
   "id": "79822a27-91e6-498d-a70d-fdbca31272ff",
   "metadata": {},
   "source": [
    "### Benchmark Configuration Setup\n",
    "\n",
    "This step initializes the benchmark configurations. These configurations define the parameters for the benchmark run, such as:\n",
    "\n",
    "- **Benchmark:** The benchmarks to run (e.g., \"tpch\",  \"tpcds\",  \"tpch,tpcds\",  \"tpcds,tpch\").\n",
    "- **TPCH Queries to Run:** The specific queries to run for TPCH (e.g., \"q1,q2\", \"q3\", \"all\").\n",
    "- **TPCDS Queries to Run:** The specific queries to run for TPCDS (e.g., \"q1,q2\", \"q3\", \"all\").\n",
    "- **Size:** The scale factor or data size (e.g., \"sf1000\", \"sf10000\").\n",
    "- **File Format:** The currently supported file format is Parquet.\n",
    "\n",
    "**NOTE: You can customize the benchmark_configs to adjust the benchmark settings. After making changes, restart the kernel and re-run all cells for the modifications to take effect.**"
   ]
  },
  {
   "cell_type": "code",
   "execution_count": 2,
   "id": "2306de89-0385-4658-ad64-468a9764fb86",
   "metadata": {
    "tags": []
   },
   "outputs": [],
   "source": [
    "benchmark_configs = {\n",
    "    \"benchmark\":\"tpch,tpcds\", # the benchmark that gets specified first is run first\n",
    "    \"TPCH_queries_to_run\": \"all\", # if benchmark does not contain tpch, this will be ignored\n",
    "    \"TPCDS_queries_to_run\": \"all\", # if benchmark does not contain tpcds, this will be ignored\n",
    "    \"size\": \"sf1000\", # sf1000 for 1000GB, sf10000 for 10000GB\n",
    "    \"file_format\": \"parquet\"\n",
    "}"
   ]
  },
  {
   "cell_type": "code",
   "execution_count": 3,
   "id": "26911b29-2211-4e00-9a02-f6b08b3e0316",
   "metadata": {
    "tags": []
   },
   "outputs": [],
   "source": [
    "benchmark_string = benchmark_configs.get(\"benchmark\", \"\")\n",
    "size = benchmark_configs.get(\"size\",\"\")\n",
    "file_format = benchmark_configs.get(\"file_format\", \"\")\n",
    "\n",
    "benchmarks_list = [bench.strip() for bench in benchmark_string.split(',')]\n",
    "\n",
    "first_benchmark = benchmarks_list[0] if len(benchmarks_list) > 0 else None\n",
    "second_benchmark = benchmarks_list[1] if len(benchmarks_list) > 1 else None"
   ]
  },
  {
   "cell_type": "markdown",
   "id": "1079f38b-c736-49fd-bf13-43457ac4af98",
   "metadata": {},
   "source": [
    "### Validate Benchmark Configurations"
   ]
  },
  {
   "cell_type": "code",
   "execution_count": 4,
   "id": "25a2b1a4-91b4-4202-8a8d-fd4e9ea7c6aa",
   "metadata": {
    "tags": []
   },
   "outputs": [
    {
     "name": "stdout",
     "output_type": "stream",
     "text": [
      "Benchmark Configurations\n",
      "First benchmark: tpch\n",
      "Second benchmark: tpcds\n",
      "Scale Factor: sf1000\n",
      "File Format: parquet\n"
     ]
    }
   ],
   "source": [
    "# Check for valid benchmark types\n",
    "\n",
    "if first_benchmark is None:\n",
    "    print(\"Error! Please specify benchmark to be run.\")\n",
    "    print(\"Valid benchmark types are - \\n 1. tpch \\n 2. tpcds \\n 3. tpch,tpcds \\n 4. tpcds,tpch\")\n",
    "    raise SystemExit()\n",
    "    \n",
    "if first_benchmark != \"tpch\" and first_benchmark != \"tpcds\":\n",
    "    print(f\"Error! Unrecognised benchmark type {first_benchmark}.\")\n",
    "    print(\"Valid benchmark types are - \\n 1. tpch \\n 2. tpcds \\n 3. tpch,tpcds \\n 4. tpcds,tpch\")\n",
    "    raise SystemExit()\n",
    "    \n",
    "if second_benchmark is not None and second_benchmark != \"tpch\" and second_benchmark != \"tpcds\":\n",
    "    print(f\"Error! Unrecognised benchmark type {second_benchmark}.\")\n",
    "    print(\"Valid benchmark types are - \\n 1. tpch \\n 2. tpcds \\n 3. tpch,tpcds \\n 4. tpcds,tpch\")\n",
    "    raise SystemExit()\n",
    "    \n",
    "# Check for valid scale factor\n",
    "if size is None or size == \"\" :\n",
    "    print(\"Error! Please specify scale factor/size\")\n",
    "    print(\"Valid size values are - \\n 1. sf1000 \\n 2. sf10000\")\n",
    "    raise SystemExit()\n",
    "\n",
    "if size != \"sf1000\" and size != \"sf10000\":\n",
    "    print(f\"Error! Unsupported value for size {size}\")\n",
    "    print(\"Valid size values are - \\n 1. sf1000 \\n 2. sf10000\")\n",
    "    raise SystemExit()\n",
    "\n",
    "# Check for valid file formats\n",
    "if file_format is None or file_format == \"\":\n",
    "    print(\"Error! Please specify file format\")\n",
    "    print(\"Valid file formats are - \\n 1. parquet\")\n",
    "    raise SystemExit()    \n",
    "\n",
    "if file_format != \"parquet\" :\n",
    "    print(f\"Error! Unrecognised file format {file_format}\")\n",
    "    print(\"Valid file formats are - \\n 1. parquet\")\n",
    "    raise SystemExit()  \n",
    "\n",
    "print(\"Benchmark Configurations\")\n",
    "print(f\"First benchmark: {first_benchmark}\")\n",
    "print(f\"Second benchmark: {second_benchmark}\")\n",
    "print(f\"Scale Factor: {size}\")\n",
    "print(f\"File Format: {file_format}\")"
   ]
  },
  {
   "cell_type": "markdown",
   "id": "31c1e912-b255-4319-aa1d-056061265ac2",
   "metadata": {},
   "source": [
    "### Initialization Setup\n",
    "This cell defines variables storing your DPGCE cluster, region, and project details."
   ]
  },
  {
   "cell_type": "code",
   "execution_count": 5,
   "id": "9462ee49-a8b8-46af-8a31-3c9f4c443de6",
   "metadata": {
    "tags": []
   },
   "outputs": [
    {
     "name": "stdout",
     "output_type": "stream",
     "text": [
      "Google Cloud Project: nishitkamdarargo\n",
      "Project Number: 279814974066\n",
      "Cluster: dpgce-benchmarking-standard\n",
      "Region: us-east1\n"
     ]
    }
   ],
   "source": [
    "import os\n",
    "import re\n",
    "import subprocess\n",
    "import requests\n",
    "import json\n",
    "\n",
    "CLUSTER_NAME = None \n",
    "BUCKET_NAME = None\n",
    "REGION = None\n",
    "TIER = \"standard\"\n",
    "\n",
    "# Get cluster name\n",
    "def get_dataproc_cluster_name():\n",
    "    metadata_url = \"http://metadata.google.internal/computeMetadata/v1/instance/attributes/dataproc-cluster-name\"\n",
    "    headers = {\"Metadata-Flavor\": \"Google\"}\n",
    "\n",
    "    try:\n",
    "        response = requests.get(metadata_url, headers=headers, timeout=5)\n",
    "        response.raise_for_status()  # Raise an exception for HTTP errors (4xx or 5xx)\n",
    "        cluster_name = response.text\n",
    "        return cluster_name\n",
    "    except requests.exceptions.RequestException as e:\n",
    "        print(f\"Could not retrieve Dataproc cluster name from metadata server: {e}\")\n",
    "        return None\n",
    "    except Exception as e:\n",
    "        print(f\"An unexpected error occurred: {e}\")\n",
    "        return None\n",
    "\n",
    "# Retrieves the current region in use\n",
    "def get_gcloud_region():\n",
    "    metadata_url = \"http://metadata.google.internal/computeMetadata/v1/instance/zone\"\n",
    "    headers = {\"Metadata-Flavor\": \"Google\"}\n",
    "\n",
    "    try:\n",
    "        response = requests.get(metadata_url, headers=headers, timeout=5)\n",
    "        response.raise_for_status() \n",
    "        zone = response.text.split('/')[-1]\n",
    "        region = '-'.join(zone.split('-')[:-1])\n",
    "        return region\n",
    "    except requests.exceptions.RequestException as e:\n",
    "        print(f\"Could not retrieve region from metadata server: {e}\")\n",
    "        return None\n",
    "    except Exception as e:\n",
    "        print(f\"An unexpected error occurred: {e}\")\n",
    "        return None\n",
    "        \n",
    "# Returns name of current project\n",
    "def get_gcloud_project():\n",
    "    try:\n",
    "        command = [\"gcloud\", \"config\", \"get\", \"project\"]\n",
    "        process = subprocess.run(command, capture_output=True, text=True, check=True)\n",
    "        project_name = process.stdout.strip()\n",
    "        return project_name\n",
    "    except subprocess.CalledProcessError as e:\n",
    "        raise ValueError(f\"Error getting gcloud project: {e}\\nStdout: {e.stdout}\\nStderr: {e.stderr}\")\n",
    "    except FileNotFoundError:\n",
    "        raise ValueError(\"Error: gcloud command not found. Make sure the Google Cloud CLI is installed and in your system's PATH.\")\n",
    "        \n",
    "# Returns project number of current project\n",
    "def get_project_number(project_id: str) -> str:\n",
    "    try:\n",
    "        command = [\n",
    "            \"gcloud\",\n",
    "            \"projects\",\n",
    "            \"describe\",\n",
    "            project_id,\n",
    "            \"--format=value(projectNumber)\",\n",
    "        ]\n",
    "        result = subprocess.run(command, capture_output=True, text=True, check=True)\n",
    "        project_number = result.stdout.strip()\n",
    "        return project_number\n",
    "    except subprocess.CalledProcessError as e:\n",
    "        raise ValueError(f\"Error executing gcloud command for project ID '{project_id}': {e}\\nStderr: {e.stderr}\")\n",
    "    except FileNotFoundError:\n",
    "        raise ValueError(\"Error: gcloud CLI not found. Make sure it's installed and in your system's PATH.\")\n",
    "        \n",
    "CLUSTER_NAME = get_dataproc_cluster_name()\n",
    "REGION = get_gcloud_region()\n",
    "PROJECT = get_gcloud_project()\n",
    "PROJECT_NUMBER = get_project_number(PROJECT)\n",
    "\n",
    "\n",
    "print(f\"Google Cloud Project: {PROJECT}\")\n",
    "print(f\"Project Number: {PROJECT_NUMBER}\")\n",
    "print(f\"Cluster: {CLUSTER_NAME}\")\n",
    "print(f\"Region: {REGION}\")"
   ]
  },
  {
   "cell_type": "markdown",
   "id": "4f6c9e07-8cab-46f2-b948-ca853c251e9d",
   "metadata": {},
   "source": [
    "### Initialize your GCS Bucket\n",
    "To run the benchmarks, a Google Cloud Storage (GCS) bucket is required to store necessary utilities.\n",
    "\n",
    "The default GCS bucket name is `sparkpoc-bucket-dpgce-standard-PROJECT_NUMBER-REGION`. You can use a different bucket name as needed.\n",
    "\n",
    "**NOTE - The following cell will attempt to create a storage bucket. If a bucket with this name already exists in the specified region and you own it, you might see a \"bucket name taken\" message or a confirmation of a previous creation. You can safely ignore these messages if your desired bucket is already created. Otherwise, please choose a unique bucket name and try again.**"
   ]
  },
  {
   "cell_type": "code",
   "execution_count": 6,
   "id": "928e35fb-f961-48ca-acf9-ad683881b2c3",
   "metadata": {
    "tags": []
   },
   "outputs": [
    {
     "name": "stdout",
     "output_type": "stream",
     "text": [
      "GCS Bucket Name: sparkpoc-bucket-dpgce-standard-279814974066-us-east1\n"
     ]
    }
   ],
   "source": [
    "BUCKET_NAME = f\"sparkpoc-bucket-dpgce-standard-{PROJECT_NUMBER}-{REGION}\"\n",
    "print(f\"GCS Bucket Name: {BUCKET_NAME}\")"
   ]
  },
  {
   "cell_type": "code",
   "execution_count": 7,
   "id": "570779e1-7965-45fc-afd1-c8dcdc4ba21f",
   "metadata": {
    "tags": []
   },
   "outputs": [
    {
     "name": "stdout",
     "output_type": "stream",
     "text": [
      "Creating gs://sparkpoc-bucket-dpgce-standard-279814974066-us-east1/...\n",
      "\u001b[1;31mERROR:\u001b[0m (gcloud.storage.buckets.create) HTTPError 409: Your previous request to create the named bucket succeeded and you already own it.\n"
     ]
    }
   ],
   "source": [
    "! gcloud storage buckets create gs://{BUCKET_NAME} --uniform-bucket-level-access --location={REGION}"
   ]
  },
  {
   "cell_type": "markdown",
   "id": "c8854323-68f3-4a29-9339-cee179f9f1ad",
   "metadata": {},
   "source": [
    "### Defining the Run Id\n",
    "The following cell defines a unique identifier for the current notebook execution. This Run Id can be used in the `Comparison_Notebook` for Runtime and Cost performance comparison"
   ]
  },
  {
   "cell_type": "code",
   "execution_count": 8,
   "id": "87f8da7c-f596-4110-b012-9e9d08a2e309",
   "metadata": {
    "tags": []
   },
   "outputs": [
    {
     "name": "stdout",
     "output_type": "stream",
     "text": [
      "The Run Id for current notebook session is dpgce_standard_spark_parquet_sf1000_tpch_tpcds_dpgce-benchmarking-standard_us-east1_2025-08-06_05-21-58\n"
     ]
    }
   ],
   "source": [
    "RUNTYPE = \"spark\"\n",
    "\n",
    "from datetime import datetime, timezone\n",
    "now_utc = datetime.now(timezone.utc)\n",
    "timestamp_str = now_utc.strftime(\"%Y-%m-%d_%H-%M-%S\")\n",
    "\n",
    "RUN_ID = f\"dpgce_{TIER}_{RUNTYPE}_{file_format}_{size}_{first_benchmark}\"\n",
    "\n",
    "if second_benchmark is not None:\n",
    "    RUN_ID+=f\"_{second_benchmark}\"\n",
    "\n",
    "RUN_ID+=f\"_{CLUSTER_NAME}_{REGION}_{timestamp_str}\"\n",
    "\n",
    "print(f\"The Run Id for current notebook session is {RUN_ID}\")"
   ]
  },
  {
   "cell_type": "markdown",
   "id": "7e8ab533-ffb3-481e-bcef-b8b8e3690c1e",
   "metadata": {},
   "source": [
    "### Copy Utilities\n",
    "\n",
    "Run the following cells to copy the necessary utilities in your GCS bucket.\n",
    "\n",
    "Duplicate file copy operations will be skipped.\n",
    "\n",
    "**Troubleshooting: If the copy operation seems to hang at 100% for a significant time, it's likely due to a temporary error. In such cases, restarting the kernel and running all cells from the beginning is recommended.**"
   ]
  },
  {
   "cell_type": "code",
   "execution_count": 9,
   "id": "f2add8b3-4d9f-4957-8b2e-9ee3dee800cf",
   "metadata": {
    "tags": []
   },
   "outputs": [
    {
     "name": "stdout",
     "output_type": "stream",
     "text": [
      "Copying utilities\n",
      "Source GCS location: gs://tpc-benchmarking-kit-bucket/notebook_utils/\n",
      "Destination GCS location: gs://sparkpoc-bucket-dpgce-standard-279814974066-us-east1/dpgce-benchmarking-standard/standard/notebook_utils/\n",
      "\n",
      "Polling for latest operation name...done.                                      \n",
      "Operation name: transferJobs-2593748299864106230-1622920941632256274\n",
      "Parent job: 2593748299864106230\n",
      "Start time: 2025-08-06T05:22:01.720031609Z\n",
      "SUCCESS | 0% (0B of 0B) | Skipped: 162.6kiB | Errors: 0 : 0 /\n",
      "End time: 2025-08-06T05:22:13.735374850Z\n"
     ]
    }
   ],
   "source": [
    "source_location = f\"gs://{SOURCE_PUBLIC_GCS_BUCKET}/notebook_utils/\"\n",
    "destination_location = f\"gs://{BUCKET_NAME}/{CLUSTER_NAME}/{TIER}/notebook_utils/\"\n",
    "\n",
    "print(\"Copying utilities\")\n",
    "print(f\"Source GCS location: {source_location}\")\n",
    "print(f\"Destination GCS location: {destination_location}\")\n",
    "print(\"\")\n",
    "\n",
    "# Copy notebook_utils which contains queries\n",
    "! gcloud transfer jobs monitor \\\n",
    "$( gcloud transfer jobs create \\\n",
    "  --format='value(name)' \\\n",
    "  \"{source_location}\" \"{destination_location}\"\\\n",
    ")"
   ]
  },
  {
   "cell_type": "markdown",
   "id": "fbbdfd7b-3627-4135-b420-830e6c9e6377",
   "metadata": {},
   "source": [
    "### Copy Datasets\n",
    "\n",
    "Duplicate file copy operations will be skipped.\n",
    "\n",
    "**Troubleshooting: If the copy operation seems to hang at 100% for a significant time, it's likely due to a temporary error. In such cases, restarting the kernel and running all cells from the beginning is recommended.**"
   ]
  },
  {
   "cell_type": "code",
   "execution_count": 10,
   "id": "4bfb437e-d759-4e29-a9dc-afa3ed4bdcc2",
   "metadata": {
    "tags": []
   },
   "outputs": [
    {
     "name": "stdout",
     "output_type": "stream",
     "text": [
      "Copying tpch sf1000 datasets\n",
      "Source GCS location: gs://tpc-benchmarking-kit-bucket/tpch/sf1000/\n",
      "Destination GCS location: gs://sparkpoc-bucket-dpgce-standard-279814974066-us-east1/dpgce-benchmarking-standard/standard/tpch/sf1000/\n",
      "\n",
      "Polling for latest operation name...done.                                      \n",
      "Operation name: transferJobs-10238279509825611455-9528194801660876550\n",
      "Parent job: 10238279509825611455\n",
      "Start time: 2025-08-06T05:22:16.418506835Z\n",
      "^C_PROGRESS | 0% (0B of 0B) | Skipped: 0B | Errors: 0 -\n",
      "\n",
      "\n",
      "Command killed by keyboard interrupt\n",
      "\n"
     ]
    }
   ],
   "source": [
    "print(f\"Copying {first_benchmark} {size} datasets\")\n",
    "\n",
    "source_location = f\"gs://{SOURCE_PUBLIC_GCS_BUCKET}/{first_benchmark}/{size}/\"\n",
    "destination_location = f\"gs://{BUCKET_NAME}/{CLUSTER_NAME}/{TIER}/{first_benchmark}/{size}/\"\n",
    "\n",
    "print(f\"Source GCS location: {source_location}\")\n",
    "print(f\"Destination GCS location: {destination_location}\")\n",
    "print(\"\")\n",
    "\n",
    "# Copy TPC datasets\n",
    "! gcloud transfer jobs monitor \\\n",
    "$( gcloud transfer jobs create \\\n",
    "  --format='value(name)' \\\n",
    "  \"{source_location}\" \"{destination_location}\"\\\n",
    ")"
   ]
  },
  {
   "cell_type": "code",
   "execution_count": 11,
   "id": "6a19eaab-e7e7-429b-8125-bf1160f6cdef",
   "metadata": {
    "tags": []
   },
   "outputs": [
    {
     "name": "stdout",
     "output_type": "stream",
     "text": [
      "Copying tpcds sf1000 datasets\n",
      "Source GCS location: gs://tpc-benchmarking-kit-bucket/tpcds/sf1000/\n",
      "Destination GCS location: gs://sparkpoc-bucket-dpgce-standard-279814974066-us-east1/dpgce-benchmarking-standard/standard/tpcds/sf1000/\n",
      "\n",
      "Polling for latest operation name...done.                                      \n",
      "Operation name: transferJobs-12616296685401794160-2836621818135892491\n",
      "Parent job: 12616296685401794160\n",
      "Start time: 2025-08-06T05:23:08.325245862Z\n",
      "SUCCESS | 0% (0B of 0B) | Skipped: 304.3GiB | Errors: 0 : 0 /\n",
      "End time: 2025-08-06T05:23:20.606900228Z\n"
     ]
    }
   ],
   "source": [
    "if second_benchmark is not None:\n",
    "    print(f\"Copying {second_benchmark} {size} datasets\")\n",
    "    \n",
    "    source_location = f\"gs://{SOURCE_PUBLIC_GCS_BUCKET}/{second_benchmark}/{size}/\"\n",
    "    destination_location = f\"gs://{BUCKET_NAME}/{CLUSTER_NAME}/{TIER}/{second_benchmark}/{size}/\"\n",
    "    \n",
    "    print(f\"Source GCS location: {source_location}\")\n",
    "    print(f\"Destination GCS location: {destination_location}\")\n",
    "    print(\"\")    \n",
    "    \n",
    "    # Copy TPC datasets\n",
    "    ! gcloud transfer jobs monitor \\\n",
    "    $( gcloud transfer jobs create \\\n",
    "      --format='value(name)' \\\n",
    "      \"{source_location}\" \"{destination_location}\"\\\n",
    "    )\n",
    "\n",
    "else:\n",
    "    print(\"Second benchmark is empty\")\n",
    "    print(\"Skipping this step.\")"
   ]
  },
  {
   "cell_type": "markdown",
   "id": "521e75f6-c70f-49ab-adfe-a63d37c07e4a",
   "metadata": {},
   "source": [
    "### Define Benchmark Utility Functions\n",
    "\n",
    "To facilitate the execution of TPC benchmarks, we need to load a set of utility functions. These functions are defined in the following cell and handle tasks such as:\n",
    "\n",
    "- Query execution timing\n",
    "- Data loading and setup\n",
    "- Result formatting\n",
    "- Writing results to GCS\n",
    "- Terminating current Spark session\n"
   ]
  },
  {
   "cell_type": "code",
   "execution_count": 12,
   "id": "1fa8206e-779e-4f94-8646-53f07e4c11b0",
   "metadata": {
    "tags": []
   },
   "outputs": [],
   "source": [
    "from pyspark.sql import SparkSession\n",
    "from urllib.parse import urlparse\n",
    "from py4j.java_gateway import java_import\n",
    "import os\n",
    "from google.cloud import storage\n",
    "import time\n",
    "from typing import Callable, List, Tuple\n",
    "import csv\n",
    "import io\n",
    "import matplotlib.pyplot as plt\n",
    "from prettytable import PrettyTable, HRuleStyle\n",
    "import subprocess\n",
    "import re\n",
    "\n",
    "################################################ Run Benchmark ############################################\n",
    "\n",
    "# Set up TPCH tables\n",
    "def setupTPCHTables(spark: SparkSession, locationPath: str, size: str):\n",
    "    spark.sparkContext.setJobDescription(\"SETUP\")\n",
    "    tpchtables = [\"customer\", \"lineitem\", \"nation\", \"orders\", \"part\", \"partsupp\", \"region\", \"supplier\"]\n",
    "\n",
    "    print(\"Setting up TPCH tables\")\n",
    "\n",
    "    ntn = f\"\"\"create table nation (n_nationkey long, n_name string, n_regionkey long, n_comment string) using parquet location \"{locationPath}/tpch/{size}/parquet/partitioned/{size}_parquet/nation/\" options (\"compression\"=\"snappy\")\"\"\"\n",
    "    rgn = f\"\"\"create table region (r_regionkey long, r_name string, r_comment string) using parquet location \"{locationPath}/tpch/{size}/parquet/partitioned/{size}_parquet/region/\" options (\"compression\"=\"snappy\")\"\"\"\n",
    "    prtsupp = f\"\"\"create table partsupp (ps_partkey long, ps_suppkey long, ps_availqty int, ps_supplycost decimal(12, 2), ps_comment string) using parquet location \"{locationPath}/tpch/{size}/parquet/partitioned/{size}_parquet/partsupp/\" options (\"compression\"=\"snappy\")\"\"\"\n",
    "    supp = f\"\"\"create table supplier (s_suppkey long, s_name string, s_address string, s_nationkey long, s_phone string, s_acctbal decimal(12, 2), s_comment string) using parquet location \"{locationPath}/tpch/{size}/parquet/partitioned/{size}_parquet/supplier/\" options (\"compression\"=\"snappy\")\"\"\"\n",
    "    odrs = f\"\"\"create table orders (o_orderkey long, o_custkey long, o_orderstatus string, o_totalprice decimal(12, 2), o_orderdate date, o_orderpriority string, o_clerk string, o_shippriority int, o_comment string) using parquet partitioned by (o_orderdate) location \"{locationPath}/tpch/{size}/parquet/partitioned/{size}_parquet/orders/\" options (\"compression\"=\"snappy\")\"\"\"\n",
    "    cstmr = f\"\"\"create table customer (c_custkey long, c_name string, c_address string, c_nationkey long, c_phone string, c_acctbal decimal(12, 2), c_mktsegment string, c_comment string) using parquet partitioned by (c_mktsegment) location \"{locationPath}/tpch/{size}/parquet/partitioned/{size}_parquet/customer/\" options (\"compression\"=\"snappy\")\"\"\"\n",
    "    prt = f\"\"\"create table part (p_partkey long, p_name string, p_mfgr string, p_brand string, p_type string, p_size int, p_container string, p_retailprice decimal(12, 2), p_comment string) using parquet partitioned by (p_brand) location \"{locationPath}/tpch/{size}/parquet/partitioned/{size}_parquet/part/\" options (\"compression\"=\"snappy\")\"\"\"\n",
    "    litem = f\"\"\"create table lineitem (l_orderkey long, l_partkey long, l_suppkey long, l_linenumber int, l_quantity decimal(12, 2), l_extendedprice decimal(12, 2), l_discount decimal(12, 2), l_tax decimal(12,2), l_returnflag string, l_linestatus string, l_shipdate date, l_commitdate date, l_receiptdate date, l_shipinstruct string, l_shipmode string, l_comment string) USING parquet PARTITIONED BY (l_shipdate) LOCATION \"{locationPath}/tpch/{size}/parquet/partitioned/{size}_parquet/lineitem/\" options (\"compression\"=\"snappy\")\"\"\"\n",
    "\n",
    "    for table in tpchtables:\n",
    "        spark.sql(f\"DROP TABLE IF EXISTS {table}\")\n",
    "\n",
    "    spark.sql(ntn)\n",
    "    spark.sql(rgn)\n",
    "    spark.sql(prtsupp)\n",
    "    spark.sql(supp)\n",
    "    spark.sql(odrs)\n",
    "    spark.sql(cstmr)\n",
    "    spark.sql(prt)\n",
    "    spark.sql(litem)\n",
    "    spark.sql(\"msck repair table orders\")\n",
    "    spark.sql(\"msck repair table customer\")\n",
    "    spark.sql(\"msck repair table part\")\n",
    "    spark.sql(\"msck repair table lineitem\")\n",
    "    \n",
    "    print(\"TPCH Tables set up\")\n",
    "\n",
    "# Set up TPCDS tables\n",
    "def setupTPCDSTables(spark: SparkSession, locationPath: str, size: str):\n",
    "    spark.sparkContext.setJobDescription(\"SETUP\")\n",
    "    tpcdstables = [\"call_center\", \"catalog_page\", \"catalog_returns\", \"catalog_sales\", \"customer\", \"customer_address\", \"customer_demographics\", \"date_dim\", \"household_demographics\", \"income_band\", \"inventory\", \"item\", \"promotion\", \"reason\", \"ship_mode\", \"store\", \"store_returns\", \"store_sales\", \"time_dim\", \"warehouse\", \"web_page\", \"web_returns\", \"web_sales\", \"web_site\"]\n",
    "\n",
    "    print(\"Setting up TPCDS tables\")\n",
    "\n",
    "    store_sales = f\"\"\"create table store_sales using parquet location \"{locationPath}/tpcds/{size}/parquet/partitioned/{size}_parquet/store_sales/\" options (\"compression\"=\"snappy\")\"\"\"\n",
    "    store = f\"\"\"create table store using parquet location \"{locationPath}/tpcds/{size}/parquet/partitioned/{size}_parquet/store/\" options (\"compression\"=\"snappy\")\"\"\"\n",
    "    call_center = f\"\"\"create table call_center using parquet location \"{locationPath}/tpcds/{size}/parquet/partitioned/{size}_parquet/call_center/\" options (\"compression\"=\"snappy\")\"\"\"\n",
    "    catalog_page = f\"\"\"create table catalog_page using parquet location \"{locationPath}/tpcds/{size}/parquet/partitioned/{size}_parquet/catalog_page/\" options (\"compression\"=\"snappy\")\"\"\"\n",
    "    customer = f\"\"\"create table customer using parquet location \"{locationPath}/tpcds/{size}/parquet/partitioned/{size}_parquet/customer/\" options (\"compression\"=\"snappy\")\"\"\"\n",
    "    customer_address = f\"\"\"create table customer_address using parquet location \"{locationPath}/tpcds/{size}/parquet/partitioned/{size}_parquet/customer_address/\" options (\"compression\"=\"snappy\")\"\"\"\n",
    "    customer_demographics = f\"\"\"create table customer_demographics using parquet location \"{locationPath}/tpcds/{size}/parquet/partitioned/{size}_parquet/customer_demographics/\" options (\"compression\"=\"snappy\")\"\"\"\n",
    "    date_dim = f\"\"\"create table date_dim using parquet location \"{locationPath}/tpcds/{size}/parquet/partitioned/{size}_parquet/date_dim/\" options (\"compression\"=\"snappy\")\"\"\"\n",
    "    household_demographics = f\"\"\"create table household_demographics using parquet location \"{locationPath}/tpcds/{size}/parquet/partitioned/{size}_parquet/household_demographics/\" options (\"compression\"=\"snappy\")\"\"\"\n",
    "    income_band = f\"\"\"create table income_band using parquet location \"{locationPath}/tpcds/{size}/parquet/partitioned/{size}_parquet/income_band/\" options (\"compression\"=\"snappy\")\"\"\"\n",
    "    inventory = f\"\"\"create table inventory using parquet location \"{locationPath}/tpcds/{size}/parquet/partitioned/{size}_parquet/inventory/\" options (\"compression\"=\"snappy\")\"\"\"\n",
    "    item = f\"\"\"create table item using parquet location \"{locationPath}/tpcds/{size}/parquet/partitioned/{size}_parquet/item/\" options (\"compression\"=\"snappy\")\"\"\"\n",
    "    promotion = f\"\"\"create table promotion using parquet location \"{locationPath}/tpcds/{size}/parquet/partitioned/{size}_parquet/promotion/\" options (\"compression\"=\"snappy\")\"\"\"\n",
    "    reason = f\"\"\"create table reason using parquet location \"{locationPath}/tpcds/{size}/parquet/partitioned/{size}_parquet/reason/\" options (\"compression\"=\"snappy\")\"\"\"\n",
    "    ship_mode = f\"\"\"create table ship_mode using parquet location \"{locationPath}/tpcds/{size}/parquet/partitioned/{size}_parquet/ship_mode/\" options (\"compression\"=\"snappy\")\"\"\"\n",
    "    store_returns = f\"\"\"create table store_returns using parquet location \"{locationPath}/tpcds/{size}/parquet/partitioned/{size}_parquet/store_returns/\" options (\"compression\"=\"snappy\")\"\"\"\n",
    "    time_dim = f\"\"\"create table time_dim using parquet location \"{locationPath}/tpcds/{size}/parquet/partitioned/{size}_parquet/time_dim/\" options (\"compression\"=\"snappy\")\"\"\"\n",
    "    warehouse = f\"\"\"create table warehouse using parquet location \"{locationPath}/tpcds/{size}/parquet/partitioned/{size}_parquet/warehouse/\" options (\"compression\"=\"snappy\")\"\"\"\n",
    "    web_page = f\"\"\"create table web_page using parquet location \"{locationPath}/tpcds/{size}/parquet/partitioned/{size}_parquet/web_page/\" options (\"compression\"=\"snappy\")\"\"\"\n",
    "    web_returns = f\"\"\"create table web_returns using parquet location \"{locationPath}/tpcds/{size}/parquet/partitioned/{size}_parquet/web_returns/\" options (\"compression\"=\"snappy\")\"\"\"\n",
    "    web_sales = f\"\"\"create table web_sales using parquet location \"{locationPath}/tpcds/{size}/parquet/partitioned/{size}_parquet/web_sales/\" options (\"compression\"=\"snappy\")\"\"\"\n",
    "    web_site = f\"\"\"create table web_site using parquet location \"{locationPath}/tpcds/{size}/parquet/partitioned/{size}_parquet/web_site/\" options (\"compression\"=\"snappy\")\"\"\"\n",
    "    catalog_sales = f\"\"\"create table catalog_sales using parquet location \"{locationPath}/tpcds/{size}/parquet/partitioned/{size}_parquet/catalog_sales/\" options (\"compression\"=\"snappy\")\"\"\"\n",
    "    catalog_returns = f\"\"\"create table catalog_returns using parquet location \"{locationPath}/tpcds/{size}/parquet/partitioned/{size}_parquet/catalog_returns/\" options (\"compression\"=\"snappy\")\"\"\"\n",
    "\n",
    "    for table in tpcdstables:\n",
    "        spark.sql(f\"DROP TABLE IF EXISTS {table}\")\n",
    "\n",
    "    spark.sql(store_sales)\n",
    "    spark.sql(store)\n",
    "    spark.sql(call_center)\n",
    "    spark.sql(catalog_page)\n",
    "    spark.sql(customer)\n",
    "    spark.sql(customer_address)\n",
    "    spark.sql(customer_demographics)\n",
    "    spark.sql(date_dim)\n",
    "    spark.sql(household_demographics)\n",
    "    spark.sql(income_band)\n",
    "    spark.sql(inventory)\n",
    "    spark.sql(item)\n",
    "    spark.sql(promotion)\n",
    "    spark.sql(reason)\n",
    "    spark.sql(ship_mode)\n",
    "    spark.sql(store_returns)\n",
    "    spark.sql(time_dim)\n",
    "    spark.sql(warehouse)\n",
    "    spark.sql(web_page)\n",
    "    spark.sql(web_returns)\n",
    "    spark.sql(web_sales)\n",
    "    spark.sql(web_site)\n",
    "    spark.sql(catalog_sales)\n",
    "    spark.sql(catalog_returns)\n",
    "    spark.sql(\"alter table store_sales recover partitions\")\n",
    "    spark.sql(\"alter table catalog_sales recover partitions\")\n",
    "    spark.sql(\"alter table web_sales recover partitions\")\n",
    "    spark.sql(\"alter table catalog_returns recover partitions\")\n",
    "    spark.sql(\"alter table store_returns recover partitions\")\n",
    "    spark.sql(\"alter table web_returns recover partitions\")\n",
    "    spark.sql(\"alter table inventory recover partitions\")\n",
    "\n",
    "    print(\"TPCDS Tables set up\")\n",
    "\n",
    "# Returns list of query names in GCS folder of the given benchmark\n",
    "def getQueryNames(bucket_name: str, cluster_name: str, tier: str, benchmark: str) -> List[str]:\n",
    "    file_names = []\n",
    "    gcs_query_path = f\"{cluster_name}/{tier}/notebook_utils/{benchmark}-queries/\"\n",
    "    \n",
    "    try:\n",
    "        client = storage.Client()\n",
    "        bucket = client.get_bucket(bucket_name)\n",
    "        blobs = bucket.list_blobs(prefix=gcs_query_path)      \n",
    "        \n",
    "        for blob in blobs:\n",
    "            if not blob.name.endswith(\"/\"):  \n",
    "                relative_path = os.path.relpath(blob.name, gcs_query_path)\n",
    "                file_name = os.path.basename(relative_path)\n",
    "                name_without_suffix = file_name\n",
    "                dot_index = file_name.rfind('.')\n",
    "                if dot_index > 0:\n",
    "                    name_without_suffix = file_name[:dot_index]\n",
    "                file_names.append(name_without_suffix)\n",
    "\n",
    "        file_names.sort() \n",
    "        return file_names\n",
    "    \n",
    "    except Exception as e:\n",
    "        print(f\"Error listing files in 'gs://{bucket_name}/{gcs_query_path}': {e}\")\n",
    "        raise ValueError(f\"Failed to get query names from 'gs://{bucket_name}/{gcs_query_path}'\")\n",
    "\n",
    "# Returns the query string from given GCS path\n",
    "def getQuery(spark: SparkSession, gcsPath: str) -> str:\n",
    "    query = \"\"\n",
    "    try:\n",
    "        # Use Spark's textFile to read the content of the GCS file into an RDD\n",
    "        rdd = spark.sparkContext.textFile(gcsPath)\n",
    "        # Join all lines of the RDD with a new line\n",
    "        query = \"\\n\".join(rdd.collect())\n",
    "        return query\n",
    "    except Exception as e:\n",
    "        if \"java.io.FileNotFoundException\" in str(e):\n",
    "            print(f\"Error: File not found at path '{gcsPath}'\")\n",
    "        else:\n",
    "            print(f\"An error occurred while reading '{gcsPath}': {e}\")\n",
    "        return \"\"\n",
    "    \n",
    "# Measure query runtime in ms\n",
    "def measureTimeMs(query: str) -> int:\n",
    "    try:\n",
    "        start_time = time.perf_counter()\n",
    "        spark.sql(query).collect()\n",
    "        end_time = time.perf_counter()\n",
    "        elapsedTime = end_time - start_time\n",
    "        elapsedTime = elapsedTime * 1000\n",
    "        elapsedTime = round(elapsedTime)\n",
    "        return elapsedTime\n",
    "    except Exception as e:\n",
    "        print(f\"Error running query: {query}\\nError: {e}\")\n",
    "        return -1  \n",
    "\n",
    "\n",
    "# Write query runtimes to given GCS path\n",
    "def write_query_runtimes_to_gcs_csv(\n",
    "    runtime_data: List[Tuple[str, int]],\n",
    "    result_location: str\n",
    "):\n",
    "    if not runtime_data:\n",
    "        print(\"No data to write to CSV.\")\n",
    "        return    \n",
    "    \n",
    "    billing_pag_url = \"https://cloud.google.com/products/calculator?hl=en&dl=CjhDaVJqWkRjelptRTJNaTAxTVRsbUxUUmhZakV0WVdVM1pDMDNOR000WWpZM01qSTRORGNRQVE9PRAwGiRGNzQ1ODdGMC0yMEQ2LTQ2MzItQkEwMS05NjgwRDRBQjUzQzQ\"\n",
    "    \n",
    "    path_without_prefix = result_location[len(\"gs://\"):]\n",
    "    parts = path_without_prefix.split('/', 1)\n",
    "\n",
    "    if len(parts) == 2:\n",
    "        gcs_bucket_name = parts[0]\n",
    "        gcs_file_path = parts[1]\n",
    "    else: \n",
    "        raise ValueError(f\"Invalid result location!\")\n",
    "\n",
    "    # Create an in-memory file-like object\n",
    "    csv_buffer = io.StringIO()\n",
    "\n",
    "    # Create a CSV writer object\n",
    "    csv_writer = csv.writer(csv_buffer)\n",
    "    \n",
    "    csv_writer.writerow([\"Runtime Performance\"])\n",
    "\n",
    "    # Write the header row\n",
    "    csv_writer.writerow([\"Query_Id\", \"Runtime (in ms)\"])\n",
    "\n",
    "    # Write the data rows\n",
    "    for query_id, runtime in runtime_data:\n",
    "        csv_writer.writerow([query_id, runtime])\n",
    "    \n",
    "    csv_writer.writerow([])\n",
    "    csv_writer.writerow([\"Cost Performance\"])\n",
    "    csv_writer.writerow([f\"To estimate the cost of this run, copy the runtime hours and paste them into the Dataproc Cost Estimator available through the following link\"])\n",
    "    csv_writer.writerow([f\"{billing_pag_url}\"])\n",
    "    total_runtime = runtime_data[0][1]\n",
    "    csv_writer.writerow([f\"Total Runtime (in hours) : {round(total_runtime/3600000,4)}\"])  \n",
    "\n",
    "    # Get the CSV data from the buffer\n",
    "    csv_data = csv_buffer.getvalue()\n",
    "\n",
    "    # Initialize the GCS client\n",
    "    storage_client = storage.Client()\n",
    "    gcs_bucket_name\n",
    "    bucket = storage_client.bucket(gcs_bucket_name)\n",
    "    blob = bucket.blob(gcs_file_path)\n",
    "\n",
    "    try:\n",
    "        # Upload the CSV data to GCS\n",
    "        blob.upload_from_string(csv_data, content_type=\"text/csv\")\n",
    "        print(f\"Runtime results successfully written to {result_location}\")\n",
    "    except Exception as e:\n",
    "        print(f\"Error writing to GCS: {e}\")\n",
    "\n",
    "# Run TPC benchmark\n",
    "def runTPCBenchmark(spark: SparkSession, benchmark: str, benchmark_configs: dict[str, str], bucket_name: str, cluster_name: str, run_id: str, runtype: str, tier: str):\n",
    "    size = benchmark_configs.get(\"size\", \"\")\n",
    "    file_format = benchmark_configs.get(\"file_format\", \"\")   \n",
    "    prefix_location_path = f\"gs://{bucket_name}/{cluster_name}/{tier}\"\n",
    "    query_folder = f\"{prefix_location_path}/notebook_utils\"\n",
    "    query_names = getQueryNames(bucket_name,cluster_name,tier,benchmark)\n",
    "    result_location = f\"{prefix_location_path}/{runtype}/output/{file_format}/{benchmark}/{size}/{run_id}.csv\"\n",
    "    \n",
    "    if benchmark == \"tpch\":\n",
    "        queries_to_run = benchmark_configs.get(\"TPCH_queries_to_run\", \"\")\n",
    "        print(f\"Running benchmark: {benchmark}, size: {size}, queries to run: {queries_to_run}, runtime engine: {runtype}\")\n",
    "        \n",
    "        setupTPCHTables(spark,prefix_location_path,size)\n",
    "        \n",
    "        print(\"--------Running TPCH Benchmark with following configurations--------\")\n",
    "        \n",
    "    elif benchmark == \"tpcds\":\n",
    "        queries_to_run = benchmark_configs.get(\"TPCDS_queries_to_run\", \"\")\n",
    "        print(f\"Running benchmark: {benchmark}, size: {size}, queries to run: {queries_to_run}, runtime engine: {runtype}\")\n",
    "        \n",
    "        setupTPCDSTables(spark,prefix_location_path,size)\n",
    "        \n",
    "        print(\"--------Running TPCDS Benchmark with following configurations--------\")\n",
    "        \n",
    "    else:\n",
    "        print(f\"Unrecognised benchmark name {benchmark}\")\n",
    "        return\n",
    "    \n",
    "    \n",
    "    print(f\"Queries to run: {queries_to_run}\")\n",
    "    print(f\"Benchmark: {benchmark}\")\n",
    "    print(f\"Result Location: {result_location}\")\n",
    "    print(f\"Scale Factor: {size}\")\n",
    "    print(f\"File Format: {file_format}\")    \n",
    "    print(\"--------------------------------------------------------------------\")\n",
    "    \n",
    "    \n",
    "    runtime: List[Tuple[str, int]] = []\n",
    "\n",
    "    filtered_query_names = []\n",
    "    if queries_to_run.strip() == \"all\":\n",
    "        filtered_query_names = query_names\n",
    "    elif queries_to_run:\n",
    "        queries_to_run_list = [q.strip() for q in queries_to_run.split(',')] # Split by comma if multiple queries\n",
    "        filtered_query_names = [q for q in query_names if q in queries_to_run_list]\n",
    "    \n",
    "    for query_name in filtered_query_names:\n",
    "        query_path = f\"{query_folder}/{benchmark}-queries/{query_name}.sql\"\n",
    "        query = getQuery(spark, query_path)\n",
    "        if query:\n",
    "            print(f\"Running {benchmark} query {query_name}\")\n",
    "            spark.sparkContext.setJobDescription(query_name)\n",
    "            query_run_time = measureTimeMs(query)\n",
    "            if query_run_time != -1:                            \n",
    "                print(f\"{benchmark} query {query_name} ran in {query_run_time} ms\")\n",
    "                runtime.append((query_name, query_run_time))\n",
    "            else:\n",
    "                print(f\"{benchmark} query {query_name} failed.\")\n",
    "                runtime.append((query_name, 0))                \n",
    "        else:\n",
    "            print(f\"Skipping query {query_name} due to reading error.\")\n",
    "\n",
    "    query_ids = [item[0] for item in runtime]\n",
    "    runtimes = [item[1] for item in runtime]\n",
    "    \n",
    "    headers=[\"QueryId\", \"Runtime(in ms)\"]\n",
    "    total_runtime = sum(runtime_ms for _, runtime_ms in runtime)\n",
    "    runtime.insert(0,(\"Sum\",total_runtime))\n",
    "    \n",
    "\n",
    "    table = PrettyTable()\n",
    "    table.field_names = headers\n",
    "    table.add_rows(runtime)\n",
    "    table.hrules = HRuleStyle.ALL\n",
    "    print(table)\n",
    "        \n",
    "    plt.figure(figsize=(25, 15)) \n",
    "    plt.bar(query_ids, runtimes, color='skyblue')\n",
    "    plt.xlabel(\"Query Id\", fontsize=20)\n",
    "    plt.ylabel(\"Runtime (in ms)\", fontsize=20)\n",
    "    plt.title(f\"Query Runtimes for {benchmark} {size} (Runtype: {runtype}, File format: {file_format})\", fontsize=25)\n",
    "    plt.xticks(rotation=90, ha='right',fontsize=15)  \n",
    "    plt.yticks(fontsize=20)\n",
    "    plt.tight_layout()  \n",
    "    plt.show()\n",
    "    \n",
    "    print(\"----------------------------------------------------------------------------------------------------------\")\n",
    "    \n",
    "    # Write results to GCS bucket\n",
    "    print(f\"Writing to GCS bucket {bucket_name}\")\n",
    "    write_query_runtimes_to_gcs_csv(runtime,result_location)    \n",
    "    \n",
    "    print(\"----------------------------------------------------------------------------------------------------------\")\n",
    "    # Gracefully stopping the spark application and cleaning up yarn resources\n",
    "    app_id = spark.sparkContext.applicationId\n",
    "    spark.stop()\n",
    "    cleanup_yarn_application(app_id)\n",
    "\n",
    "    \n",
    "    \n",
    "################################################ Terminate Previous Spark Application ############################################\n",
    "\n",
    "# Reads the application ID from the given GCS path\n",
    "def read_app_id_from_gcs(gcs_uri: str) -> str or None:\n",
    "    try:\n",
    "        storage_client = storage.Client()\n",
    "        match = re.match(r\"gs://([^/]+)/(.*)\", gcs_uri)\n",
    "        if not match:\n",
    "            print(f\"Error: Invalid GCS URI format: {gcs_uri}\")\n",
    "            return None\n",
    "\n",
    "        bucket_name = match.group(1)\n",
    "        blob_name = match.group(2)\n",
    "        bucket = storage_client.bucket(bucket_name)\n",
    "        blob = bucket.blob(blob_name)\n",
    "\n",
    "        try:\n",
    "            app_id = blob.download_as_text()\n",
    "            return app_id.strip()\n",
    "        except storage.exceptions.NotFound:\n",
    "            print(f\"Error: GCS file not found at: {gcs_uri}\")\n",
    "            return None\n",
    "        except Exception as e:\n",
    "            print(f\"Error downloading from GCS: {e}\")\n",
    "            return None\n",
    "\n",
    "    except Exception as e:\n",
    "        print(f\"Error initializing GCS client or parsing URI: {e}\")\n",
    "        return None\n",
    "\n",
    "# Writes the current application ID to the given GCS path\n",
    "def write_app_id_to_gcs(gcs_uri: str, app_id: str):\n",
    "    try:\n",
    "        storage_client = storage.Client()\n",
    "        match = re.match(r\"gs://([^/]+)/(.*)\", gcs_uri)\n",
    "        if not match:\n",
    "            print(f\"Error: Invalid GCS URI format: {gcs_uri}. Could not write current application id to GCS.\")\n",
    "            return \n",
    "\n",
    "        bucket_name = match.group(1)\n",
    "        blob_name = match.group(2)\n",
    "        bucket = storage_client.bucket(bucket_name)\n",
    "        blob = bucket.blob(blob_name)\n",
    "\n",
    "        try:\n",
    "            blob.upload_from_string(app_id, content_type=\"text/plain\")\n",
    "            print(f\"Current Spark application ID '{app_id}' written to GCS: {gcs_uri}\")\n",
    "        except Exception as e:\n",
    "            print(f\"Error uploading to GCS: {e}\")\n",
    "            return\n",
    "\n",
    "    except Exception as e:\n",
    "        print(f\"Error initializing GCS client or parsing URI: {e}\")\n",
    "        return\n",
    "\n",
    "# Returns GCS path containing the application id of previous spark application\n",
    "def get_previous_app_id_file(bucket_name: str, cluster_name: str) -> str or None:\n",
    "    storage_client = storage.Client()\n",
    "    bucket = storage_client.bucket(bucket_name)\n",
    "    folder_path=f\"{cluster_name}/app_ids/\"\n",
    "    blobs = list(bucket.list_blobs(prefix=folder_path))\n",
    "\n",
    "    if not blobs:\n",
    "        return None\n",
    "\n",
    "    latest_blob = max(blobs, key=lambda blob: blob.time_created)\n",
    "    return f\"gs://{bucket_name}/{latest_blob.name}\"\n",
    "\n",
    "# Kills spark application from previous kernel if it's still running\n",
    "def kill_previous_spark_application(bucket_name: str, cluster_name: str):\n",
    "    previous_app_id_file = get_previous_app_id_file(bucket_name, cluster_name)\n",
    "    folder_name = f\"{cluster_name}/app_ids/\"\n",
    "    \n",
    "    if not previous_app_id_file :\n",
    "        print(f\"No application id found in given path: gs://{bucket_name}/{folder_name}\")\n",
    "        return\n",
    "    \n",
    "    app_id = read_app_id_from_gcs(previous_app_id_file)\n",
    "    \n",
    "    if not app_id:\n",
    "        print(f\"No application id found in given path: {previous_app_id_file}\")\n",
    "        return\n",
    "    \n",
    "    print(f\"Attempting to kill previous Spark application: {app_id}\")\n",
    "    command = [\"yarn\", \"application\", \"-kill\", app_id]\n",
    "    process = subprocess.run(command, capture_output=True, text=True, check=False)\n",
    "\n",
    "    if process.returncode == 0:\n",
    "        print(f\"Successfully initiated kill for application: {app_id}\")\n",
    "        return\n",
    "    else:\n",
    "        print(f\"Could not kill application {app_id}:\")\n",
    "        print(f\"Stdout: {process.stdout}\")\n",
    "        print(f\"Stderr: {process.stderr}\")\n",
    "        return    \n",
    "\n",
    "# Returns application state\n",
    "def get_yarn_app_state(app_id: str):\n",
    "    try:\n",
    "        command = f\"yarn application -status {app_id}\"\n",
    "        process = subprocess.run(command, shell=True, capture_output=True, text=True, check=False)\n",
    "        output = process.stdout\n",
    "        for line in output.splitlines():\n",
    "            if \"State :\" in line:\n",
    "                return line.split(\":\")[-1].strip()\n",
    "        return \"UNKNOWN\"\n",
    "    except Exception as e:\n",
    "        print(f\"Error getting YARN application status: {e}\")\n",
    "        return \"UNKNOWN\"\n",
    "\n",
    "# Returns application Id of currently running spark application\n",
    "def get_spark_app_id_from_session():\n",
    "    spark = SparkSession.getActiveSession()\n",
    "    if spark:\n",
    "        return spark.sparkContext.applicationId\n",
    "    return None\n",
    "\n",
    "\n",
    "# Kills the first spark application that gets created when starting kernel\n",
    "def kill_initial_spark_application():\n",
    "    \n",
    "    existing_spark = SparkSession.getActiveSession()\n",
    "    old_app_id = get_spark_app_id_from_session()\n",
    "\n",
    "    if existing_spark:\n",
    "        print(f\"An existing SparkSession found (App ID: {old_app_id}). Stopping it...\")\n",
    "        existing_spark.stop()\n",
    "        print(\"Existing SparkSession stopped.\")\n",
    "        cleanup_yarn_application(old_app_id)\n",
    "\n",
    "# Waits until the current application is cleaned up from yarn\n",
    "def cleanup_yarn_application(app_id: str,timeout=120,check_interval=10):\n",
    "    wait_time = 0\n",
    "    yarn_state = \"RUNNING\" if app_id else \"FINISHED\"\n",
    "\n",
    "    if app_id:\n",
    "        while yarn_state not in [\"FINISHED\", \"KILLED\", \"FAILED\"] and wait_time < timeout:\n",
    "            yarn_state = get_yarn_app_state(app_id)\n",
    "            print(f\"Waiting for old YARN application (ID: {app_id}) to finish. Current state: {yarn_state} ({wait_time}/{timeout}s)\")\n",
    "            time.sleep(check_interval)\n",
    "            wait_time += check_interval\n",
    "\n",
    "        if yarn_state in [\"FINISHED\", \"KILLED\", \"FAILED\"]:\n",
    "            print(f\"Old YARN application (ID: {app_id}) has finished with state: {yarn_state}.\")\n",
    "        else:\n",
    "            print(f\"Timeout reached ({timeout}s) while waiting for old YARN application (ID: {app_id}) to finish. Proceeding with caution.\")\n",
    "    else:\n",
    "        print(\"No initial Spark application ID found.\")  "
   ]
  },
  {
   "cell_type": "markdown",
   "id": "1735d258-87ad-45ef-93d9-7716b042ac37",
   "metadata": {},
   "source": [
    "### First Benchmark "
   ]
  },
  {
   "cell_type": "markdown",
   "id": "e258a735-8d12-4f5c-b20c-3f813229cbfa",
   "metadata": {},
   "source": [
    "#### Terminate Previous Spark Application\n",
    "Terminates any active Spark applications currently running."
   ]
  },
  {
   "cell_type": "code",
   "execution_count": 13,
   "id": "fadeee75-6a6f-4be5-9b31-9ed57ef39fa7",
   "metadata": {
    "tags": []
   },
   "outputs": [
    {
     "name": "stdout",
     "output_type": "stream",
     "text": [
      "An existing SparkSession found (App ID: application_1754028016991_0010). Stopping it...\n",
      "Existing SparkSession stopped.\n",
      "Waiting for old YARN application (ID: application_1754028016991_0010) to finish. Current state: FINISHED (0/120s)\n",
      "Old YARN application (ID: application_1754028016991_0010) has finished with state: FINISHED.\n",
      "----------------------------------------------------------------------------\n",
      "Attempting to kill previous Spark application: application_1754028016991_0009\n",
      "Successfully initiated kill for application: application_1754028016991_0009\n"
     ]
    }
   ],
   "source": [
    "# Kill Spark App Launched at Kernel Start\n",
    "kill_initial_spark_application()\n",
    "\n",
    "print(\"----------------------------------------------------------------------------\")\n",
    "\n",
    "# Kill currently running Spark Apps (if any from previous kernel)\n",
    "kill_previous_spark_application(BUCKET_NAME,CLUSTER_NAME)"
   ]
  },
  {
   "cell_type": "markdown",
   "id": "db021dde-54ac-4270-bfff-c94d3a4d515e",
   "metadata": {},
   "source": [
    "#### Start Spark Session\n",
    "\n",
    "In the following step, spark properties are set to run benchmarks."
   ]
  },
  {
   "cell_type": "code",
   "execution_count": 14,
   "id": "b49704b5-c651-4a0a-b3fb-2461a919fe89",
   "metadata": {
    "tags": []
   },
   "outputs": [
    {
     "name": "stdout",
     "output_type": "stream",
     "text": [
      "Spark Application Name: tpch dpgce standard benchmark run\n",
      "Spark Application ID: application_1754028016991_0011\n",
      "Spark Session ID: application_1754028016991_0011\n",
      "Spark Version: 3.5.3\n",
      "Spark Master: yarn\n",
      "Current Spark application ID 'application_1754028016991_0011' written to GCS: gs://sparkpoc-bucket-dpgce-standard-279814974066-us-east1/dpgce-benchmarking-standard/app_ids/application_1754028016991_0011.txt\n"
     ]
    }
   ],
   "source": [
    "#  Start new Spark session with specified configurations\n",
    "spark_configs = {\n",
    "    \"spark.dynamicAllocation.enabled\": \"false\",\n",
    "    \"spark.hadoop.fs.gs.grpc.enable\": \"false\",\n",
    "    \"spark.dataproc.enhanced.execution.enabled\": \"true\",\n",
    "    \"spark.dataproc.enhanced.optimizer.enabled\": \"true\"        \n",
    "}\n",
    "\n",
    "if(size == \"sf10000\"):\n",
    "    spark_configs[\"spark.executor.instances\"] = \"27\"\n",
    "else:\n",
    "    spark_configs[\"spark.executor.instances\"] = \"10\"    \n",
    "\n",
    "sc = spark.sparkContext\n",
    "    \n",
    "spark_builder = SparkSession.builder.appName(f\"{first_benchmark} dpgce standard benchmark run\").enableHiveSupport()\n",
    "# Set the logger to display only ERROR logs\n",
    "logger = sc._jvm.org.apache.logging.log4j\n",
    "logger.core.config.Configurator.setAllLevels(\"org\",logger.Level.ERROR)\n",
    "\n",
    "for key, value in spark_configs.items():\n",
    "    spark_builder.config(key, value)\n",
    "\n",
    "spark = spark_builder.getOrCreate()\n",
    "\n",
    "print(f\"Spark Application Name: {spark.sparkContext.appName}\")\n",
    "print(f\"Spark Application ID: {spark.sparkContext.applicationId}\")\n",
    "print(f\"Spark Session ID: {spark.sparkContext._jsc.sc().applicationId()}\")\n",
    "print(f\"Spark Version: {spark.version}\")\n",
    "print(f\"Spark Master: {spark.sparkContext.master}\")\n",
    "\n",
    "# Writing current spark application id to GCS bucket\n",
    "current_app_id = spark.sparkContext.applicationId\n",
    "path_to_app_id = f\"gs://{BUCKET_NAME}/{CLUSTER_NAME}/app_ids/{current_app_id}.txt\"\n",
    "write_app_id_to_gcs(path_to_app_id,current_app_id) "
   ]
  },
  {
   "cell_type": "markdown",
   "id": "ba8022c0-c543-4b0a-864d-ffbc58df8420",
   "metadata": {},
   "source": [
    "#### Run Benchmark\n",
    "The following cell runs the first benchmark with the configurations passed.\n",
    "\n",
    "**NOTE - After every benchmark run is complete, it terminates the existing spark session. New spark session is created for each run.**"
   ]
  },
  {
   "cell_type": "code",
   "execution_count": 15,
   "id": "39a3e5c8-1c23-4269-b0c5-a035bdec3a60",
   "metadata": {
    "tags": []
   },
   "outputs": [
    {
     "name": "stdout",
     "output_type": "stream",
     "text": [
      "Running benchmark: tpch, size: sf1000, queries to run: all, runtime engine: spark\n",
      "Setting up TPCH tables\n"
     ]
    },
    {
     "name": "stderr",
     "output_type": "stream",
     "text": [
      "ivysettings.xml file not found in HIVE_HOME or HIVE_CONF_DIR,/etc/hive/conf.dist/ivysettings.xml will be used\n",
      "                                                                                \r"
     ]
    },
    {
     "name": "stdout",
     "output_type": "stream",
     "text": [
      "TPCH Tables set up\n",
      "--------Running TPCH Benchmark with following configurations--------\n",
      "Queries to run: all\n",
      "Benchmark: tpch\n",
      "Result Location: gs://sparkpoc-bucket-dpgce-standard-279814974066-us-east1/dpgce-benchmarking-standard/standard/spark/output/parquet/tpch/sf1000/dpgce_standard_spark_parquet_sf1000_tpch_tpcds_dpgce-benchmarking-standard_us-east1_2025-08-05_10-50-14.csv\n",
      "Scale Factor: sf1000\n",
      "File Format: parquet\n",
      "--------------------------------------------------------------------\n",
      "Running tpch query q1\n"
     ]
    },
    {
     "name": "stderr",
     "output_type": "stream",
     "text": [
      "                                                                                \r"
     ]
    },
    {
     "name": "stdout",
     "output_type": "stream",
     "text": [
      "tpch query q1 ran in 143146 ms\n",
      "Running tpch query q10\n"
     ]
    },
    {
     "name": "stderr",
     "output_type": "stream",
     "text": [
      "                                                                                \r"
     ]
    },
    {
     "name": "stdout",
     "output_type": "stream",
     "text": [
      "tpch query q10 ran in 64323 ms\n",
      "Running tpch query q11\n"
     ]
    },
    {
     "name": "stderr",
     "output_type": "stream",
     "text": [
      "                                                                                \r"
     ]
    },
    {
     "name": "stdout",
     "output_type": "stream",
     "text": [
      "tpch query q11 ran in 20643 ms\n",
      "Running tpch query q12\n"
     ]
    },
    {
     "name": "stderr",
     "output_type": "stream",
     "text": [
      "                                                                                \r"
     ]
    },
    {
     "name": "stdout",
     "output_type": "stream",
     "text": [
      "tpch query q12 ran in 43244 ms\n",
      "Running tpch query q13\n"
     ]
    },
    {
     "name": "stderr",
     "output_type": "stream",
     "text": [
      "                                                                                \r"
     ]
    },
    {
     "name": "stdout",
     "output_type": "stream",
     "text": [
      "tpch query q13 ran in 68095 ms\n",
      "Running tpch query q14\n"
     ]
    },
    {
     "name": "stderr",
     "output_type": "stream",
     "text": [
      "                                                                                \r"
     ]
    },
    {
     "name": "stdout",
     "output_type": "stream",
     "text": [
      "tpch query q14 ran in 9774 ms\n",
      "Running tpch query q15\n"
     ]
    },
    {
     "name": "stderr",
     "output_type": "stream",
     "text": [
      "                                                                                \r"
     ]
    },
    {
     "name": "stdout",
     "output_type": "stream",
     "text": [
      "tpch query q15 ran in 22371 ms\n",
      "Running tpch query q16\n"
     ]
    },
    {
     "name": "stderr",
     "output_type": "stream",
     "text": [
      "                                                                                \r"
     ]
    },
    {
     "name": "stdout",
     "output_type": "stream",
     "text": [
      "tpch query q16 ran in 30373 ms\n",
      "Running tpch query q17\n"
     ]
    },
    {
     "name": "stderr",
     "output_type": "stream",
     "text": [
      "                                                                                \r"
     ]
    },
    {
     "name": "stdout",
     "output_type": "stream",
     "text": [
      "tpch query q17 ran in 54116 ms\n",
      "Running tpch query q18\n"
     ]
    },
    {
     "name": "stderr",
     "output_type": "stream",
     "text": [
      "                                                                                 2418]]\r"
     ]
    },
    {
     "name": "stdout",
     "output_type": "stream",
     "text": [
      "tpch query q18 ran in 322954 ms\n",
      "Running tpch query q19\n"
     ]
    },
    {
     "name": "stderr",
     "output_type": "stream",
     "text": [
      "                                                                                \r"
     ]
    },
    {
     "name": "stdout",
     "output_type": "stream",
     "text": [
      "tpch query q19 ran in 38285 ms\n",
      "Running tpch query q2\n"
     ]
    },
    {
     "name": "stderr",
     "output_type": "stream",
     "text": [
      "                                                                                \r"
     ]
    },
    {
     "name": "stdout",
     "output_type": "stream",
     "text": [
      "tpch query q2 ran in 25324 ms\n",
      "Running tpch query q20\n"
     ]
    },
    {
     "name": "stderr",
     "output_type": "stream",
     "text": [
      "                                                                                \r"
     ]
    },
    {
     "name": "stdout",
     "output_type": "stream",
     "text": [
      "tpch query q20 ran in 30424 ms\n",
      "Running tpch query q21\n"
     ]
    },
    {
     "name": "stderr",
     "output_type": "stream",
     "text": [
      "                                                                                 / 2418]8]\r"
     ]
    },
    {
     "name": "stdout",
     "output_type": "stream",
     "text": [
      "tpch query q21 ran in 248346 ms\n",
      "Running tpch query q22\n"
     ]
    },
    {
     "name": "stderr",
     "output_type": "stream",
     "text": [
      "                                                                                \r"
     ]
    },
    {
     "name": "stdout",
     "output_type": "stream",
     "text": [
      "tpch query q22 ran in 30655 ms\n",
      "Running tpch query q3\n"
     ]
    },
    {
     "name": "stderr",
     "output_type": "stream",
     "text": [
      "                                                                                \r"
     ]
    },
    {
     "name": "stdout",
     "output_type": "stream",
     "text": [
      "tpch query q3 ran in 64117 ms\n",
      "Running tpch query q4\n"
     ]
    },
    {
     "name": "stderr",
     "output_type": "stream",
     "text": [
      "                                                                                \r"
     ]
    },
    {
     "name": "stdout",
     "output_type": "stream",
     "text": [
      "tpch query q4 ran in 58604 ms\n",
      "Running tpch query q5\n"
     ]
    },
    {
     "name": "stderr",
     "output_type": "stream",
     "text": [
      "                                                                                \r"
     ]
    },
    {
     "name": "stdout",
     "output_type": "stream",
     "text": [
      "tpch query q5 ran in 119702 ms\n",
      "Running tpch query q6\n"
     ]
    },
    {
     "name": "stderr",
     "output_type": "stream",
     "text": [
      "                                                                                \r"
     ]
    },
    {
     "name": "stdout",
     "output_type": "stream",
     "text": [
      "tpch query q6 ran in 4187 ms\n",
      "Running tpch query q7\n"
     ]
    },
    {
     "name": "stderr",
     "output_type": "stream",
     "text": [
      "                                                                                1]\r"
     ]
    },
    {
     "name": "stdout",
     "output_type": "stream",
     "text": [
      "tpch query q7 ran in 43805 ms\n",
      "Running tpch query q8\n"
     ]
    },
    {
     "name": "stderr",
     "output_type": "stream",
     "text": [
      "                                                                                1]\r"
     ]
    },
    {
     "name": "stdout",
     "output_type": "stream",
     "text": [
      "tpch query q8 ran in 121402 ms\n",
      "Running tpch query q9\n"
     ]
    },
    {
     "name": "stderr",
     "output_type": "stream",
     "text": [
      "                                                                                602]]\r"
     ]
    },
    {
     "name": "stdout",
     "output_type": "stream",
     "text": [
      "tpch query q9 ran in 175106 ms\n",
      "+---------+----------------+\n",
      "| QueryId | Runtime(in ms) |\n",
      "+---------+----------------+\n",
      "|   Sum   |    1738996     |\n",
      "+---------+----------------+\n",
      "|    q1   |     143146     |\n",
      "+---------+----------------+\n",
      "|   q10   |     64323      |\n",
      "+---------+----------------+\n",
      "|   q11   |     20643      |\n",
      "+---------+----------------+\n",
      "|   q12   |     43244      |\n",
      "+---------+----------------+\n",
      "|   q13   |     68095      |\n",
      "+---------+----------------+\n",
      "|   q14   |      9774      |\n",
      "+---------+----------------+\n",
      "|   q15   |     22371      |\n",
      "+---------+----------------+\n",
      "|   q16   |     30373      |\n",
      "+---------+----------------+\n",
      "|   q17   |     54116      |\n",
      "+---------+----------------+\n",
      "|   q18   |     322954     |\n",
      "+---------+----------------+\n",
      "|   q19   |     38285      |\n",
      "+---------+----------------+\n",
      "|    q2   |     25324      |\n",
      "+---------+----------------+\n",
      "|   q20   |     30424      |\n",
      "+---------+----------------+\n",
      "|   q21   |     248346     |\n",
      "+---------+----------------+\n",
      "|   q22   |     30655      |\n",
      "+---------+----------------+\n",
      "|    q3   |     64117      |\n",
      "+---------+----------------+\n",
      "|    q4   |     58604      |\n",
      "+---------+----------------+\n",
      "|    q5   |     119702     |\n",
      "+---------+----------------+\n",
      "|    q6   |      4187      |\n",
      "+---------+----------------+\n",
      "|    q7   |     43805      |\n",
      "+---------+----------------+\n",
      "|    q8   |     121402     |\n",
      "+---------+----------------+\n",
      "|    q9   |     175106     |\n",
      "+---------+----------------+\n"
     ]
    },
    {
     "data": {
      "image/png": "[encoded data removed]",
      "text/plain": [
       "<Figure size 2500x1500 with 1 Axes>"
      ]
     },
     "metadata": {},
     "output_type": "display_data"
    },
    {
     "name": "stdout",
     "output_type": "stream",
     "text": [
      "----------------------------------------------------------------------------------------------------------\n",
      "Writing to GCS bucket sparkpoc-bucket-dpgce-standard-279814974066-us-east1\n",
      "Runtime results successfully written to gs://sparkpoc-bucket-dpgce-standard-279814974066-us-east1/dpgce-benchmarking-standard/standard/spark/output/parquet/tpch/sf1000/dpgce_standard_spark_parquet_sf1000_tpch_tpcds_dpgce-benchmarking-standard_us-east1_2025-08-05_10-50-14.csv\n",
      "----------------------------------------------------------------------------------------------------------\n",
      "Waiting for old YARN application (ID: application_1754028016991_0011) to finish. Current state: FINISHED (0/120s)\n",
      "Old YARN application (ID: application_1754028016991_0011) has finished with state: FINISHED.\n"
     ]
    }
   ],
   "source": [
    "# Run first benchmark\n",
    "runTPCBenchmark(spark,first_benchmark,benchmark_configs,BUCKET_NAME,CLUSTER_NAME,RUN_ID,RUNTYPE,TIER)"
   ]
  },
  {
   "cell_type": "markdown",
   "id": "fdd87ab6-5b3a-48c5-b7fa-086b3576204a",
   "metadata": {},
   "source": [
    "### Second Benchmark"
   ]
  },
  {
   "cell_type": "markdown",
   "id": "2279a061-21cd-42e8-88bf-100ea8c1d0a2",
   "metadata": {},
   "source": [
    "#### Terminate Previous Spark Application\n",
    "Terminates any active Spark applications currently running."
   ]
  },
  {
   "cell_type": "code",
   "execution_count": 13,
   "id": "2d47423f-b46b-4993-9757-642f8c209158",
   "metadata": {},
   "outputs": [
    {
     "name": "stdout",
     "output_type": "stream",
     "text": [
      "An existing SparkSession found (App ID: application_1754028016991_0013). Stopping it...\n",
      "Existing SparkSession stopped.\n",
      "Waiting for old YARN application (ID: application_1754028016991_0013) to finish. Current state: FINISHED (0/120s)\n",
      "Old YARN application (ID: application_1754028016991_0013) has finished with state: FINISHED.\n",
      "----------------------------------------------------------------------------\n",
      "Attempting to kill previous Spark application: application_1754028016991_0012\n",
      "Successfully initiated kill for application: application_1754028016991_0012\n"
     ]
    }
   ],
   "source": [
    "if second_benchmark is not None:\n",
    "    \n",
    "    # Kill Spark App Launched at Kernel Start\n",
    "    kill_initial_spark_application()\n",
    "    \n",
    "    print(\"----------------------------------------------------------------------------\")\n",
    "    \n",
    "    # Kill currently running Spark Apps (if any from previous kernel)\n",
    "    kill_previous_spark_application(BUCKET_NAME,CLUSTER_NAME)\n",
    "else:\n",
    "    print(\"Second benchmark is empty!\")\n",
    "    print(\"Skipping this step.\")"
   ]
  },
  {
   "cell_type": "markdown",
   "id": "fca36856-161c-4f15-a209-ec516050438e",
   "metadata": {},
   "source": [
    "#### Start Spark Session\n",
    "\n",
    "In the following step, spark properties are set to run benchmarks."
   ]
  },
  {
   "cell_type": "code",
   "execution_count": 14,
   "id": "c00b06cf-33d3-474f-a146-ba1d2631679f",
   "metadata": {},
   "outputs": [
    {
     "name": "stdout",
     "output_type": "stream",
     "text": [
      "Spark Application Name: tpcds dpgce standard benchmark run\n",
      "Spark Application ID: application_1754028016991_0014\n",
      "Spark Session ID: application_1754028016991_0014\n",
      "Spark Version: 3.5.3\n",
      "Spark Master: yarn\n",
      "Current Spark application ID 'application_1754028016991_0014' written to GCS: gs://sparkpoc-bucket-dpgce-standard-279814974066-us-east1/dpgce-benchmarking-standard/app_ids/application_1754028016991_0014.txt\n"
     ]
    }
   ],
   "source": [
    "if second_benchmark is not None:\n",
    "    #  Start new Spark session with specified configurations\n",
    "    spark_configs = {\n",
    "        \"spark.dynamicAllocation.enabled\": \"false\",\n",
    "        \"spark.hadoop.fs.gs.grpc.enable\": \"false\",\n",
    "        \"spark.dataproc.enhanced.execution.enabled\": \"true\",\n",
    "        \"spark.dataproc.enhanced.optimizer.enabled\": \"true\"        \n",
    "    }\n",
    "    \n",
    "    if(size == \"sf10000\"):\n",
    "        spark_configs[\"spark.executor.instances\"] = \"27\"\n",
    "    else:\n",
    "        spark_configs[\"spark.executor.instances\"] = \"10\"        \n",
    "\n",
    "    spark_builder = SparkSession.builder.appName(f\"{second_benchmark} dpgce standard benchmark run\").enableHiveSupport()\n",
    "\n",
    "    # Set the logger to display only ERROR logs\n",
    "    logger = sc._jvm.org.apache.logging.log4j\n",
    "    logger.core.config.Configurator.setAllLevels(\"org\",logger.Level.ERROR)\n",
    "\n",
    "    for key, value in spark_configs.items():\n",
    "        spark_builder.config(key, value)\n",
    "\n",
    "    spark = spark_builder.getOrCreate()\n",
    "\n",
    "    print(f\"Spark Application Name: {spark.sparkContext.appName}\")\n",
    "    print(f\"Spark Application ID: {spark.sparkContext.applicationId}\")\n",
    "    print(f\"Spark Session ID: {spark.sparkContext._jsc.sc().applicationId()}\")\n",
    "    print(f\"Spark Version: {spark.version}\")\n",
    "    print(f\"Spark Master: {spark.sparkContext.master}\")\n",
    "\n",
    "    # Writing current spark application id to GCS bucket\n",
    "    current_app_id = spark.sparkContext.applicationId\n",
    "    path_to_app_id = f\"gs://{BUCKET_NAME}/{CLUSTER_NAME}/app_ids/{current_app_id}.txt\"\n",
    "    write_app_id_to_gcs(path_to_app_id,current_app_id)\n",
    "\n",
    "else:\n",
    "    print(\"Second benchmark is empty!\")\n",
    "    print(\"Skipping this step.\")    "
   ]
  },
  {
   "cell_type": "markdown",
   "id": "3dda8d4f-2506-46eb-bc11-12f78dcf57fc",
   "metadata": {},
   "source": [
    "#### Run Benchmark\n",
    "The following cell runs the second benchmark with the configurations passed.\n",
    "\n",
    "**NOTE - After every benchmark run is complete, it terminates the existing spark session. New spark session is created for each run.**"
   ]
  },
  {
   "cell_type": "code",
   "execution_count": null,
   "id": "9db47e2a-fc57-44b5-b419-c25c0339d66d",
   "metadata": {
    "tags": []
   },
   "outputs": [
    {
     "name": "stdout",
     "output_type": "stream",
     "text": [
      "Running benchmark: tpcds, size: sf1000, queries to run: all, runtime engine: spark\n",
      "Setting up TPCDS tables\n"
     ]
    },
    {
     "name": "stderr",
     "output_type": "stream",
     "text": [
      "ivysettings.xml file not found in HIVE_HOME or HIVE_CONF_DIR,/etc/hive/conf.dist/ivysettings.xml will be used\n",
      "                                                                                \r"
     ]
    },
    {
     "name": "stdout",
     "output_type": "stream",
     "text": [
      "TPCDS Tables set up\n",
      "--------Running TPCDS Benchmark with following configurations--------\n",
      "Queries to run: all\n",
      "Benchmark: tpcds\n",
      "Result Location: gs://sparkpoc-bucket-dpgce-standard-279814974066-us-east1/dpgce-benchmarking-standard/standard/spark/output/parquet/tpcds/sf1000/dpgce_standard_spark_parquet_sf1000_tpch_tpcds_dpgce-benchmarking-standard_us-east1_2025-08-06_05-21-58.csv\n",
      "Scale Factor: sf1000\n",
      "File Format: parquet\n",
      "--------------------------------------------------------------------\n",
      "Running tpcds query q1\n"
     ]
    },
    {
     "name": "stderr",
     "output_type": "stream",
     "text": [
      "                                                                                \r"
     ]
    },
    {
     "name": "stdout",
     "output_type": "stream",
     "text": [
      "tpcds query q1 ran in 12992 ms\n",
      "Running tpcds query q10\n"
     ]
    },
    {
     "name": "stderr",
     "output_type": "stream",
     "text": [
      "                                                                                \r"
     ]
    },
    {
     "name": "stdout",
     "output_type": "stream",
     "text": [
      "tpcds query q10 ran in 10490 ms\n",
      "Running tpcds query q11\n"
     ]
    },
    {
     "name": "stderr",
     "output_type": "stream",
     "text": [
      "                                                                                \r"
     ]
    },
    {
     "name": "stdout",
     "output_type": "stream",
     "text": [
      "tpcds query q11 ran in 39384 ms\n",
      "Running tpcds query q12\n"
     ]
    },
    {
     "name": "stderr",
     "output_type": "stream",
     "text": [
      "                                                                                \r"
     ]
    },
    {
     "name": "stdout",
     "output_type": "stream",
     "text": [
      "tpcds query q12 ran in 3661 ms\n",
      "Running tpcds query q13\n"
     ]
    },
    {
     "name": "stderr",
     "output_type": "stream",
     "text": [
      "                                                                                \r"
     ]
    },
    {
     "name": "stdout",
     "output_type": "stream",
     "text": [
      "tpcds query q13 ran in 14549 ms\n",
      "Running tpcds query q14a\n"
     ]
    },
    {
     "name": "stderr",
     "output_type": "stream",
     "text": [
      "                                                                                75]]\r"
     ]
    },
    {
     "name": "stdout",
     "output_type": "stream",
     "text": [
      "tpcds query q14a ran in 55013 ms\n",
      "Running tpcds query q14b\n"
     ]
    },
    {
     "name": "stderr",
     "output_type": "stream",
     "text": [
      "                                                                                90]]\r"
     ]
    },
    {
     "name": "stdout",
     "output_type": "stream",
     "text": [
      "tpcds query q14b ran in 43456 ms\n",
      "Running tpcds query q15\n"
     ]
    },
    {
     "name": "stderr",
     "output_type": "stream",
     "text": [
      "                                                                                \r"
     ]
    },
    {
     "name": "stdout",
     "output_type": "stream",
     "text": [
      "tpcds query q15 ran in 9586 ms\n",
      "Running tpcds query q16\n"
     ]
    },
    {
     "name": "stderr",
     "output_type": "stream",
     "text": [
      "                                                                                 151]]]\r"
     ]
    },
    {
     "name": "stdout",
     "output_type": "stream",
     "text": [
      "tpcds query q16 ran in 49636 ms\n",
      "Running tpcds query q17\n"
     ]
    },
    {
     "name": "stderr",
     "output_type": "stream",
     "text": [
      "                                                                                \r"
     ]
    },
    {
     "name": "stdout",
     "output_type": "stream",
     "text": [
      "tpcds query q17 ran in 11538 ms\n",
      "Running tpcds query q18\n"
     ]
    },
    {
     "name": "stderr",
     "output_type": "stream",
     "text": [
      "                                                                                \r"
     ]
    },
    {
     "name": "stdout",
     "output_type": "stream",
     "text": [
      "tpcds query q18 ran in 12134 ms\n",
      "Running tpcds query q19\n"
     ]
    },
    {
     "name": "stderr",
     "output_type": "stream",
     "text": [
      "                                                                                \r"
     ]
    },
    {
     "name": "stdout",
     "output_type": "stream",
     "text": [
      "tpcds query q19 ran in 8862 ms\n",
      "Running tpcds query q2\n"
     ]
    },
    {
     "name": "stderr",
     "output_type": "stream",
     "text": [
      "                                                                                \r"
     ]
    },
    {
     "name": "stdout",
     "output_type": "stream",
     "text": [
      "tpcds query q2 ran in 25103 ms\n",
      "Running tpcds query q20\n"
     ]
    },
    {
     "name": "stderr",
     "output_type": "stream",
     "text": [
      "                                                                                \r"
     ]
    },
    {
     "name": "stdout",
     "output_type": "stream",
     "text": [
      "tpcds query q20 ran in 2666 ms\n",
      "Running tpcds query q21\n"
     ]
    },
    {
     "name": "stderr",
     "output_type": "stream",
     "text": [
      "                                                                                \r"
     ]
    },
    {
     "name": "stdout",
     "output_type": "stream",
     "text": [
      "tpcds query q21 ran in 2190 ms\n",
      "Running tpcds query q22\n"
     ]
    },
    {
     "name": "stderr",
     "output_type": "stream",
     "text": [
      "                                                                                \r"
     ]
    },
    {
     "name": "stdout",
     "output_type": "stream",
     "text": [
      "tpcds query q22 ran in 9421 ms\n",
      "Running tpcds query q23a\n"
     ]
    },
    {
     "name": "stderr",
     "output_type": "stream",
     "text": [
      "                                                                                \r"
     ]
    },
    {
     "name": "stdout",
     "output_type": "stream",
     "text": [
      "tpcds query q23a ran in 95387 ms\n",
      "Running tpcds query q23b\n"
     ]
    },
    {
     "name": "stderr",
     "output_type": "stream",
     "text": [
      "                                                                                \r"
     ]
    },
    {
     "name": "stdout",
     "output_type": "stream",
     "text": [
      "tpcds query q23b ran in 94279 ms\n",
      "Running tpcds query q24a\n"
     ]
    },
    {
     "name": "stderr",
     "output_type": "stream",
     "text": [
      "                                                                                \r"
     ]
    },
    {
     "name": "stdout",
     "output_type": "stream",
     "text": [
      "tpcds query q24a ran in 88828 ms\n",
      "Running tpcds query q24b\n"
     ]
    },
    {
     "name": "stderr",
     "output_type": "stream",
     "text": [
      "                                                                                \r"
     ]
    },
    {
     "name": "stdout",
     "output_type": "stream",
     "text": [
      "tpcds query q24b ran in 66159 ms\n",
      "Running tpcds query q25\n"
     ]
    },
    {
     "name": "stderr",
     "output_type": "stream",
     "text": [
      "                                                                                \r"
     ]
    },
    {
     "name": "stdout",
     "output_type": "stream",
     "text": [
      "tpcds query q25 ran in 8695 ms\n",
      "Running tpcds query q26\n"
     ]
    },
    {
     "name": "stderr",
     "output_type": "stream",
     "text": [
      "                                                                                \r"
     ]
    },
    {
     "name": "stdout",
     "output_type": "stream",
     "text": [
      "tpcds query q26 ran in 5115 ms\n",
      "Running tpcds query q27\n"
     ]
    },
    {
     "name": "stderr",
     "output_type": "stream",
     "text": [
      "                                                                                \r"
     ]
    },
    {
     "name": "stdout",
     "output_type": "stream",
     "text": [
      "tpcds query q27 ran in 5826 ms\n",
      "Running tpcds query q28\n"
     ]
    },
    {
     "name": "stderr",
     "output_type": "stream",
     "text": [
      "                                                                                \r"
     ]
    },
    {
     "name": "stdout",
     "output_type": "stream",
     "text": [
      "tpcds query q28 ran in 19252 ms\n",
      "Running tpcds query q29\n"
     ]
    },
    {
     "name": "stderr",
     "output_type": "stream",
     "text": [
      "                                                                                \r"
     ]
    },
    {
     "name": "stdout",
     "output_type": "stream",
     "text": [
      "tpcds query q29 ran in 21077 ms\n",
      "Running tpcds query q3\n"
     ]
    },
    {
     "name": "stderr",
     "output_type": "stream",
     "text": [
      "                                                                                \r"
     ]
    },
    {
     "name": "stdout",
     "output_type": "stream",
     "text": [
      "tpcds query q3 ran in 3952 ms\n",
      "Running tpcds query q30\n"
     ]
    },
    {
     "name": "stderr",
     "output_type": "stream",
     "text": [
      "                                                                                \r"
     ]
    },
    {
     "name": "stdout",
     "output_type": "stream",
     "text": [
      "tpcds query q30 ran in 13913 ms\n",
      "Running tpcds query q31\n"
     ]
    },
    {
     "name": "stderr",
     "output_type": "stream",
     "text": [
      "                                                                                \r"
     ]
    },
    {
     "name": "stdout",
     "output_type": "stream",
     "text": [
      "tpcds query q31 ran in 11771 ms\n",
      "Running tpcds query q32\n"
     ]
    },
    {
     "name": "stderr",
     "output_type": "stream",
     "text": [
      "                                                                                \r"
     ]
    },
    {
     "name": "stdout",
     "output_type": "stream",
     "text": [
      "tpcds query q32 ran in 2250 ms\n",
      "Running tpcds query q33\n"
     ]
    },
    {
     "name": "stderr",
     "output_type": "stream",
     "text": [
      "                                                                                \r"
     ]
    },
    {
     "name": "stdout",
     "output_type": "stream",
     "text": [
      "tpcds query q33 ran in 4060 ms\n",
      "Running tpcds query q34\n"
     ]
    },
    {
     "name": "stderr",
     "output_type": "stream",
     "text": [
      "                                                                                \r"
     ]
    },
    {
     "name": "stdout",
     "output_type": "stream",
     "text": [
      "tpcds query q34 ran in 4896 ms\n",
      "Running tpcds query q35\n"
     ]
    },
    {
     "name": "stderr",
     "output_type": "stream",
     "text": [
      "                                                                                2]\r"
     ]
    },
    {
     "name": "stdout",
     "output_type": "stream",
     "text": [
      "tpcds query q35 ran in 10503 ms\n",
      "Running tpcds query q36\n"
     ]
    },
    {
     "name": "stderr",
     "output_type": "stream",
     "text": [
      "                                                                                \r"
     ]
    },
    {
     "name": "stdout",
     "output_type": "stream",
     "text": [
      "tpcds query q36 ran in 6168 ms\n",
      "Running tpcds query q37\n"
     ]
    },
    {
     "name": "stderr",
     "output_type": "stream",
     "text": [
      "                                                                                \r"
     ]
    },
    {
     "name": "stdout",
     "output_type": "stream",
     "text": [
      "tpcds query q37 ran in 7082 ms\n",
      "Running tpcds query q38\n"
     ]
    },
    {
     "name": "stderr",
     "output_type": "stream",
     "text": [
      "                                                                                ]]\r"
     ]
    },
    {
     "name": "stdout",
     "output_type": "stream",
     "text": [
      "tpcds query q38 ran in 22958 ms\n",
      "Running tpcds query q39a\n"
     ]
    },
    {
     "name": "stderr",
     "output_type": "stream",
     "text": [
      "                                                                                \r"
     ]
    },
    {
     "name": "stdout",
     "output_type": "stream",
     "text": [
      "tpcds query q39a ran in 7033 ms\n",
      "Running tpcds query q39b\n"
     ]
    },
    {
     "name": "stderr",
     "output_type": "stream",
     "text": [
      "                                                                                \r"
     ]
    },
    {
     "name": "stdout",
     "output_type": "stream",
     "text": [
      "tpcds query q39b ran in 6783 ms\n",
      "Running tpcds query q4\n"
     ]
    },
    {
     "name": "stderr",
     "output_type": "stream",
     "text": [
      "                                                                                ]]]]\r"
     ]
    },
    {
     "name": "stdout",
     "output_type": "stream",
     "text": [
      "tpcds query q4 ran in 78249 ms\n",
      "Running tpcds query q40\n"
     ]
    },
    {
     "name": "stderr",
     "output_type": "stream",
     "text": [
      "                                                                                \r"
     ]
    },
    {
     "name": "stdout",
     "output_type": "stream",
     "text": [
      "tpcds query q40 ran in 12955 ms\n",
      "Running tpcds query q41\n",
      "tpcds query q41 ran in 981 ms\n",
      "Running tpcds query q42\n"
     ]
    },
    {
     "name": "stderr",
     "output_type": "stream",
     "text": [
      "                                                                                \r"
     ]
    },
    {
     "name": "stdout",
     "output_type": "stream",
     "text": [
      "tpcds query q42 ran in 1467 ms\n",
      "Running tpcds query q43\n"
     ]
    },
    {
     "name": "stderr",
     "output_type": "stream",
     "text": [
      "                                                                                \r"
     ]
    },
    {
     "name": "stdout",
     "output_type": "stream",
     "text": [
      "tpcds query q43 ran in 4454 ms\n",
      "Running tpcds query q44\n"
     ]
    },
    {
     "name": "stderr",
     "output_type": "stream",
     "text": [
      "                                                                                \r"
     ]
    },
    {
     "name": "stdout",
     "output_type": "stream",
     "text": [
      "tpcds query q44 ran in 24650 ms\n",
      "Running tpcds query q45\n"
     ]
    },
    {
     "name": "stderr",
     "output_type": "stream",
     "text": [
      "                                                                                \r"
     ]
    },
    {
     "name": "stdout",
     "output_type": "stream",
     "text": [
      "tpcds query q45 ran in 9397 ms\n",
      "Running tpcds query q46\n"
     ]
    },
    {
     "name": "stderr",
     "output_type": "stream",
     "text": [
      "                                                                                \r"
     ]
    },
    {
     "name": "stdout",
     "output_type": "stream",
     "text": [
      "tpcds query q46 ran in 12160 ms\n",
      "Running tpcds query q47\n"
     ]
    },
    {
     "name": "stderr",
     "output_type": "stream",
     "text": [
      "                                                                                \r"
     ]
    },
    {
     "name": "stdout",
     "output_type": "stream",
     "text": [
      "tpcds query q47 ran in 11798 ms\n",
      "Running tpcds query q48\n"
     ]
    },
    {
     "name": "stderr",
     "output_type": "stream",
     "text": [
      "                                                                                \r"
     ]
    },
    {
     "name": "stdout",
     "output_type": "stream",
     "text": [
      "tpcds query q48 ran in 9198 ms\n",
      "Running tpcds query q49\n"
     ]
    },
    {
     "name": "stderr",
     "output_type": "stream",
     "text": [
      "                                                                                ]]]\r"
     ]
    },
    {
     "name": "stdout",
     "output_type": "stream",
     "text": [
      "tpcds query q49 ran in 22648 ms\n",
      "Running tpcds query q5\n"
     ]
    },
    {
     "name": "stderr",
     "output_type": "stream",
     "text": [
      "                                                                                \r"
     ]
    },
    {
     "name": "stdout",
     "output_type": "stream",
     "text": [
      "tpcds query q5 ran in 24242 ms\n",
      "Running tpcds query q50\n"
     ]
    },
    {
     "name": "stderr",
     "output_type": "stream",
     "text": [
      "                                                                                \r"
     ]
    },
    {
     "name": "stdout",
     "output_type": "stream",
     "text": [
      "tpcds query q50 ran in 53096 ms\n",
      "Running tpcds query q51\n"
     ]
    },
    {
     "name": "stderr",
     "output_type": "stream",
     "text": [
      "[Stage 1021:===========> (80 + 12) / 92][Stage 1022:==>         (65 + 68) / 264]\r"
     ]
    }
   ],
   "source": [
    "if second_benchmark is not None:\n",
    "    # Run second benchmark    \n",
    "    runTPCBenchmark(spark,second_benchmark,benchmark_configs,BUCKET_NAME,CLUSTER_NAME,RUN_ID,RUNTYPE,TIER)\n",
    "else:\n",
    "    print(\"Second benchmark is empty!\")\n",
    "    print(f\"Skipping this step.\")    "
   ]
  },
  {
   "cell_type": "code",
   "execution_count": null,
   "id": "5e073cfc-692d-4081-b6f0-31cd01940974",
   "metadata": {},
   "outputs": [],
   "source": []
  }
 ],
 "metadata": {
  "environment": {
   "kernel": "ef494afadb1587159af9a8cd-pyspark",
   "name": "workbench-notebooks.m131",
   "type": "gcloud",
   "uri": "us-docker.pkg.dev/deeplearning-platform-release/gcr.io/workbench-notebooks:m131"
  },
  "kernelspec": {
   "display_name": "PySpark on dpgce-benchmarking-standard (Remote)",
   "language": "python",
   "name": "ef494afadb1587159af9a8cd-pyspark"
  },
  "language_info": {
   "codemirror_mode": {
    "name": "ipython",
    "version": 3
   },
   "file_extension": ".py",
   "mimetype": "text/x-python",
   "name": "python",
   "nbconvert_exporter": "python",
   "pygments_lexer": "ipython3",
   "version": "3.11.13"
  }
 },
 "nbformat": 4,
 "nbformat_minor": 5
}
