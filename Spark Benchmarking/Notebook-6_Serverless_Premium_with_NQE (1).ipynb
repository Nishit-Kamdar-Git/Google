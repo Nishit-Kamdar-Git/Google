{
 "cells": [
  {
   "cell_type": "markdown",
   "id": "1879f9a9-d4c6-4374-bae2-518759989182",
   "metadata": {},
   "source": [
    "## Serverless Premium with NQE"
   ]
  },
  {
   "cell_type": "markdown",
   "id": "19e06b19-4860-47a7-ae71-139d5574317c",
   "metadata": {},
   "source": [
    "### Objective\n",
    "This notebook is designed for running TPCH and TPCDS benchmarks on Serverless Premium with NQE using Serverless Interactive sessions."
   ]
  },
  {
   "cell_type": "markdown",
   "id": "a32a864e-dc94-4a81-852d-8b63611c7661",
   "metadata": {},
   "source": [
    "### Initialize Public GCS Bucket\n",
    "This initializes the public GCS bucket from which datasets and utilities will be copied to your GCS bucket."
   ]
  },
  {
   "cell_type": "code",
   "execution_count": 1,
   "id": "5e3df7ec-0281-4190-bb27-78b8779fba9e",
   "metadata": {
    "tags": []
   },
   "outputs": [],
   "source": [
    "SOURCE_PUBLIC_GCS_BUCKET = \"tpc-benchmarking-kit-bucket\""
   ]
  },
  {
   "cell_type": "markdown",
   "id": "7608c992-fdcf-48f2-9441-5904abcd4fef",
   "metadata": {},
   "source": [
    "### Initialization Setup"
   ]
  },
  {
   "cell_type": "code",
   "execution_count": 2,
   "id": "4cca6c48-1062-4f31-ac28-3e9b633bf07f",
   "metadata": {
    "tags": []
   },
   "outputs": [
    {
     "name": "stdout",
     "output_type": "stream",
     "text": [
      "Current Google Cloud Project:nishitkamdarargo\n",
      "Current Project Number: 279814974066\n",
      "Current Region: us-east1\n"
     ]
    }
   ],
   "source": [
    "import re\n",
    "import subprocess\n",
    "from typing import Tuple\n",
    "import json\n",
    "import requests\n",
    "\n",
    "# Returns name of current project\n",
    "def get_gcloud_project():\n",
    "    try:\n",
    "        command = [\"gcloud\", \"config\", \"get\", \"project\"]\n",
    "        process = subprocess.run(command, capture_output=True, text=True, check=True)\n",
    "        project_name = process.stdout.strip()\n",
    "        return project_name\n",
    "    except subprocess.CalledProcessError as e:\n",
    "        raise ValueError(f\"Error getting gcloud project: {e}\\nStdout: {e.stdout}\\nStderr: {e.stderr}\")\n",
    "    except FileNotFoundError:\n",
    "        raise ValueError(\"Error: gcloud command not found. Make sure the Google Cloud CLI is installed and in your system's PATH.\")\n",
    "\n",
    "# Retrieves the current region in use\n",
    "def get_gcloud_region():\n",
    "    metadata_url = \"http://metadata.google.internal/computeMetadata/v1/instance/zone\"\n",
    "    headers = {\"Metadata-Flavor\": \"Google\"}\n",
    "\n",
    "    try:\n",
    "        response = requests.get(metadata_url, headers=headers, timeout=5)\n",
    "        response.raise_for_status() \n",
    "        zone = response.text.split('/')[-1]\n",
    "        region = '-'.join(zone.split('-')[:-1])\n",
    "        return region\n",
    "    except requests.exceptions.RequestException as e:\n",
    "        print(f\"Could not retrieve region from metadata server: {e}\")\n",
    "        return None\n",
    "    except Exception as e:\n",
    "        print(f\"An unexpected error occurred: {e}\")\n",
    "        return None\n",
    "\n",
    "# Returns project number of current project\n",
    "def get_project_number(project_id: str) -> str:\n",
    "    try:\n",
    "        command = [\n",
    "            \"gcloud\",\n",
    "            \"projects\",\n",
    "            \"describe\",\n",
    "            project_id,\n",
    "            \"--format=value(projectNumber)\",\n",
    "        ]\n",
    "        result = subprocess.run(command, capture_output=True, text=True, check=True)\n",
    "        project_number = result.stdout.strip()\n",
    "        return project_number\n",
    "    except subprocess.CalledProcessError as e:\n",
    "        raise ValueError(f\"Error executing gcloud command for project ID '{project_id}': {e}\\nStderr: {e.stderr}\")\n",
    "    except FileNotFoundError:\n",
    "        raise ValueError(\"Error: gcloud CLI not found. Make sure it's installed and in your system's PATH.\")\n",
    "\n",
    "PROJECT = get_gcloud_project()\n",
    "PROJECT_NUMBER = get_project_number(PROJECT)\n",
    "REGION = get_gcloud_region()\n",
    "TIER = \"premium\"\n",
    "RUNTYPE = \"native\"\n",
    "\n",
    "TPCH_TABLES = [\"customer\", \"lineitem\", \"nation\", \"orders\", \"part\", \"partsupp\", \"region\", \"supplier\"]\n",
    "TPCDS_TABLES = [\"call_center\", \"catalog_page\", \"catalog_returns\", \"catalog_sales\", \"customer\", \"customer_address\", \"customer_demographics\", \"date_dim\", \"household_demographics\", \"income_band\", \"inventory\", \"item\", \"promotion\", \"reason\", \"ship_mode\", \"store\", \"store_returns\", \"store_sales\", \"time_dim\", \"warehouse\", \"web_page\", \"web_returns\", \"web_sales\", \"web_site\"]\n",
    "\n",
    "print(f\"Current Google Cloud Project:{PROJECT}\")\n",
    "print(f\"Current Project Number: {PROJECT_NUMBER}\")\n",
    "print(f\"Current Region: {REGION}\")"
   ]
  },
  {
   "cell_type": "markdown",
   "id": "8595791c-e488-4c19-b973-7c71ed4b1f3c",
   "metadata": {
    "tags": []
   },
   "source": [
    "### Initialize your GCS Bucket\n",
    "To run the benchmarks, a Google Cloud Storage (GCS) bucket is required to store necessary utilities.\n",
    "\n",
    "The default GCS bucket name is `sparkpoc-bucket-serverless-premium-nqe-PROJECT_NUMBER-REGION`. You can use a different bucket name as needed.\n",
    "\n",
    "**NOTE - The following cell will attempt to create a storage bucket. If a bucket with this name already exists in the specified region and you own it, you might see a \"bucket name taken\" message or a confirmation of a previous creation. You can safely ignore these messages if your desired bucket is already created. Otherwise, please choose a unique bucket name and try again.**"
   ]
  },
  {
   "cell_type": "code",
   "execution_count": 3,
   "id": "316ad17e-c320-43a5-ae12-c85b02a4e5c4",
   "metadata": {
    "tags": []
   },
   "outputs": [
    {
     "name": "stdout",
     "output_type": "stream",
     "text": [
      "GCS Bucket Name: sparkpoc-bucket-serverless-premium-nqe-279814974066-us-east1\n"
     ]
    }
   ],
   "source": [
    "BUCKET_NAME = f\"sparkpoc-bucket-serverless-premium-nqe-{PROJECT_NUMBER}-{REGION}\"\n",
    "print(f\"GCS Bucket Name: {BUCKET_NAME}\")"
   ]
  },
  {
   "cell_type": "code",
   "execution_count": 4,
   "id": "0f51341d-d6a0-42b9-805e-2d40a44fe478",
   "metadata": {
    "tags": []
   },
   "outputs": [
    {
     "name": "stdout",
     "output_type": "stream",
     "text": [
      "Creating gs://sparkpoc-bucket-serverless-premium-nqe-279814974066-us-east1/...\n"
     ]
    }
   ],
   "source": [
    "! gcloud storage buckets create gs://{BUCKET_NAME} --uniform-bucket-level-access --location={REGION}"
   ]
  },
  {
   "cell_type": "markdown",
   "id": "ce1a8fa0-c7e0-45e6-818b-4ccf4e6a0b38",
   "metadata": {},
   "source": [
    "### Benchmark Configuration Setup\n",
    "\n",
    "This step initializes the benchmark configurations. These configurations define the parameters for the benchmark run, such as:\n",
    "\n",
    "- **Benchmark:** The type of benchmark to run (e.g., \"tpch\",  \"tpcds\",  \"tpch,tpcds\",  \"tpcds,tpch\").\n",
    "- **TPCH Queries to Run:** The specific queries to run for TPCH (e.g., \"q1,q2\", \"q3\", \"all\").\n",
    "- **TPCDS Queries to Run:** The specific queries to run for TPCDS (e.g., \"q1,q2\", \"q3\", \"all\").\n",
    "- **Size:** The scale factor or data size (e.g., \"sf1000\", \"sf10000\").\n",
    "- **File Format:** The currently supported file format is Parquet.\n",
    "\n",
    "**NOTE: You can customize the benchmark_configs to adjust the benchmark settings. After making changes, restart the kernel and re-run all cells for the modifications to take effect.**"
   ]
  },
  {
   "cell_type": "code",
   "execution_count": 5,
   "id": "3f706483-07fe-4c3f-93af-c99b7ef45454",
   "metadata": {
    "tags": []
   },
   "outputs": [],
   "source": [
    "benchmark_configs = {\n",
    "    \"benchmark\":\"tpch,tpcds\",      # the benchmark that gets specified first is run first\n",
    "    \"TPCH_queries_to_run\": \"all\",  # if benchmark does not contain tpch, this will be ignored\n",
    "    \"TPCDS_queries_to_run\": \"all\", # if benchmark does not contain tpcds, this will be ignored\n",
    "    \"size\": \"sf1000\",              # sf1000 for 1000GB, sf10000 for 10000GB\n",
    "    \"file_format\": \"parquet\"\n",
    "}"
   ]
  },
  {
   "cell_type": "code",
   "execution_count": 6,
   "id": "33c2bc1b-ac6c-41af-b7b7-a92cf2ccb08e",
   "metadata": {
    "tags": []
   },
   "outputs": [],
   "source": [
    "benchmark_string = benchmark_configs.get(\"benchmark\", \"\")\n",
    "file_format = benchmark_configs.get(\"file_format\", \"\")\n",
    "size = benchmark_configs.get(\"size\",\"\")\n",
    "\n",
    "benchmarks_list = [bench.strip() for bench in benchmark_string.split(',')]\n",
    "\n",
    "first_benchmark = benchmarks_list[0] if len(benchmarks_list) > 0 else None\n",
    "second_benchmark = benchmarks_list[1] if len(benchmarks_list) > 1 else None"
   ]
  },
  {
   "cell_type": "markdown",
   "id": "7ce16f06-ae41-4304-992d-b2580e500a29",
   "metadata": {},
   "source": [
    "### Validating Benchmark Configurations"
   ]
  },
  {
   "cell_type": "code",
   "execution_count": 7,
   "id": "329a0f2e-2434-4f7c-87ca-1dea1d84714c",
   "metadata": {
    "tags": []
   },
   "outputs": [
    {
     "name": "stdout",
     "output_type": "stream",
     "text": [
      "Benchmark Configurations\n",
      "First benchmark: tpch\n",
      "Second benchmark: tpcds\n",
      "Scale Factor: sf1000\n",
      "File Format: parquet\n"
     ]
    }
   ],
   "source": [
    "# Check for valid benchmark types\n",
    "\n",
    "if first_benchmark is None:\n",
    "    print(\"Error! Please specify benchmark to be run.\")\n",
    "    print(\"Valid benchmark types are - \\n 1. tpch \\n 2. tpcds \\n 3. tpch,tpcds \\n 4. tpcds,tpch\")\n",
    "    raise SystemExit()\n",
    "    \n",
    "if first_benchmark != \"tpch\" and first_benchmark != \"tpcds\":\n",
    "    print(f\"Error! Unrecognised benchmark type {first_benchmark}.\")\n",
    "    print(\"Valid benchmark types are - \\n 1. tpch \\n 2. tpcds \\n 3. tpch,tpcds \\n 4. tpcds,tpch\")\n",
    "    raise SystemExit()\n",
    "    \n",
    "if second_benchmark is not None and second_benchmark != \"tpch\" and second_benchmark != \"tpcds\":\n",
    "    print(f\"Error! Unrecognised benchmark type {second_benchmark}.\")\n",
    "    print(\"Valid benchmark types are - \\n 1. tpch \\n 2. tpcds \\n 3. tpch,tpcds \\n 4. tpcds,tpch\")\n",
    "    raise SystemExit()\n",
    "    \n",
    "# Check for valid scale factor\n",
    "if size is None or size == \"\" :\n",
    "    print(\"Error! Please specify scale factor/size\")\n",
    "    print(\"Valid size values are - \\n 1. sf1000 \\n 2. sf10000\")\n",
    "    raise SystemExit()\n",
    "\n",
    "if size != \"sf1000\" and size != \"sf10000\":\n",
    "    print(f\"Error! Unrecognised value for size {size}\")\n",
    "    print(\"Valid size values are - \\n 1. sf1000 \\n 2. sf10000\")\n",
    "    raise SystemExit()\n",
    "\n",
    "# Check for valid file formats\n",
    "if file_format is None or file_format == \"\":\n",
    "    print(\"Error! Please specify file format\")\n",
    "    print(\"Valid file formats are - \\n 1. parquet\")\n",
    "    raise SystemExit()    \n",
    "\n",
    "if file_format != \"parquet\":\n",
    "    print(f\"Error! Unrecognised file format {file_format}\")\n",
    "    print(\"Valid file formats are - \\n 1. parquet\")\n",
    "    raise SystemExit()    \n",
    "\n",
    "print(\"Benchmark Configurations\")\n",
    "print(f\"First benchmark: {first_benchmark}\")\n",
    "print(f\"Second benchmark: {second_benchmark}\")\n",
    "print(f\"Scale Factor: {size}\")\n",
    "print(f\"File Format: {file_format}\")       "
   ]
  },
  {
   "cell_type": "markdown",
   "id": "9ec2e550-affb-445d-8f0d-ebe869361ffa",
   "metadata": {},
   "source": [
    "### Defining the Run Id\n",
    "The following cell defines a unique identifier for the current notebook execution. This Run Id can be used in the `Comparison_Notebook` for Runtime and Cost performance comparison"
   ]
  },
  {
   "cell_type": "code",
   "execution_count": 8,
   "id": "4d71ca3f-94e4-4ec1-b79a-770674518c00",
   "metadata": {},
   "outputs": [
    {
     "name": "stdout",
     "output_type": "stream",
     "text": [
      "The Run Id for current notebook session is serverless_premium_native_parquet_sf1000_tpch_tpcds_us-east1_2025-08-08_10-39-52\n"
     ]
    }
   ],
   "source": [
    "from datetime import datetime, timezone\n",
    "now_utc = datetime.now(timezone.utc)\n",
    "timestamp_str = now_utc.strftime(\"%Y-%m-%d_%H-%M-%S\")\n",
    "\n",
    "RUN_ID = f\"serverless_{TIER}_{RUNTYPE}_{file_format}_{size}_{first_benchmark}\"\n",
    "\n",
    "if second_benchmark is not None:\n",
    "    RUN_ID+=f\"_{second_benchmark}\"\n",
    "\n",
    "RUN_ID+=f\"_{REGION}_{timestamp_str}\"\n",
    "print(f\"The Run Id for current notebook session is {RUN_ID}\")"
   ]
  },
  {
   "cell_type": "markdown",
   "id": "be6fe94d-5b81-45f2-bb19-d81ee62f1d9b",
   "metadata": {},
   "source": [
    "### Copy Utilities\n",
    "\n",
    "Run the following cells to copy the necessary utilities in your GCS bucket. \n",
    "\n",
    "Duplicate file copy operations will be skipped.\n",
    "\n",
    "**Troubleshooting: If the copy operation seems to hang at 100% for a significant time, it's likely due to a temporary error. In such cases, restarting the kernel and running all cells from the beginning is recommended.**"
   ]
  },
  {
   "cell_type": "code",
   "execution_count": 9,
   "id": "f343c638-715e-4ffa-9369-dc843b08c16d",
   "metadata": {
    "tags": []
   },
   "outputs": [
    {
     "name": "stdout",
     "output_type": "stream",
     "text": [
      "Copying utilities\n",
      "Source GCS location: gs://tpc-benchmarking-kit-bucket/notebook_utils/\n",
      "Destination GCS location: gs://sparkpoc-bucket-serverless-premium-nqe-279814974066-us-east1/premium/native/notebook_utils/\n",
      "\n",
      "Polling for latest operation name...done.                                      \n",
      "Operation name: transferJobs-10134757648494935362-3706566476166042751\n",
      "Parent job: 10134757648494935362\n",
      "Start time: 2025-08-08T10:39:54.319830474Z\n",
      "SUCCESS | 100% (162.6kiB of 162.6kiB) | Skipped: 0B | Errors: 0 : 0 /\n",
      "End time: 2025-08-08T10:40:16.958383446Z\n"
     ]
    }
   ],
   "source": [
    "source_location = f\"gs://{SOURCE_PUBLIC_GCS_BUCKET}/notebook_utils/\"\n",
    "destination_location = f\"gs://{BUCKET_NAME}/{TIER}/{RUNTYPE}/notebook_utils/\"\n",
    "\n",
    "print(\"Copying utilities\")\n",
    "print(f\"Source GCS location: {source_location}\")\n",
    "print(f\"Destination GCS location: {destination_location}\")\n",
    "print(\"\")\n",
    "\n",
    "# Copy notebook_utils which contains queries\n",
    "! gcloud transfer jobs monitor \\\n",
    "$(gcloud transfer jobs create \\\n",
    "  --format='value(name)' \\\n",
    "  \"{source_location}\" \"{destination_location}\"\\\n",
    ")"
   ]
  },
  {
   "cell_type": "markdown",
   "id": "7ebdfaab-d55f-4ce0-abcb-1130cdb043d6",
   "metadata": {},
   "source": [
    "### Copy Datasets\n",
    "\n",
    "Duplicate file copy operations will be skipped.\n",
    "\n",
    "**Troubleshooting: If the copy operation seems to hang at 100% for a significant time, it's likely due to a temporary error. In such cases, restarting the kernel and running all cells from the beginning is recommended.**"
   ]
  },
  {
   "cell_type": "code",
   "execution_count": 10,
   "id": "87b27ed8-fbd2-4b75-91a6-d12da70fdee1",
   "metadata": {
    "tags": []
   },
   "outputs": [
    {
     "name": "stdout",
     "output_type": "stream",
     "text": [
      "Copying tpch sf1000 datasets\n",
      "Source GCS location: gs://tpc-benchmarking-kit-bucket/tpch/sf1000/\n",
      "Destination GCS location: gs://sparkpoc-bucket-serverless-premium-nqe-279814974066-us-east1/premium/native/tpch/sf1000/\n",
      "\n",
      "Polling for latest operation name...done.                                      \n",
      "Operation name: transferJobs-12397473710907107364-17495272252171656421\n",
      "Parent job: 12397473710907107364\n",
      "Start time: 2025-08-08T10:40:19.316625867Z\n",
      "SUCCESS | 100% (351.5GiB of 351.5GiB) | Skipped: 0B | Errors: 0 : 0 /\n",
      "End time: 2025-08-08T10:41:47.349711926Z\n"
     ]
    }
   ],
   "source": [
    "print(f\"Copying {first_benchmark} {size} datasets\")\n",
    "print(f\"Source GCS location: gs://{SOURCE_PUBLIC_GCS_BUCKET}/{first_benchmark}/{size}/\")\n",
    "print(f\"Destination GCS location: gs://{BUCKET_NAME}/premium/native/{first_benchmark}/{size}/\")\n",
    "print(\"\")    \n",
    "\n",
    "# Copy TPC datasets\n",
    "! gcloud transfer jobs monitor \\\n",
    "$(gcloud transfer jobs create \\\n",
    "  --format='value(name)' \\\n",
    "  \"gs://{SOURCE_PUBLIC_GCS_BUCKET}/{first_benchmark}/{size}/\" \"gs://{BUCKET_NAME}/premium/native/{first_benchmark}/{size}/\"\\\n",
    ")"
   ]
  },
  {
   "cell_type": "code",
   "execution_count": 11,
   "id": "a9360d25-05ed-4b2a-9b1f-a48d70ed5999",
   "metadata": {},
   "outputs": [
    {
     "name": "stdout",
     "output_type": "stream",
     "text": [
      "Copying tpcds sf1000 datasets\n",
      "Source GCS location: gs://tpc-benchmarking-kit-bucket/tpcds/sf1000/\n",
      "Destination GCS location: gs://sparkpoc-bucket-serverless-premium-nqe-279814974066-us-east1/premium/native/tpcds/sf1000/\n",
      "\n",
      "Polling for latest operation name...done.                                      \n",
      "Operation name: transferJobs-8270335426188319017-5105155012095707800\n",
      "Parent job: 8270335426188319017\n",
      "Start time: 2025-08-08T10:41:49.924138023Z\n",
      "SUCCESS | 100% (304.3GiB of 304.3GiB) | Skipped: 0B | Errors: 0 : 0 |\n",
      "End time: 2025-08-08T10:44:45.203430815Z\n"
     ]
    }
   ],
   "source": [
    "if second_benchmark is not None:\n",
    "    print(f\"Copying {second_benchmark} {size} datasets\")\n",
    "    print(f\"Source GCS location: gs://{SOURCE_PUBLIC_GCS_BUCKET}/{second_benchmark}/{size}/\")\n",
    "    print(f\"Destination GCS location: gs://{BUCKET_NAME}/premium/native/{second_benchmark}/{size}/\")\n",
    "    print(\"\")\n",
    "\n",
    "    # Copy TPC datasets\n",
    "    ! gcloud transfer jobs monitor \\\n",
    "    $(gcloud transfer jobs create \\\n",
    "      --format='value(name)' \\\n",
    "      \"gs://{SOURCE_PUBLIC_GCS_BUCKET}/{second_benchmark}/{size}/\" \"gs://{BUCKET_NAME}/premium/native/{second_benchmark}/{size}/\"\\\n",
    "    )\n",
    "else:\n",
    "    print(\"Second benchmark is empty. Skipping this step.\") "
   ]
  },
  {
   "cell_type": "markdown",
   "id": "42b11346-c158-4ff2-bfe4-425b03d0d3c8",
   "metadata": {},
   "source": [
    "### Define Benchmark Utility Functions\n",
    "\n",
    "To facilitate the execution of TPC benchmarks, we need to load a set of utility functions. These functions are defined in the following cell and handle tasks such as:\n",
    "\n",
    "- Query execution timing\n",
    "- Data loading and setup\n",
    "- Result formatting\n",
    "- Writing results to GCS\n",
    "- Terminating current Serverless session\n"
   ]
  },
  {
   "cell_type": "code",
   "execution_count": 12,
   "id": "de5779d5-95c3-4709-9bbc-921a96fdc758",
   "metadata": {
    "tags": []
   },
   "outputs": [],
   "source": [
    "from pyspark.sql import SparkSession\n",
    "from urllib.parse import urlparse\n",
    "from py4j.java_gateway import java_import\n",
    "import os\n",
    "from google.cloud import storage\n",
    "import time\n",
    "from typing import Callable, List, Tuple\n",
    "import matplotlib.pyplot as plt\n",
    "from tabulate import tabulate\n",
    "from google.cloud import dataproc_v1 as dataproc\n",
    "import json\n",
    "import subprocess\n",
    "import re\n",
    "import csv\n",
    "import io\n",
    "\n",
    "################################################ Run Benchmark ############################################\n",
    "# Set up TPCH tables\n",
    "def setupTPCHTables(spark: SparkSession, locationPath: str, size: str):\n",
    "    spark.sparkContext.setJobDescription(\"SETUP\")\n",
    "    tpchtables = [\"customer\", \"lineitem\", \"nation\", \"orders\", \"part\", \"partsupp\", \"region\", \"supplier\"]\n",
    "\n",
    "    print(\"Setting up TPCH tables\")\n",
    "\n",
    "    ntn = f\"\"\"create table nation (n_nationkey long, n_name string, n_regionkey long, n_comment string) using parquet location \"{locationPath}/tpch/{size}/parquet/partitioned/{size}_parquet/nation/\" options (\"compression\"=\"snappy\")\"\"\"\n",
    "    rgn = f\"\"\"create table region (r_regionkey long, r_name string, r_comment string) using parquet location \"{locationPath}/tpch/{size}/parquet/partitioned/{size}_parquet/region/\" options (\"compression\"=\"snappy\")\"\"\"\n",
    "    prtsupp = f\"\"\"create table partsupp (ps_partkey long, ps_suppkey long, ps_availqty int, ps_supplycost decimal(12, 2), ps_comment string) using parquet location \"{locationPath}/tpch/{size}/parquet/partitioned/{size}_parquet/partsupp/\" options (\"compression\"=\"snappy\")\"\"\"\n",
    "    supp = f\"\"\"create table supplier (s_suppkey long, s_name string, s_address string, s_nationkey long, s_phone string, s_acctbal decimal(12, 2), s_comment string) using parquet location \"{locationPath}/tpch/{size}/parquet/partitioned/{size}_parquet/supplier/\" options (\"compression\"=\"snappy\")\"\"\"\n",
    "    odrs = f\"\"\"create table orders (o_orderkey long, o_custkey long, o_orderstatus string, o_totalprice decimal(12, 2), o_orderdate date, o_orderpriority string, o_clerk string, o_shippriority int, o_comment string) using parquet partitioned by (o_orderdate) location \"{locationPath}/tpch/{size}/parquet/partitioned/{size}_parquet/orders/\" options (\"compression\"=\"snappy\")\"\"\"\n",
    "    cstmr = f\"\"\"create table customer (c_custkey long, c_name string, c_address string, c_nationkey long, c_phone string, c_acctbal decimal(12, 2), c_mktsegment string, c_comment string) using parquet partitioned by (c_mktsegment) location \"{locationPath}/tpch/{size}/parquet/partitioned/{size}_parquet/customer/\" options (\"compression\"=\"snappy\")\"\"\"\n",
    "    prt = f\"\"\"create table part (p_partkey long, p_name string, p_mfgr string, p_brand string, p_type string, p_size int, p_container string, p_retailprice decimal(12, 2), p_comment string) using parquet partitioned by (p_brand) location \"{locationPath}/tpch/{size}/parquet/partitioned/{size}_parquet/part/\" options (\"compression\"=\"snappy\")\"\"\"\n",
    "    litem = f\"\"\"create table lineitem (l_orderkey long, l_partkey long, l_suppkey long, l_linenumber int, l_quantity decimal(12, 2), l_extendedprice decimal(12, 2), l_discount decimal(12, 2), l_tax decimal(12,2), l_returnflag string, l_linestatus string, l_shipdate date, l_commitdate date, l_receiptdate date, l_shipinstruct string, l_shipmode string, l_comment string) USING parquet PARTITIONED BY (l_shipdate) LOCATION \"{locationPath}/tpch/{size}/parquet/partitioned/{size}_parquet/lineitem/\" options (\"compression\"=\"snappy\")\"\"\"\n",
    "\n",
    "    for table in tpchtables:\n",
    "        spark.sql(f\"DROP TABLE IF EXISTS {table}\")\n",
    "\n",
    "    spark.sql(ntn)\n",
    "    spark.sql(rgn)\n",
    "    spark.sql(prtsupp)\n",
    "    spark.sql(supp)\n",
    "    spark.sql(odrs)\n",
    "    spark.sql(cstmr)\n",
    "    spark.sql(prt)\n",
    "    spark.sql(litem)\n",
    "    spark.sql(\"msck repair table orders\")\n",
    "    spark.sql(\"msck repair table customer\")\n",
    "    spark.sql(\"msck repair table part\")\n",
    "    spark.sql(\"msck repair table lineitem\")\n",
    "    \n",
    "    print(\"TPCH Tables set up\")\n",
    "\n",
    "# Set up TPCDS tables\n",
    "def setupTPCDSTables(spark: SparkSession, locationPath: str, size: str):\n",
    "    spark.sparkContext.setJobDescription(\"SETUP\")\n",
    "    tpcdstables = [\"call_center\", \"catalog_page\", \"catalog_returns\", \"catalog_sales\", \"customer\", \"customer_address\", \"customer_demographics\", \"date_dim\", \"household_demographics\", \"income_band\", \"inventory\", \"item\", \"promotion\", \"reason\", \"ship_mode\", \"store\", \"store_returns\", \"store_sales\", \"time_dim\", \"warehouse\", \"web_page\", \"web_returns\", \"web_sales\", \"web_site\"]\n",
    "\n",
    "    print(\"Setting up TPCDS tables\")\n",
    "\n",
    "    store_sales = f\"\"\"create table store_sales using parquet location \"{locationPath}/tpcds/{size}/parquet/partitioned/{size}_parquet/store_sales/\" options (\"compression\"=\"snappy\")\"\"\"\n",
    "    store = f\"\"\"create table store using parquet location \"{locationPath}/tpcds/{size}/parquet/partitioned/{size}_parquet/store/\" options (\"compression\"=\"snappy\")\"\"\"\n",
    "    call_center = f\"\"\"create table call_center using parquet location \"{locationPath}/tpcds/{size}/parquet/partitioned/{size}_parquet/call_center/\" options (\"compression\"=\"snappy\")\"\"\"\n",
    "    catalog_page = f\"\"\"create table catalog_page using parquet location \"{locationPath}/tpcds/{size}/parquet/partitioned/{size}_parquet/catalog_page/\" options (\"compression\"=\"snappy\")\"\"\"\n",
    "    customer = f\"\"\"create table customer using parquet location \"{locationPath}/tpcds/{size}/parquet/partitioned/{size}_parquet/customer/\" options (\"compression\"=\"snappy\")\"\"\"\n",
    "    customer_address = f\"\"\"create table customer_address using parquet location \"{locationPath}/tpcds/{size}/parquet/partitioned/{size}_parquet/customer_address/\" options (\"compression\"=\"snappy\")\"\"\"\n",
    "    customer_demographics = f\"\"\"create table customer_demographics using parquet location \"{locationPath}/tpcds/{size}/parquet/partitioned/{size}_parquet/customer_demographics/\" options (\"compression\"=\"snappy\")\"\"\"\n",
    "    date_dim = f\"\"\"create table date_dim using parquet location \"{locationPath}/tpcds/{size}/parquet/partitioned/{size}_parquet/date_dim/\" options (\"compression\"=\"snappy\")\"\"\"\n",
    "    household_demographics = f\"\"\"create table household_demographics using parquet location \"{locationPath}/tpcds/{size}/parquet/partitioned/{size}_parquet/household_demographics/\" options (\"compression\"=\"snappy\")\"\"\"\n",
    "    income_band = f\"\"\"create table income_band using parquet location \"{locationPath}/tpcds/{size}/parquet/partitioned/{size}_parquet/income_band/\" options (\"compression\"=\"snappy\")\"\"\"\n",
    "    inventory = f\"\"\"create table inventory using parquet location \"{locationPath}/tpcds/{size}/parquet/partitioned/{size}_parquet/inventory/\" options (\"compression\"=\"snappy\")\"\"\"\n",
    "    item = f\"\"\"create table item using parquet location \"{locationPath}/tpcds/{size}/parquet/partitioned/{size}_parquet/item/\" options (\"compression\"=\"snappy\")\"\"\"\n",
    "    promotion = f\"\"\"create table promotion using parquet location \"{locationPath}/tpcds/{size}/parquet/partitioned/{size}_parquet/promotion/\" options (\"compression\"=\"snappy\")\"\"\"\n",
    "    reason = f\"\"\"create table reason using parquet location \"{locationPath}/tpcds/{size}/parquet/partitioned/{size}_parquet/reason/\" options (\"compression\"=\"snappy\")\"\"\"\n",
    "    ship_mode = f\"\"\"create table ship_mode using parquet location \"{locationPath}/tpcds/{size}/parquet/partitioned/{size}_parquet/ship_mode/\" options (\"compression\"=\"snappy\")\"\"\"\n",
    "    store_returns = f\"\"\"create table store_returns using parquet location \"{locationPath}/tpcds/{size}/parquet/partitioned/{size}_parquet/store_returns/\" options (\"compression\"=\"snappy\")\"\"\"\n",
    "    time_dim = f\"\"\"create table time_dim using parquet location \"{locationPath}/tpcds/{size}/parquet/partitioned/{size}_parquet/time_dim/\" options (\"compression\"=\"snappy\")\"\"\"\n",
    "    warehouse = f\"\"\"create table warehouse using parquet location \"{locationPath}/tpcds/{size}/parquet/partitioned/{size}_parquet/warehouse/\" options (\"compression\"=\"snappy\")\"\"\"\n",
    "    web_page = f\"\"\"create table web_page using parquet location \"{locationPath}/tpcds/{size}/parquet/partitioned/{size}_parquet/web_page/\" options (\"compression\"=\"snappy\")\"\"\"\n",
    "    web_returns = f\"\"\"create table web_returns using parquet location \"{locationPath}/tpcds/{size}/parquet/partitioned/{size}_parquet/web_returns/\" options (\"compression\"=\"snappy\")\"\"\"\n",
    "    web_sales = f\"\"\"create table web_sales using parquet location \"{locationPath}/tpcds/{size}/parquet/partitioned/{size}_parquet/web_sales/\" options (\"compression\"=\"snappy\")\"\"\"\n",
    "    web_site = f\"\"\"create table web_site using parquet location \"{locationPath}/tpcds/{size}/parquet/partitioned/{size}_parquet/web_site/\" options (\"compression\"=\"snappy\")\"\"\"\n",
    "    catalog_sales = f\"\"\"create table catalog_sales using parquet location \"{locationPath}/tpcds/{size}/parquet/partitioned/{size}_parquet/catalog_sales/\" options (\"compression\"=\"snappy\")\"\"\"\n",
    "    catalog_returns = f\"\"\"create table catalog_returns using parquet location \"{locationPath}/tpcds/{size}/parquet/partitioned/{size}_parquet/catalog_returns/\" options (\"compression\"=\"snappy\")\"\"\"\n",
    "\n",
    "    for table in tpcdstables:\n",
    "        spark.sql(f\"DROP TABLE IF EXISTS {table}\")\n",
    "\n",
    "    spark.sql(store_sales)\n",
    "    spark.sql(store)\n",
    "    spark.sql(call_center)\n",
    "    spark.sql(catalog_page)\n",
    "    spark.sql(customer)\n",
    "    spark.sql(customer_address)\n",
    "    spark.sql(customer_demographics)\n",
    "    spark.sql(date_dim)\n",
    "    spark.sql(household_demographics)\n",
    "    spark.sql(income_band)\n",
    "    spark.sql(inventory)\n",
    "    spark.sql(item)\n",
    "    spark.sql(promotion)\n",
    "    spark.sql(reason)\n",
    "    spark.sql(ship_mode)\n",
    "    spark.sql(store_returns)\n",
    "    spark.sql(time_dim)\n",
    "    spark.sql(warehouse)\n",
    "    spark.sql(web_page)\n",
    "    spark.sql(web_returns)\n",
    "    spark.sql(web_sales)\n",
    "    spark.sql(web_site)\n",
    "    spark.sql(catalog_sales)\n",
    "    spark.sql(catalog_returns)\n",
    "    spark.sql(\"alter table store_sales recover partitions\")\n",
    "    spark.sql(\"alter table catalog_sales recover partitions\")\n",
    "    spark.sql(\"alter table web_sales recover partitions\")\n",
    "    spark.sql(\"alter table catalog_returns recover partitions\")\n",
    "    spark.sql(\"alter table store_returns recover partitions\")\n",
    "    spark.sql(\"alter table web_returns recover partitions\")\n",
    "    spark.sql(\"alter table inventory recover partitions\")\n",
    "\n",
    "    print(\"TPCDS Tables set up\")\n",
    "\n",
    "# Returns list of query names in GCS folder of the given benchmark\n",
    "def getQueryNames(bucket_name: str, tier:str, runtype: str, benchmark: str) -> List[str]:\n",
    "    file_names = []\n",
    "    gcs_query_path = f\"{tier}/{runtype}/notebook_utils/{benchmark}-queries/\"\n",
    "    \n",
    "    try:\n",
    "        client = storage.Client()\n",
    "        bucket = client.get_bucket(bucket_name)\n",
    "        blobs = bucket.list_blobs(prefix=gcs_query_path)      \n",
    "        \n",
    "        for blob in blobs:\n",
    "            if not blob.name.endswith(\"/\"):  \n",
    "                relative_path = os.path.relpath(blob.name, gcs_query_path)\n",
    "                file_name = os.path.basename(relative_path)\n",
    "                name_without_suffix = file_name\n",
    "                dot_index = file_name.rfind('.')\n",
    "                if dot_index > 0:\n",
    "                    name_without_suffix = file_name[:dot_index]\n",
    "                file_names.append(name_without_suffix)\n",
    "\n",
    "        file_names.sort() \n",
    "        return file_names\n",
    "    \n",
    "    except Exception as e:\n",
    "        print(f\"Error listing files in 'gs://{bucket_name}/{gcs_query_path}': {e}\")\n",
    "        raise ValueError(f\"Failed to get query names from 'gs://{bucket_name}/{gcs_query_path}'\")\n",
    "        \n",
    "# Returns the query string from given GCS path\n",
    "def getQuery(spark: SparkSession, gcsPath: str) -> str:\n",
    "    query = \"\"\n",
    "    try:\n",
    "        # Use Spark's textFile to read the content of the GCS file into an RDD\n",
    "        rdd = spark.sparkContext.textFile(gcsPath)\n",
    "        # Join all lines of the RDD with a new line\n",
    "        query = \"\\n\".join(rdd.collect())\n",
    "        return query\n",
    "    except Exception as e:\n",
    "        if \"java.io.FileNotFoundException\" in str(e):\n",
    "            print(f\"Error: File not found at path '{gcsPath}'\")\n",
    "        else:\n",
    "            print(f\"An error occurred while reading '{gcsPath}': {e}\")\n",
    "        return \"\"\n",
    "\n",
    "# Measure query runtime in ms\n",
    "def measureTimeMs(query: str) -> int:\n",
    "    try:\n",
    "        start_time = time.perf_counter()\n",
    "        spark.sql(query).collect()\n",
    "        end_time = time.perf_counter()\n",
    "        elapsedTime = end_time - start_time\n",
    "        elapsedTime = elapsedTime * 1000\n",
    "        elapsedTime = round(elapsedTime)\n",
    "        return elapsedTime\n",
    "    except Exception as e:\n",
    "        print(f\"Error running query: {query}\\nError: {e}\")\n",
    "        return -1\n",
    "\n",
    "# Write query runtimes to given GCS path\n",
    "def write_query_runtimes_to_gcs_csv(\n",
    "    runtime_data: List[Tuple[str, int]],\n",
    "    result_location: str\n",
    "):\n",
    "    if not runtime_data:\n",
    "        print(\"No data to write to CSV.\")\n",
    "        return    \n",
    "\n",
    "    path_without_prefix = result_location[len(\"gs://\"):]\n",
    "    parts = path_without_prefix.split('/', 1)\n",
    "\n",
    "    if len(parts) == 2:\n",
    "        gcs_bucket_name = parts[0]\n",
    "        gcs_file_path = parts[1]\n",
    "    else: \n",
    "        raise ValueError(f\"Invalid result location!\")\n",
    "    \n",
    "    # Create an in-memory file-like object\n",
    "    csv_buffer = io.StringIO()\n",
    "\n",
    "    # Create a CSV writer object\n",
    "    csv_writer = csv.writer(csv_buffer)\n",
    "\n",
    "    # Write the header row\n",
    "    csv_writer.writerow([\"Query_Id\", \"Runtime (in ms)\"])\n",
    "\n",
    "    # Write the data rows\n",
    "    for query_id, runtime in runtime_data:\n",
    "        csv_writer.writerow([query_id, runtime])\n",
    "    \n",
    "    # Get the CSV data from the buffer\n",
    "    csv_data = csv_buffer.getvalue()\n",
    "\n",
    "    # Initialize the GCS client\n",
    "    storage_client = storage.Client()\n",
    "    bucket = storage_client.bucket(gcs_bucket_name)\n",
    "    blob = bucket.blob(gcs_file_path)\n",
    "\n",
    "    try:\n",
    "        # Upload the CSV data to GCS\n",
    "        blob.upload_from_string(csv_data, content_type=\"text/csv\")\n",
    "        print(f\"Runtime results successfully written to {result_location}\")\n",
    "    except Exception as e:\n",
    "        print(f\"Error writing to GCS: {e}\")\n",
    "        \n",
    "# Run TPC benchmark \n",
    "def runTPCBenchmark(spark: SparkSession, benchmark: str, benchmark_configs: dict[str, str], bucket_name:str, run_id: str, project_id: str, runtype: str, tier: str):\n",
    "    size = benchmark_configs.get(\"size\", \"\")\n",
    "    file_format = benchmark_configs.get(\"file_format\", \"\")\n",
    "    prefix_location_path = f\"gs://{bucket_name}/{tier}/{runtype}\"\n",
    "    query_folder = f\"{prefix_location_path}/notebook_utils\"\n",
    "    query_names = getQueryNames(bucket_name,tier,runtype,benchmark)\n",
    "    result_location = f\"{prefix_location_path}/output/{file_format}/{benchmark}/{size}/{run_id}.csv\"\n",
    "           \n",
    "    if benchmark == \"tpch\":\n",
    "        queries_to_run = benchmark_configs.get(\"TPCH_queries_to_run\", \"\")        \n",
    "        print(f\"Running benchmark: {benchmark}, size: {size}, queries to run: {queries_to_run}, runtime engine: {runtype}, file format: {file_format}\")\n",
    "\n",
    "        setupTPCHTables(spark,prefix_location_path,size)       \n",
    "        \n",
    "        print(\"--------Running TPCH Benchmark with following configurations--------\")\n",
    "        \n",
    "    else:\n",
    "        queries_to_run = benchmark_configs.get(\"TPCDS_queries_to_run\", \"\")        \n",
    "        print(f\"Running benchmark: {benchmark}, size: {size}, queries to run: {queries_to_run}, runtime engine: {runtype}, file format: {file_format}\")\n",
    "        \n",
    "        setupTPCDSTables(spark,prefix_location_path,size)\n",
    "        \n",
    "        print(\"--------Running TPCDS Benchmark with following configurations--------\")\n",
    "    \n",
    "    print(f\"Queries to run: {queries_to_run}\")\n",
    "    print(f\"Benchmark: {benchmark}\")\n",
    "    print(f\"Result Location: {result_location}\")\n",
    "    print(f\"Scale Factor: {size}\")\n",
    "    print(f\"File Format: {file_format}\")\n",
    "\n",
    "\n",
    "    print(f\"Parquet Tables GCS Path: {prefix_location_path}\")  \n",
    "        \n",
    "    print(\"--------------------------------------------------------------------\")\n",
    "    \n",
    "    runtime: List[Tuple[str, int]] = []\n",
    "\n",
    "    filtered_query_names = []\n",
    "    if queries_to_run.strip() == \"all\":\n",
    "        filtered_query_names = query_names\n",
    "    elif queries_to_run:\n",
    "        queries_to_run_list = [q.strip() for q in queries_to_run.split(',')] # Split by comma if multiple queries\n",
    "        filtered_query_names = [q for q in query_names if q in queries_to_run_list]\n",
    "    \n",
    "    for query_name in filtered_query_names:\n",
    "        query_path = f\"{query_folder}/{benchmark}-queries/{query_name}.sql\"\n",
    "        query = getQuery(spark, query_path)\n",
    "        if query:\n",
    "            print(f\"Running {benchmark} query {query_name}\")\n",
    "            spark.sparkContext.setJobDescription(query_name)\n",
    "            query_run_time = measureTimeMs(query)\n",
    "            if query_run_time != -1:                            \n",
    "                print(f\"{benchmark} query {query_name} ran in {query_run_time} ms\")\n",
    "                runtime.append((query_name, query_run_time))\n",
    "            else:\n",
    "                print(f\"{benchmark} query {query_name} failed.\")\n",
    "                runtime.append((query_name, 0))                \n",
    "        else:\n",
    "            print(f\"Skipping query {query_name} due to reading error.\")\n",
    "    \n",
    "    query_ids = [item[0] for item in runtime]\n",
    "    runtimes = [item[1] for item in runtime]\n",
    "\n",
    "    headers=[\"QueryId\", \"Runtime(in ms)\"]    \n",
    "    total_runtime = sum(runtime_ms for _, runtime_ms in runtime)\n",
    "    runtime.insert(0,(\"Sum\",total_runtime))\n",
    "    \n",
    "    print(tabulate(runtime, headers=headers, tablefmt=\"fancy_grid\"))\n",
    "\n",
    "    plt.figure(figsize=(25, 15)) \n",
    "    plt.bar(query_ids, runtimes, color='skyblue')\n",
    "    plt.xlabel(\"Query Id\", fontsize=20)\n",
    "    plt.ylabel(\"Runtime (in ms)\", fontsize=20)\n",
    "    plt.title(f\"Query Runtimes for {benchmark} {size} (Runtype: {runtype}, File format: {file_format})\",fontsize=25)\n",
    "    plt.xticks(rotation=90, ha='right',fontsize=15)  \n",
    "    plt.yticks(fontsize=20)\n",
    "    plt.tight_layout()  \n",
    "    plt.show()\n",
    "    \n",
    "    print(\"----------------------------------------------------------------------------------------------------------\")\n",
    "    \n",
    "    # Write results to GCS bucket\n",
    "    print(f\"Writing to GCS bucket {bucket_name}\")\n",
    "    write_query_runtimes_to_gcs_csv(runtime, result_location)    \n",
    "\n",
    "    print(\"----------------------------------------------------------------------------------------------------------\")\n",
    "    \n",
    "    spark.stop()   \n",
    "    \n",
    "################################################ Terminate Session functions ############################################\n",
    "\n",
    "#  Returns session UUID of the current serverless session\n",
    "def get_session_uuid():\n",
    "    hostname = os.environ.get(\"HOSTNAME\")\n",
    "    if hostname:\n",
    "        pattern = r\"gdpic-srvls-session-([a-zA-Z0-9\\-]+)-m\"\n",
    "        match = re.search(pattern, hostname)\n",
    "        \n",
    "        if match:\n",
    "            return match.group(1)\n",
    "        else:\n",
    "            raise ValueError(f\"Session UUID not found in hostname: '{hostname}'\")\n",
    "\n",
    "# Serialises the session object to json        \n",
    "def serialize_session(obj):\n",
    "    if isinstance(obj, dataproc.Session):\n",
    "        session_dict = {\n",
    "            \"name\": obj.name,\n",
    "            \"creator\": obj.creator,\n",
    "            \"session_template\": obj.session_template,\n",
    "        }\n",
    "        \n",
    "        if hasattr(obj, 'runtime_config'):\n",
    "            runtime_config_data = {\n",
    "                \"version\": obj.runtime_config.version if hasattr(obj.runtime_config, 'version') else None,\n",
    "                \"properties\": []\n",
    "            }\n",
    "            if hasattr(obj.runtime_config, 'properties'):\n",
    "                for prop in obj.runtime_config.properties:\n",
    "                    runtime_config_data[\"properties\"].append({\n",
    "                        \"key\": prop,\n",
    "                        \"value\": obj.runtime_config.properties[prop]\n",
    "                    })\n",
    "            session_dict[\"runtime_config\"] = runtime_config_data\n",
    "\n",
    "        return session_dict\n",
    "    return obj\n",
    "\n",
    "# Upload session details to GCS and terminate session as part of cleanup\n",
    "def finalize_notebook_and_cleanup(benchmark_configs: dict[str, str], gcs_bucket_name:str, region: str, project_id: str, run_id: str, runtype: str, tier: str):\n",
    "    try:\n",
    "        size = benchmark_configs.get(\"size\", \"\")\n",
    "        file_format = benchmark_configs.get(\"file_format\", \"\")\n",
    "\n",
    "        # Terminating current session                 \n",
    "        session_uuid = get_session_uuid()\n",
    "    \n",
    "        client_options = {\"api_endpoint\": f\"{region}-dataproc.googleapis.com\"}\n",
    "        client = dataproc.SessionControllerClient(client_options=client_options)\n",
    "\n",
    "        parent = f\"projects/{project_id}/locations/{region}\"\n",
    "        storage_client = storage.Client(project=project_id)\n",
    "        bucket = storage_client.bucket(gcs_bucket_name)\n",
    "        \n",
    "        # GCS Path where session configs is uploaded\n",
    "        gcs_file_path = f\"{tier}/serverless_{runtype}_session/{file_format}/{size}/{run_id}.json\"\n",
    "        blob = bucket.blob(gcs_file_path)\n",
    "        found_session = False\n",
    "        for session in client.list_sessions(parent=parent):\n",
    "            if session.uuid == session_uuid :\n",
    "                found_session = True\n",
    "                print(f\"Current session name: {session.name}\")\n",
    "                \n",
    "                # Uploading session details to GCS                \n",
    "                print(\"Uploading session details to GCS...\")\n",
    "                json_data = json.dumps(session,default=serialize_session, indent=4)\n",
    "                blob.upload_from_string(json_data, content_type=\"application/json\")\n",
    "                \n",
    "                print(f\"Uploaded session details to GCS file path gs://{gcs_bucket_name}/{gcs_file_path}\")\n",
    "                print(\"----------------------------------------------------------------------------------\")\n",
    "                # Terminating current session\n",
    "                print(f\"Terminating session: {session.name}\")\n",
    "                delete_operation = client.terminate_session(name=session.name)\n",
    "                print(f\"Successfully requested to stop session '{session.name}'. The kernel will now terminate...\")\n",
    "                break\n",
    "        else:\n",
    "            if not found_session:\n",
    "                print(\"ERROR! Could not find session details\")\n",
    "    except Exception as e:\n",
    "        print(f\"Error while cleaning up current session : {e}\")"
   ]
  },
  {
   "cell_type": "markdown",
   "id": "33ede789-d604-4c96-b098-08ae861f1b1c",
   "metadata": {},
   "source": [
    "### First Benchmark"
   ]
  },
  {
   "cell_type": "markdown",
   "id": "d8941772-bbb0-4db5-9daf-e59cf6b0c2e0",
   "metadata": {},
   "source": [
    "#### Start Spark Session\n",
    "\n",
    "In the following step, spark properties are set to run benchmarks using NQE."
   ]
  },
  {
   "cell_type": "code",
   "execution_count": 13,
   "id": "3b098786-4abe-4abb-acf1-2429e3e763e0",
   "metadata": {
    "tags": []
   },
   "outputs": [
    {
     "name": "stdout",
     "output_type": "stream",
     "text": [
      "Spark Application Name: PySparkShell\n",
      "Spark Session ID: app-20250808103947-0002\n",
      "Spark Version: 3.5.1\n",
      "Spark Dataproc Engine: default\n",
      "Spark Lightning Engine: default\n",
      "Spark Master: spark://gdpic-srvls-session-35ad127b-51df-4300-9953-96450fdf1ce3-m:7077\n"
     ]
    },
    {
     "name": "stderr",
     "output_type": "stream",
     "text": [
      "25/08/08 10:44:48 WARN SparkSession: Using an existing Spark session; only runtime SQL configurations will take effect.\n"
     ]
    }
   ],
   "source": [
    "#  Start new Spark session with specified configurations \n",
    "\n",
    "spark_configs = {}\n",
    "\n",
    "if(size == \"sf10000\"):\n",
    "    print(\"Killing earlier spark session to update spark config for sf10000 runs\")\n",
    "    spark.stop()    \n",
    "    spark_configs[\"spark.executor.instances\"] = \"27\"\n",
    "\n",
    "spark_builder = SparkSession.builder.appName(f\"{first_benchmark} s8s premium with nqe benchmark run\").enableHiveSupport()\n",
    "\n",
    "for key, value in spark_configs.items():\n",
    "    spark_builder.config(key, value)\n",
    "\n",
    "spark = spark_builder.getOrCreate()\n",
    "\n",
    "# Set the logger to display only ERROR logs\n",
    "logger = sc._jvm.org.apache.logging.log4j\n",
    "logger.core.config.Configurator.setAllLevels(\"org\",logger.Level.ERROR)\n",
    "\n",
    "print(f\"Spark Application Name: {spark.sparkContext.appName}\")\n",
    "print(f\"Spark Session ID: {spark.sparkContext._jsc.sc().applicationId()}\")\n",
    "print(f\"Spark Version: {spark.version}\")\n",
    "print(f\"Spark Dataproc Engine: {spark.conf.get('spark.dataproc.engine')}\")\n",
    "#print(f\"Spark Dataproc Engine: {spark.conf.get('spark.dataproc.runtimeEngine')}\")\n",
    "\n",
    "print(f\"Spark Lightning Engine: {spark.conf.get('spark.dataproc.lightningEngine.runtime')}\")\n",
    "print(f\"Spark Master: {spark.sparkContext.master}\") "
   ]
  },
  {
   "cell_type": "markdown",
   "id": "6af9e98d-9ba3-47c5-b99f-87bb6da70018",
   "metadata": {},
   "source": [
    "#### Run Benchmark\n",
    "The following cell runs the first benchmark with the configurations passed.\n",
    "\n",
    "**NOTE - After every benchmark run is complete, it terminates the existing spark session. New spark session is created for each run.**"
   ]
  },
  {
   "cell_type": "code",
   "execution_count": 14,
   "id": "afc047e4-2a7d-42e4-9e6d-1eb7369b3cf4",
   "metadata": {
    "tags": []
   },
   "outputs": [
    {
     "name": "stdout",
     "output_type": "stream",
     "text": [
      "Running benchmark: tpch, size: sf1000, queries to run: all, runtime engine: native, file format: parquet\n",
      "Setting up TPCH tables\n"
     ]
    },
    {
     "name": "stderr",
     "output_type": "stream",
     "text": [
      "ivysettings.xml file not found in HIVE_HOME or HIVE_CONF_DIR,/etc/spark/conf/ivysettings.xml will be used\n",
      "                                                                                \r"
     ]
    },
    {
     "name": "stdout",
     "output_type": "stream",
     "text": [
      "TPCH Tables set up\n",
      "--------Running TPCH Benchmark with following configurations--------\n",
      "Queries to run: all\n",
      "Benchmark: tpch\n",
      "Result Location: gs://sparkpoc-bucket-serverless-premium-nqe-279814974066-us-east1/premium/native/output/parquet/tpch/sf1000/serverless_premium_native_parquet_sf1000_tpch_tpcds_us-east1_2025-08-08_10-39-52.csv\n",
      "Scale Factor: sf1000\n",
      "File Format: parquet\n",
      "Parquet Tables GCS Path: gs://sparkpoc-bucket-serverless-premium-nqe-279814974066-us-east1/premium/native\n",
      "--------------------------------------------------------------------\n",
      "Running tpch query q1\n"
     ]
    },
    {
     "name": "stderr",
     "output_type": "stream",
     "text": [
      "                                                                                \r"
     ]
    },
    {
     "name": "stdout",
     "output_type": "stream",
     "text": [
      "tpch query q1 ran in 21459 ms\n",
      "Running tpch query q10\n"
     ]
    },
    {
     "name": "stderr",
     "output_type": "stream",
     "text": [
      "                                                                                \r"
     ]
    },
    {
     "name": "stdout",
     "output_type": "stream",
     "text": [
      "tpch query q10 ran in 25735 ms\n",
      "Running tpch query q11\n"
     ]
    },
    {
     "name": "stderr",
     "output_type": "stream",
     "text": [
      "[Stage 59:============>                                        (39 + 128) / 167]\r"
     ]
    },
    {
     "name": "stdout",
     "output_type": "stream",
     "text": [
      "tpch query q11 ran in 12624 ms\n"
     ]
    },
    {
     "name": "stderr",
     "output_type": "stream",
     "text": [
      "                                                                                \r"
     ]
    },
    {
     "name": "stdout",
     "output_type": "stream",
     "text": [
      "Running tpch query q12\n"
     ]
    },
    {
     "name": "stderr",
     "output_type": "stream",
     "text": [
      "                                                                                \r"
     ]
    },
    {
     "name": "stdout",
     "output_type": "stream",
     "text": [
      "tpch query q12 ran in 11870 ms\n",
      "Running tpch query q13\n"
     ]
    },
    {
     "name": "stderr",
     "output_type": "stream",
     "text": [
      "                                                                                \r"
     ]
    },
    {
     "name": "stdout",
     "output_type": "stream",
     "text": [
      "tpch query q13 ran in 17093 ms\n",
      "Running tpch query q14\n"
     ]
    },
    {
     "name": "stderr",
     "output_type": "stream",
     "text": [
      "                                                                                \r"
     ]
    },
    {
     "name": "stdout",
     "output_type": "stream",
     "text": [
      "tpch query q14 ran in 3369 ms\n",
      "Running tpch query q15\n"
     ]
    },
    {
     "name": "stderr",
     "output_type": "stream",
     "text": [
      "                                                                                \r"
     ]
    },
    {
     "name": "stdout",
     "output_type": "stream",
     "text": [
      "tpch query q15 ran in 6803 ms\n",
      "Running tpch query q16\n"
     ]
    },
    {
     "name": "stderr",
     "output_type": "stream",
     "text": [
      "                                                                                \r"
     ]
    },
    {
     "name": "stdout",
     "output_type": "stream",
     "text": [
      "tpch query q16 ran in 10200 ms\n",
      "Running tpch query q17\n"
     ]
    },
    {
     "name": "stderr",
     "output_type": "stream",
     "text": [
      "                                                                                 1]]\r"
     ]
    },
    {
     "name": "stdout",
     "output_type": "stream",
     "text": [
      "tpch query q17 ran in 69024 ms\n",
      "Running tpch query q18\n"
     ]
    },
    {
     "name": "stderr",
     "output_type": "stream",
     "text": [
      "                                                                                ]]\r"
     ]
    },
    {
     "name": "stdout",
     "output_type": "stream",
     "text": [
      "tpch query q18 ran in 89336 ms\n",
      "Running tpch query q19\n"
     ]
    },
    {
     "name": "stderr",
     "output_type": "stream",
     "text": [
      "                                                                                \r"
     ]
    },
    {
     "name": "stdout",
     "output_type": "stream",
     "text": [
      "tpch query q19 ran in 12785 ms\n",
      "Running tpch query q2\n"
     ]
    },
    {
     "name": "stderr",
     "output_type": "stream",
     "text": [
      "                                                                                7]\r"
     ]
    },
    {
     "name": "stdout",
     "output_type": "stream",
     "text": [
      "tpch query q2 ran in 12759 ms\n",
      "Running tpch query q20\n"
     ]
    },
    {
     "name": "stderr",
     "output_type": "stream",
     "text": [
      "                                                                                5]]\r"
     ]
    },
    {
     "name": "stdout",
     "output_type": "stream",
     "text": [
      "tpch query q20 ran in 10797 ms\n",
      "Running tpch query q21\n"
     ]
    },
    {
     "name": "stderr",
     "output_type": "stream",
     "text": [
      "                                                                                 602]\r"
     ]
    },
    {
     "name": "stdout",
     "output_type": "stream",
     "text": [
      "tpch query q21 ran in 124663 ms\n",
      "Running tpch query q22\n"
     ]
    },
    {
     "name": "stderr",
     "output_type": "stream",
     "text": [
      "                                                                                \r"
     ]
    },
    {
     "name": "stdout",
     "output_type": "stream",
     "text": [
      "tpch query q22 ran in 7204 ms\n",
      "Running tpch query q3\n"
     ]
    },
    {
     "name": "stderr",
     "output_type": "stream",
     "text": [
      "                                                                                \r"
     ]
    },
    {
     "name": "stdout",
     "output_type": "stream",
     "text": [
      "tpch query q3 ran in 18933 ms\n",
      "Running tpch query q4\n"
     ]
    },
    {
     "name": "stderr",
     "output_type": "stream",
     "text": [
      "                                                                                \r"
     ]
    },
    {
     "name": "stdout",
     "output_type": "stream",
     "text": [
      "tpch query q4 ran in 16898 ms\n",
      "Running tpch query q5\n"
     ]
    },
    {
     "name": "stderr",
     "output_type": "stream",
     "text": [
      "                                                                                / 1]\r"
     ]
    },
    {
     "name": "stdout",
     "output_type": "stream",
     "text": [
      "tpch query q5 ran in 41902 ms\n",
      "Running tpch query q6\n"
     ]
    },
    {
     "name": "stderr",
     "output_type": "stream",
     "text": [
      "                                                                                \r"
     ]
    },
    {
     "name": "stdout",
     "output_type": "stream",
     "text": [
      "tpch query q6 ran in 1449 ms\n",
      "Running tpch query q7\n"
     ]
    },
    {
     "name": "stderr",
     "output_type": "stream",
     "text": [
      "                                                                                00]\r"
     ]
    },
    {
     "name": "stdout",
     "output_type": "stream",
     "text": [
      "tpch query q7 ran in 21814 ms\n",
      "Running tpch query q8\n"
     ]
    },
    {
     "name": "stderr",
     "output_type": "stream",
     "text": [
      "                                                                                ]0]]]\r"
     ]
    },
    {
     "name": "stdout",
     "output_type": "stream",
     "text": [
      "tpch query q8 ran in 46321 ms\n",
      "Running tpch query q9\n"
     ]
    },
    {
     "name": "stderr",
     "output_type": "stream",
     "text": [
      "                                                                                0]]]\r"
     ]
    },
    {
     "name": "stdout",
     "output_type": "stream",
     "text": [
      "tpch query q9 ran in 67478 ms\n",
      "╒═══════════╤══════════════════╕\n",
      "│ QueryId   │   Runtime(in ms) │\n",
      "╞═══════════╪══════════════════╡\n",
      "│ Sum       │           650516 │\n",
      "├───────────┼──────────────────┤\n",
      "│ q1        │            21459 │\n",
      "├───────────┼──────────────────┤\n",
      "│ q10       │            25735 │\n",
      "├───────────┼──────────────────┤\n",
      "│ q11       │            12624 │\n",
      "├───────────┼──────────────────┤\n",
      "│ q12       │            11870 │\n",
      "├───────────┼──────────────────┤\n",
      "│ q13       │            17093 │\n",
      "├───────────┼──────────────────┤\n",
      "│ q14       │             3369 │\n",
      "├───────────┼──────────────────┤\n",
      "│ q15       │             6803 │\n",
      "├───────────┼──────────────────┤\n",
      "│ q16       │            10200 │\n",
      "├───────────┼──────────────────┤\n",
      "│ q17       │            69024 │\n",
      "├───────────┼──────────────────┤\n",
      "│ q18       │            89336 │\n",
      "├───────────┼──────────────────┤\n",
      "│ q19       │            12785 │\n",
      "├───────────┼──────────────────┤\n",
      "│ q2        │            12759 │\n",
      "├───────────┼──────────────────┤\n",
      "│ q20       │            10797 │\n",
      "├───────────┼──────────────────┤\n",
      "│ q21       │           124663 │\n",
      "├───────────┼──────────────────┤\n",
      "│ q22       │             7204 │\n",
      "├───────────┼──────────────────┤\n",
      "│ q3        │            18933 │\n",
      "├───────────┼──────────────────┤\n",
      "│ q4        │            16898 │\n",
      "├───────────┼──────────────────┤\n",
      "│ q5        │            41902 │\n",
      "├───────────┼──────────────────┤\n",
      "│ q6        │             1449 │\n",
      "├───────────┼──────────────────┤\n",
      "│ q7        │            21814 │\n",
      "├───────────┼──────────────────┤\n",
      "│ q8        │            46321 │\n",
      "├───────────┼──────────────────┤\n",
      "│ q9        │            67478 │\n",
      "╘═══════════╧══════════════════╛\n"
     ]
    },
    {
     "data": {
      "image/png": "[encoded data removed]",
      "text/plain": [
       "<Figure size 2500x1500 with 1 Axes>"
      ]
     },
     "metadata": {},
     "output_type": "display_data"
    },
    {
     "name": "stdout",
     "output_type": "stream",
     "text": [
      "----------------------------------------------------------------------------------------------------------\n",
      "Writing to GCS bucket sparkpoc-bucket-serverless-premium-nqe-279814974066-us-east1\n",
      "Runtime results successfully written to gs://sparkpoc-bucket-serverless-premium-nqe-279814974066-us-east1/premium/native/output/parquet/tpch/sf1000/serverless_premium_native_parquet_sf1000_tpch_tpcds_us-east1_2025-08-08_10-39-52.csv\n",
      "----------------------------------------------------------------------------------------------------------\n"
     ]
    }
   ],
   "source": [
    "# Run first benchmark\n",
    "runTPCBenchmark(spark,first_benchmark,benchmark_configs,BUCKET_NAME,RUN_ID,PROJECT,RUNTYPE,TIER)\n",
    "\n",
    "if second_benchmark is None: \n",
    "    # Call cleanup function\n",
    "    finalize_notebook_and_cleanup(benchmark_configs,BUCKET_NAME,REGION,PROJECT,RUN_ID,RUNTYPE,TIER)        "
   ]
  },
  {
   "cell_type": "markdown",
   "id": "fdfd038d-6689-423c-8ef5-0a15f46ae0d1",
   "metadata": {},
   "source": [
    "### Second Benchmark"
   ]
  },
  {
   "cell_type": "markdown",
   "id": "69c27370-5502-402b-8242-0da78f3375f0",
   "metadata": {},
   "source": [
    "#### Start Spark Session\n",
    "\n",
    "In the following step, spark properties are set to run benchmarks using NQE."
   ]
  },
  {
   "cell_type": "code",
   "execution_count": 15,
   "id": "be439427-8521-44b5-b370-b1858c970119",
   "metadata": {},
   "outputs": [
    {
     "name": "stderr",
     "output_type": "stream",
     "text": [
      "Setting Spark log level to \"ERROR\".\n"
     ]
    },
    {
     "name": "stdout",
     "output_type": "stream",
     "text": [
      "Spark Application Name: tpcds s8s premium with nqe benchmark run\n",
      "Spark Session ID: app-20250808105621-0003\n",
      "Spark Version: 3.5.1\n",
      "Spark Master: spark://gdpic-srvls-session-35ad127b-51df-4300-9953-96450fdf1ce3-m:7077\n"
     ]
    }
   ],
   "source": [
    "if second_benchmark is not None:\n",
    "    #  Start new Spark session with specified configurations \n",
    "    \n",
    "    spark_configs = {}\n",
    "    \n",
    "    if(size == \"sf10000\"):\n",
    "        spark_configs[\"spark.executor.instances\"] = \"27\"  \n",
    "    \n",
    "    spark_builder = SparkSession.builder.appName(f\"{second_benchmark} s8s premium with nqe benchmark run\").enableHiveSupport()\n",
    "\n",
    "    for key, value in spark_configs.items():\n",
    "        spark_builder.config(key, value)\n",
    "    \n",
    "    spark = spark_builder.getOrCreate()\n",
    "\n",
    "    # Set the logger to display only ERROR logs\n",
    "    logger = sc._jvm.org.apache.logging.log4j\n",
    "    logger.core.config.Configurator.setAllLevels(\"org\",logger.Level.ERROR)\n",
    "\n",
    "    print(f\"Spark Application Name: {spark.sparkContext.appName}\")\n",
    "    print(f\"Spark Session ID: {spark.sparkContext._jsc.sc().applicationId()}\")\n",
    "    print(f\"Spark Version: {spark.version}\")\n",
    "    print(f\"Spark Master: {spark.sparkContext.master}\")\n",
    "else:\n",
    "    print(\"Second benchmark is empty!\")\n",
    "    print(\"Skipping this step.\")      "
   ]
  },
  {
   "cell_type": "markdown",
   "id": "85ca2e98-0cc5-43f5-928d-50e53120a856",
   "metadata": {},
   "source": [
    "#### Run Benchmark\n",
    "The following cell runs the second benchmark with the configurations passed.\n",
    "\n",
    "**NOTE - After every benchmark run is complete, it terminates the existing spark session. New spark session is created for each run.**"
   ]
  },
  {
   "cell_type": "code",
   "execution_count": 16,
   "id": "06c3f5a1-9709-407b-9597-ca02b25437ce",
   "metadata": {
    "tags": []
   },
   "outputs": [
    {
     "name": "stdout",
     "output_type": "stream",
     "text": [
      "Running benchmark: tpcds, size: sf1000, queries to run: all, runtime engine: native, file format: parquet\n",
      "Setting up TPCDS tables\n"
     ]
    },
    {
     "name": "stderr",
     "output_type": "stream",
     "text": [
      "                                                                                \r"
     ]
    },
    {
     "name": "stdout",
     "output_type": "stream",
     "text": [
      "TPCDS Tables set up\n",
      "--------Running TPCDS Benchmark with following configurations--------\n",
      "Queries to run: all\n",
      "Benchmark: tpcds\n",
      "Result Location: gs://sparkpoc-bucket-serverless-premium-nqe-279814974066-us-east1/premium/native/output/parquet/tpcds/sf1000/serverless_premium_native_parquet_sf1000_tpch_tpcds_us-east1_2025-08-08_10-39-52.csv\n",
      "Scale Factor: sf1000\n",
      "File Format: parquet\n",
      "Parquet Tables GCS Path: gs://sparkpoc-bucket-serverless-premium-nqe-279814974066-us-east1/premium/native\n",
      "--------------------------------------------------------------------\n",
      "Running tpcds query q1\n"
     ]
    },
    {
     "name": "stderr",
     "output_type": "stream",
     "text": [
      "                                                                                \r"
     ]
    },
    {
     "name": "stdout",
     "output_type": "stream",
     "text": [
      "tpcds query q1 ran in 6408 ms\n",
      "Running tpcds query q10\n"
     ]
    },
    {
     "name": "stderr",
     "output_type": "stream",
     "text": [
      "                                                                                \r"
     ]
    },
    {
     "name": "stdout",
     "output_type": "stream",
     "text": [
      "tpcds query q10 ran in 6780 ms\n",
      "Running tpcds query q11\n"
     ]
    },
    {
     "name": "stderr",
     "output_type": "stream",
     "text": [
      "                                                                                67]]\r"
     ]
    },
    {
     "name": "stdout",
     "output_type": "stream",
     "text": [
      "tpcds query q11 ran in 20679 ms\n",
      "Running tpcds query q12\n"
     ]
    },
    {
     "name": "stderr",
     "output_type": "stream",
     "text": [
      "                                                                                \r"
     ]
    },
    {
     "name": "stdout",
     "output_type": "stream",
     "text": [
      "tpcds query q12 ran in 2222 ms\n",
      "Running tpcds query q13\n"
     ]
    },
    {
     "name": "stderr",
     "output_type": "stream",
     "text": [
      "                                                                                \r"
     ]
    },
    {
     "name": "stdout",
     "output_type": "stream",
     "text": [
      "tpcds query q13 ran in 4771 ms\n",
      "Running tpcds query q14a\n"
     ]
    },
    {
     "name": "stderr",
     "output_type": "stream",
     "text": [
      "                                                                                7]7]\r"
     ]
    },
    {
     "name": "stdout",
     "output_type": "stream",
     "text": [
      "tpcds query q14a ran in 22404 ms\n",
      "Running tpcds query q14b\n"
     ]
    },
    {
     "name": "stderr",
     "output_type": "stream",
     "text": [
      "                                                                                2]\r"
     ]
    },
    {
     "name": "stdout",
     "output_type": "stream",
     "text": [
      "tpcds query q14b ran in 17746 ms\n",
      "Running tpcds query q15\n"
     ]
    },
    {
     "name": "stderr",
     "output_type": "stream",
     "text": [
      "                                                                                \r"
     ]
    },
    {
     "name": "stdout",
     "output_type": "stream",
     "text": [
      "tpcds query q15 ran in 2632 ms\n",
      "Running tpcds query q16\n"
     ]
    },
    {
     "name": "stderr",
     "output_type": "stream",
     "text": [
      "                                                                                2104]]\r"
     ]
    },
    {
     "name": "stdout",
     "output_type": "stream",
     "text": [
      "tpcds query q16 ran in 15115 ms\n",
      "Running tpcds query q17\n"
     ]
    },
    {
     "name": "stderr",
     "output_type": "stream",
     "text": [
      "                                                                                1]\r"
     ]
    },
    {
     "name": "stdout",
     "output_type": "stream",
     "text": [
      "tpcds query q17 ran in 4046 ms\n",
      "Running tpcds query q18\n"
     ]
    },
    {
     "name": "stderr",
     "output_type": "stream",
     "text": [
      "                                                                                \r"
     ]
    },
    {
     "name": "stdout",
     "output_type": "stream",
     "text": [
      "tpcds query q18 ran in 5866 ms\n",
      "Running tpcds query q19\n"
     ]
    },
    {
     "name": "stderr",
     "output_type": "stream",
     "text": [
      "                                                                                \r"
     ]
    },
    {
     "name": "stdout",
     "output_type": "stream",
     "text": [
      "tpcds query q19 ran in 2346 ms\n",
      "Running tpcds query q2\n"
     ]
    },
    {
     "name": "stderr",
     "output_type": "stream",
     "text": [
      "                                                                                \r"
     ]
    },
    {
     "name": "stdout",
     "output_type": "stream",
     "text": [
      "tpcds query q2 ran in 8065 ms\n",
      "Running tpcds query q20\n"
     ]
    },
    {
     "name": "stderr",
     "output_type": "stream",
     "text": [
      "                                                                                \r"
     ]
    },
    {
     "name": "stdout",
     "output_type": "stream",
     "text": [
      "tpcds query q20 ran in 1672 ms\n",
      "Running tpcds query q21\n"
     ]
    },
    {
     "name": "stderr",
     "output_type": "stream",
     "text": [
      "                                                                                \r"
     ]
    },
    {
     "name": "stdout",
     "output_type": "stream",
     "text": [
      "tpcds query q21 ran in 1391 ms\n",
      "Running tpcds query q22\n"
     ]
    },
    {
     "name": "stderr",
     "output_type": "stream",
     "text": [
      "                                                                                \r"
     ]
    },
    {
     "name": "stdout",
     "output_type": "stream",
     "text": [
      "tpcds query q22 ran in 8181 ms\n",
      "Running tpcds query q23a\n"
     ]
    },
    {
     "name": "stderr",
     "output_type": "stream",
     "text": [
      "                                                                                116]\r"
     ]
    },
    {
     "name": "stdout",
     "output_type": "stream",
     "text": [
      "tpcds query q23a ran in 46795 ms\n",
      "Running tpcds query q23b\n"
     ]
    },
    {
     "name": "stderr",
     "output_type": "stream",
     "text": [
      "                                                                                791]\r"
     ]
    },
    {
     "name": "stdout",
     "output_type": "stream",
     "text": [
      "tpcds query q23b ran in 64487 ms\n",
      "Running tpcds query q24a\n"
     ]
    },
    {
     "name": "stderr",
     "output_type": "stream",
     "text": [
      "                                                                                ]2]\r"
     ]
    },
    {
     "name": "stdout",
     "output_type": "stream",
     "text": [
      "tpcds query q24a ran in 38545 ms\n",
      "Running tpcds query q24b\n"
     ]
    },
    {
     "name": "stderr",
     "output_type": "stream",
     "text": [
      "                                                                                ]]]\r"
     ]
    },
    {
     "name": "stdout",
     "output_type": "stream",
     "text": [
      "tpcds query q24b ran in 35306 ms\n",
      "Running tpcds query q25\n"
     ]
    },
    {
     "name": "stderr",
     "output_type": "stream",
     "text": [
      "                                                                                \r"
     ]
    },
    {
     "name": "stdout",
     "output_type": "stream",
     "text": [
      "tpcds query q25 ran in 3309 ms\n",
      "Running tpcds query q26\n"
     ]
    },
    {
     "name": "stderr",
     "output_type": "stream",
     "text": [
      "                                                                                \r"
     ]
    },
    {
     "name": "stdout",
     "output_type": "stream",
     "text": [
      "tpcds query q26 ran in 3315 ms\n",
      "Running tpcds query q27\n"
     ]
    },
    {
     "name": "stderr",
     "output_type": "stream",
     "text": [
      "                                                                                \r"
     ]
    },
    {
     "name": "stdout",
     "output_type": "stream",
     "text": [
      "tpcds query q27 ran in 3526 ms\n",
      "Running tpcds query q28\n"
     ]
    },
    {
     "name": "stderr",
     "output_type": "stream",
     "text": [
      "                                                                                \r"
     ]
    },
    {
     "name": "stdout",
     "output_type": "stream",
     "text": [
      "tpcds query q28 ran in 15577 ms\n",
      "Running tpcds query q29\n"
     ]
    },
    {
     "name": "stderr",
     "output_type": "stream",
     "text": [
      "                                                                                \r"
     ]
    },
    {
     "name": "stdout",
     "output_type": "stream",
     "text": [
      "tpcds query q29 ran in 6152 ms\n",
      "Running tpcds query q3\n"
     ]
    },
    {
     "name": "stderr",
     "output_type": "stream",
     "text": [
      "                                                                                \r"
     ]
    },
    {
     "name": "stdout",
     "output_type": "stream",
     "text": [
      "tpcds query q3 ran in 1718 ms\n",
      "Running tpcds query q30\n"
     ]
    },
    {
     "name": "stderr",
     "output_type": "stream",
     "text": [
      "                                                                                \r"
     ]
    },
    {
     "name": "stdout",
     "output_type": "stream",
     "text": [
      "tpcds query q30 ran in 6765 ms\n",
      "Running tpcds query q31\n"
     ]
    },
    {
     "name": "stderr",
     "output_type": "stream",
     "text": [
      "                                                                                ]]\r"
     ]
    },
    {
     "name": "stdout",
     "output_type": "stream",
     "text": [
      "tpcds query q31 ran in 5480 ms\n",
      "Running tpcds query q32\n",
      "tpcds query q32 ran in 1423 ms\n",
      "Running tpcds query q33\n"
     ]
    },
    {
     "name": "stderr",
     "output_type": "stream",
     "text": [
      "                                                                                ]\r"
     ]
    },
    {
     "name": "stdout",
     "output_type": "stream",
     "text": [
      "tpcds query q33 ran in 3184 ms\n",
      "Running tpcds query q34\n"
     ]
    },
    {
     "name": "stderr",
     "output_type": "stream",
     "text": [
      "                                                                                \r"
     ]
    },
    {
     "name": "stdout",
     "output_type": "stream",
     "text": [
      "tpcds query q34 ran in 3239 ms\n",
      "Running tpcds query q35\n"
     ]
    },
    {
     "name": "stderr",
     "output_type": "stream",
     "text": [
      "                                                                                \r"
     ]
    },
    {
     "name": "stdout",
     "output_type": "stream",
     "text": [
      "tpcds query q35 ran in 4581 ms\n",
      "Running tpcds query q36\n"
     ]
    },
    {
     "name": "stderr",
     "output_type": "stream",
     "text": [
      "                                                                                \r"
     ]
    },
    {
     "name": "stdout",
     "output_type": "stream",
     "text": [
      "tpcds query q36 ran in 2772 ms\n",
      "Running tpcds query q37\n"
     ]
    },
    {
     "name": "stderr",
     "output_type": "stream",
     "text": [
      "                                                                                \r"
     ]
    },
    {
     "name": "stdout",
     "output_type": "stream",
     "text": [
      "tpcds query q37 ran in 2821 ms\n",
      "Running tpcds query q38\n"
     ]
    },
    {
     "name": "stderr",
     "output_type": "stream",
     "text": [
      "                                                                                7]]\r"
     ]
    },
    {
     "name": "stdout",
     "output_type": "stream",
     "text": [
      "tpcds query q38 ran in 7666 ms\n",
      "Running tpcds query q39a\n"
     ]
    },
    {
     "name": "stderr",
     "output_type": "stream",
     "text": [
      "                                                                                \r"
     ]
    },
    {
     "name": "stdout",
     "output_type": "stream",
     "text": [
      "tpcds query q39a ran in 4406 ms\n",
      "Running tpcds query q39b\n"
     ]
    },
    {
     "name": "stderr",
     "output_type": "stream",
     "text": [
      "                                                                                \r"
     ]
    },
    {
     "name": "stdout",
     "output_type": "stream",
     "text": [
      "tpcds query q39b ran in 3749 ms\n",
      "Running tpcds query q4\n"
     ]
    },
    {
     "name": "stderr",
     "output_type": "stream",
     "text": [
      "                                                                                167]]]\r"
     ]
    },
    {
     "name": "stdout",
     "output_type": "stream",
     "text": [
      "tpcds query q4 ran in 35662 ms\n",
      "Running tpcds query q40\n"
     ]
    },
    {
     "name": "stderr",
     "output_type": "stream",
     "text": [
      "                                                                                \r"
     ]
    },
    {
     "name": "stdout",
     "output_type": "stream",
     "text": [
      "tpcds query q40 ran in 4465 ms\n",
      "Running tpcds query q41\n",
      "tpcds query q41 ran in 514 ms\n",
      "Running tpcds query q42\n"
     ]
    },
    {
     "name": "stderr",
     "output_type": "stream",
     "text": [
      "                                                                                \r"
     ]
    },
    {
     "name": "stdout",
     "output_type": "stream",
     "text": [
      "tpcds query q42 ran in 1075 ms\n",
      "Running tpcds query q43\n"
     ]
    },
    {
     "name": "stderr",
     "output_type": "stream",
     "text": [
      "                                                                                \r"
     ]
    },
    {
     "name": "stdout",
     "output_type": "stream",
     "text": [
      "tpcds query q43 ran in 2169 ms\n",
      "Running tpcds query q44\n"
     ]
    },
    {
     "name": "stderr",
     "output_type": "stream",
     "text": [
      "                                                                                \r"
     ]
    },
    {
     "name": "stdout",
     "output_type": "stream",
     "text": [
      "tpcds query q44 ran in 8880 ms\n",
      "Running tpcds query q45\n"
     ]
    },
    {
     "name": "stderr",
     "output_type": "stream",
     "text": [
      "                                                                                \r"
     ]
    },
    {
     "name": "stdout",
     "output_type": "stream",
     "text": [
      "tpcds query q45 ran in 2948 ms\n",
      "Running tpcds query q46\n"
     ]
    },
    {
     "name": "stderr",
     "output_type": "stream",
     "text": [
      "                                                                                28]\r"
     ]
    },
    {
     "name": "stdout",
     "output_type": "stream",
     "text": [
      "tpcds query q46 ran in 2979 ms\n",
      "Running tpcds query q47\n"
     ]
    },
    {
     "name": "stderr",
     "output_type": "stream",
     "text": [
      "                                                                                \r"
     ]
    },
    {
     "name": "stdout",
     "output_type": "stream",
     "text": [
      "tpcds query q47 ran in 7544 ms\n",
      "Running tpcds query q48\n"
     ]
    },
    {
     "name": "stderr",
     "output_type": "stream",
     "text": [
      "                                                                                \r"
     ]
    },
    {
     "name": "stdout",
     "output_type": "stream",
     "text": [
      "tpcds query q48 ran in 3269 ms\n",
      "Running tpcds query q49\n"
     ]
    },
    {
     "name": "stderr",
     "output_type": "stream",
     "text": [
      "                                                                                 166]]\r"
     ]
    },
    {
     "name": "stdout",
     "output_type": "stream",
     "text": [
      "tpcds query q49 ran in 7334 ms\n",
      "Running tpcds query q5\n"
     ]
    },
    {
     "name": "stderr",
     "output_type": "stream",
     "text": [
      "                                                                                / 173]\r"
     ]
    },
    {
     "name": "stdout",
     "output_type": "stream",
     "text": [
      "tpcds query q5 ran in 6615 ms\n",
      "Running tpcds query q50\n"
     ]
    },
    {
     "name": "stderr",
     "output_type": "stream",
     "text": [
      "                                                                                \r"
     ]
    },
    {
     "name": "stdout",
     "output_type": "stream",
     "text": [
      "tpcds query q50 ran in 15178 ms\n",
      "Running tpcds query q51\n"
     ]
    },
    {
     "name": "stderr",
     "output_type": "stream",
     "text": [
      "                                                                                \r"
     ]
    },
    {
     "name": "stdout",
     "output_type": "stream",
     "text": [
      "tpcds query q51 ran in 7055 ms\n",
      "Running tpcds query q52\n",
      "tpcds query q52 ran in 1201 ms\n",
      "Running tpcds query q53\n"
     ]
    },
    {
     "name": "stderr",
     "output_type": "stream",
     "text": [
      "                                                                                \r"
     ]
    },
    {
     "name": "stdout",
     "output_type": "stream",
     "text": [
      "tpcds query q53 ran in 1893 ms\n",
      "Running tpcds query q54\n"
     ]
    },
    {
     "name": "stderr",
     "output_type": "stream",
     "text": [
      "                                                                                \r"
     ]
    },
    {
     "name": "stdout",
     "output_type": "stream",
     "text": [
      "tpcds query q54 ran in 3528 ms\n",
      "Running tpcds query q55\n",
      "tpcds query q55 ran in 1176 ms\n",
      "Running tpcds query q56\n"
     ]
    },
    {
     "name": "stderr",
     "output_type": "stream",
     "text": [
      "                                                                                12]\r"
     ]
    },
    {
     "name": "stdout",
     "output_type": "stream",
     "text": [
      "tpcds query q56 ran in 2893 ms\n",
      "Running tpcds query q57\n"
     ]
    },
    {
     "name": "stderr",
     "output_type": "stream",
     "text": [
      "                                                                                \r"
     ]
    },
    {
     "name": "stdout",
     "output_type": "stream",
     "text": [
      "tpcds query q57 ran in 5603 ms\n",
      "Running tpcds query q58\n"
     ]
    },
    {
     "name": "stderr",
     "output_type": "stream",
     "text": [
      "                                                                                5]\r"
     ]
    },
    {
     "name": "stdout",
     "output_type": "stream",
     "text": [
      "tpcds query q58 ran in 3015 ms\n",
      "Running tpcds query q59\n"
     ]
    },
    {
     "name": "stderr",
     "output_type": "stream",
     "text": [
      "                                                                                \r"
     ]
    },
    {
     "name": "stdout",
     "output_type": "stream",
     "text": [
      "tpcds query q59 ran in 4468 ms\n",
      "Running tpcds query q6\n",
      "tpcds query q6 ran in 2030 ms\n",
      "Running tpcds query q60\n"
     ]
    },
    {
     "name": "stderr",
     "output_type": "stream",
     "text": [
      "                                                                                150]]\r"
     ]
    },
    {
     "name": "stdout",
     "output_type": "stream",
     "text": [
      "tpcds query q60 ran in 3301 ms\n",
      "Running tpcds query q61\n"
     ]
    },
    {
     "name": "stderr",
     "output_type": "stream",
     "text": [
      "                                                                                \r"
     ]
    },
    {
     "name": "stdout",
     "output_type": "stream",
     "text": [
      "tpcds query q61 ran in 3079 ms\n",
      "Running tpcds query q62\n"
     ]
    },
    {
     "name": "stderr",
     "output_type": "stream",
     "text": [
      "                                                                                \r"
     ]
    },
    {
     "name": "stdout",
     "output_type": "stream",
     "text": [
      "tpcds query q62 ran in 2490 ms\n",
      "Running tpcds query q63\n"
     ]
    },
    {
     "name": "stderr",
     "output_type": "stream",
     "text": [
      "                                                                                \r"
     ]
    },
    {
     "name": "stdout",
     "output_type": "stream",
     "text": [
      "tpcds query q63 ran in 1805 ms\n",
      "Running tpcds query q64\n"
     ]
    },
    {
     "name": "stderr",
     "output_type": "stream",
     "text": [
      "                                                                                7]]]]]]\r"
     ]
    },
    {
     "name": "stdout",
     "output_type": "stream",
     "text": [
      "tpcds query q64 ran in 24901 ms\n",
      "Running tpcds query q65\n"
     ]
    },
    {
     "name": "stderr",
     "output_type": "stream",
     "text": [
      "                                                                                \r"
     ]
    },
    {
     "name": "stdout",
     "output_type": "stream",
     "text": [
      "tpcds query q65 ran in 9309 ms\n",
      "Running tpcds query q66\n"
     ]
    },
    {
     "name": "stderr",
     "output_type": "stream",
     "text": [
      "                                                                                \r"
     ]
    },
    {
     "name": "stdout",
     "output_type": "stream",
     "text": [
      "tpcds query q66 ran in 3254 ms\n",
      "Running tpcds query q67\n"
     ]
    },
    {
     "name": "stderr",
     "output_type": "stream",
     "text": [
      "                                                                                \r"
     ]
    },
    {
     "name": "stdout",
     "output_type": "stream",
     "text": [
      "tpcds query q67 ran in 61178 ms\n",
      "Running tpcds query q68\n"
     ]
    },
    {
     "name": "stderr",
     "output_type": "stream",
     "text": [
      "                                                                                2]]\r"
     ]
    },
    {
     "name": "stdout",
     "output_type": "stream",
     "text": [
      "tpcds query q68 ran in 2932 ms\n",
      "Running tpcds query q69\n"
     ]
    },
    {
     "name": "stderr",
     "output_type": "stream",
     "text": [
      "                                                                                \r"
     ]
    },
    {
     "name": "stdout",
     "output_type": "stream",
     "text": [
      "tpcds query q69 ran in 3612 ms\n",
      "Running tpcds query q7\n"
     ]
    },
    {
     "name": "stderr",
     "output_type": "stream",
     "text": [
      "                                                                                \r"
     ]
    },
    {
     "name": "stdout",
     "output_type": "stream",
     "text": [
      "tpcds query q7 ran in 3119 ms\n",
      "Running tpcds query q70\n"
     ]
    },
    {
     "name": "stderr",
     "output_type": "stream",
     "text": [
      "                                                                                \r"
     ]
    },
    {
     "name": "stdout",
     "output_type": "stream",
     "text": [
      "tpcds query q70 ran in 5236 ms\n",
      "Running tpcds query q71\n"
     ]
    },
    {
     "name": "stderr",
     "output_type": "stream",
     "text": [
      "                                                                                \r"
     ]
    },
    {
     "name": "stdout",
     "output_type": "stream",
     "text": [
      "tpcds query q71 ran in 4072 ms\n",
      "Running tpcds query q72\n"
     ]
    },
    {
     "name": "stderr",
     "output_type": "stream",
     "text": [
      "                                                                                162]\r"
     ]
    },
    {
     "name": "stdout",
     "output_type": "stream",
     "text": [
      "tpcds query q72 ran in 18058 ms\n",
      "Running tpcds query q73\n"
     ]
    },
    {
     "name": "stderr",
     "output_type": "stream",
     "text": [
      "                                                                                \r"
     ]
    },
    {
     "name": "stdout",
     "output_type": "stream",
     "text": [
      "tpcds query q73 ran in 2589 ms\n",
      "Running tpcds query q74\n"
     ]
    },
    {
     "name": "stderr",
     "output_type": "stream",
     "text": [
      "                                                                                / 167]\r"
     ]
    },
    {
     "name": "stdout",
     "output_type": "stream",
     "text": [
      "tpcds query q74 ran in 13662 ms\n",
      "Running tpcds query q75\n"
     ]
    },
    {
     "name": "stderr",
     "output_type": "stream",
     "text": [
      "                                                                                 167]]\r"
     ]
    },
    {
     "name": "stdout",
     "output_type": "stream",
     "text": [
      "tpcds query q78 ran in 24695 ms\n",
      "Running tpcds query q79\n"
     ]
    },
    {
     "name": "stderr",
     "output_type": "stream",
     "text": [
      "                                                                                \r"
     ]
    },
    {
     "name": "stdout",
     "output_type": "stream",
     "text": [
      "tpcds query q79 ran in 2882 ms\n",
      "Running tpcds query q8\n"
     ]
    },
    {
     "name": "stderr",
     "output_type": "stream",
     "text": [
      "                                                                                \r"
     ]
    },
    {
     "name": "stdout",
     "output_type": "stream",
     "text": [
      "tpcds query q8 ran in 2289 ms\n",
      "Running tpcds query q80\n"
     ]
    },
    {
     "name": "stderr",
     "output_type": "stream",
     "text": [
      "                                                                                167]]\r"
     ]
    },
    {
     "name": "stdout",
     "output_type": "stream",
     "text": [
      "tpcds query q80 ran in 9279 ms\n",
      "Running tpcds query q81\n"
     ]
    },
    {
     "name": "stderr",
     "output_type": "stream",
     "text": [
      "                                                                                7]\r"
     ]
    },
    {
     "name": "stdout",
     "output_type": "stream",
     "text": [
      "tpcds query q81 ran in 4072 ms\n",
      "Running tpcds query q82\n"
     ]
    },
    {
     "name": "stderr",
     "output_type": "stream",
     "text": [
      "                                                                                \r"
     ]
    },
    {
     "name": "stdout",
     "output_type": "stream",
     "text": [
      "tpcds query q82 ran in 3991 ms\n",
      "Running tpcds query q83\n",
      "tpcds query q83 ran in 1931 ms\n",
      "Running tpcds query q84\n"
     ]
    },
    {
     "name": "stderr",
     "output_type": "stream",
     "text": [
      "                                                                                \r"
     ]
    },
    {
     "name": "stdout",
     "output_type": "stream",
     "text": [
      "tpcds query q84 ran in 2589 ms\n",
      "Running tpcds query q85\n"
     ]
    },
    {
     "name": "stderr",
     "output_type": "stream",
     "text": [
      "                                                                                \r"
     ]
    },
    {
     "name": "stdout",
     "output_type": "stream",
     "text": [
      "tpcds query q85 ran in 5200 ms\n",
      "Running tpcds query q86\n"
     ]
    },
    {
     "name": "stderr",
     "output_type": "stream",
     "text": [
      "                                                                                \r"
     ]
    },
    {
     "name": "stdout",
     "output_type": "stream",
     "text": [
      "tpcds query q86 ran in 2096 ms\n",
      "Running tpcds query q87\n"
     ]
    },
    {
     "name": "stderr",
     "output_type": "stream",
     "text": [
      "                                                                                / 167]\r"
     ]
    },
    {
     "name": "stdout",
     "output_type": "stream",
     "text": [
      "tpcds query q87 ran in 7566 ms\n",
      "Running tpcds query q88\n"
     ]
    },
    {
     "name": "stderr",
     "output_type": "stream",
     "text": [
      "                                                                                \r"
     ]
    },
    {
     "name": "stdout",
     "output_type": "stream",
     "text": [
      "tpcds query q88 ran in 5554 ms\n",
      "Running tpcds query q89\n"
     ]
    },
    {
     "name": "stderr",
     "output_type": "stream",
     "text": [
      "                                                                                \r"
     ]
    },
    {
     "name": "stdout",
     "output_type": "stream",
     "text": [
      "tpcds query q89 ran in 2306 ms\n",
      "Running tpcds query q9\n"
     ]
    },
    {
     "name": "stderr",
     "output_type": "stream",
     "text": [
      "                                                                                \r"
     ]
    },
    {
     "name": "stdout",
     "output_type": "stream",
     "text": [
      "tpcds query q9 ran in 10808 ms\n",
      "Running tpcds query q90\n"
     ]
    },
    {
     "name": "stderr",
     "output_type": "stream",
     "text": [
      "                                                                                \r"
     ]
    },
    {
     "name": "stdout",
     "output_type": "stream",
     "text": [
      "tpcds query q90 ran in 2195 ms\n",
      "Running tpcds query q91\n",
      "tpcds query q91 ran in 2555 ms\n",
      "Running tpcds query q92\n",
      "tpcds query q92 ran in 1355 ms\n",
      "Running tpcds query q93\n"
     ]
    },
    {
     "name": "stderr",
     "output_type": "stream",
     "text": [
      "                                                                                \r"
     ]
    },
    {
     "name": "stdout",
     "output_type": "stream",
     "text": [
      "tpcds query q93 ran in 19221 ms\n",
      "Running tpcds query q94\n"
     ]
    },
    {
     "name": "stderr",
     "output_type": "stream",
     "text": [
      "                                                                                 160]\r"
     ]
    },
    {
     "name": "stdout",
     "output_type": "stream",
     "text": [
      "tpcds query q94 ran in 9304 ms\n",
      "Running tpcds query q95\n"
     ]
    },
    {
     "name": "stderr",
     "output_type": "stream",
     "text": [
      "                                                                                160]\r"
     ]
    },
    {
     "name": "stdout",
     "output_type": "stream",
     "text": [
      "tpcds query q95 ran in 21726 ms\n",
      "Running tpcds query q96\n"
     ]
    },
    {
     "name": "stderr",
     "output_type": "stream",
     "text": [
      "                                                                                \r"
     ]
    },
    {
     "name": "stdout",
     "output_type": "stream",
     "text": [
      "tpcds query q96 ran in 3173 ms\n",
      "Running tpcds query q97\n"
     ]
    },
    {
     "name": "stderr",
     "output_type": "stream",
     "text": [
      "                                                                                \r"
     ]
    },
    {
     "name": "stdout",
     "output_type": "stream",
     "text": [
      "tpcds query q97 ran in 7981 ms\n",
      "Running tpcds query q98\n"
     ]
    },
    {
     "name": "stderr",
     "output_type": "stream",
     "text": [
      "                                                                                \r"
     ]
    },
    {
     "name": "stdout",
     "output_type": "stream",
     "text": [
      "tpcds query q98 ran in 2588 ms\n",
      "Running tpcds query q99\n"
     ]
    },
    {
     "name": "stderr",
     "output_type": "stream",
     "text": [
      "                                                                                \r"
     ]
    },
    {
     "name": "stdout",
     "output_type": "stream",
     "text": [
      "tpcds query q99 ran in 3441 ms\n",
      "╒═══════════╤══════════════════╕\n",
      "│ QueryId   │   Runtime(in ms) │\n",
      "╞═══════════╪══════════════════╡\n",
      "│ Sum       │           881292 │\n",
      "├───────────┼──────────────────┤\n",
      "│ q1        │             6408 │\n",
      "├───────────┼──────────────────┤\n",
      "│ q10       │             6780 │\n",
      "├───────────┼──────────────────┤\n",
      "│ q11       │            20679 │\n",
      "├───────────┼──────────────────┤\n",
      "│ q12       │             2222 │\n",
      "├───────────┼──────────────────┤\n",
      "│ q13       │             4771 │\n",
      "├───────────┼──────────────────┤\n",
      "│ q14a      │            22404 │\n",
      "├───────────┼──────────────────┤\n",
      "│ q14b      │            17746 │\n",
      "├───────────┼──────────────────┤\n",
      "│ q15       │             2632 │\n",
      "├───────────┼──────────────────┤\n",
      "│ q16       │            15115 │\n",
      "├───────────┼──────────────────┤\n",
      "│ q17       │             4046 │\n",
      "├───────────┼──────────────────┤\n",
      "│ q18       │             5866 │\n",
      "├───────────┼──────────────────┤\n",
      "│ q19       │             2346 │\n",
      "├───────────┼──────────────────┤\n",
      "│ q2        │             8065 │\n",
      "├───────────┼──────────────────┤\n",
      "│ q20       │             1672 │\n",
      "├───────────┼──────────────────┤\n",
      "│ q21       │             1391 │\n",
      "├───────────┼──────────────────┤\n",
      "│ q22       │             8181 │\n",
      "├───────────┼──────────────────┤\n",
      "│ q23a      │            46795 │\n",
      "├───────────┼──────────────────┤\n",
      "│ q23b      │            64487 │\n",
      "├───────────┼──────────────────┤\n",
      "│ q24a      │            38545 │\n",
      "├───────────┼──────────────────┤\n",
      "│ q24b      │            35306 │\n",
      "├───────────┼──────────────────┤\n",
      "│ q25       │             3309 │\n",
      "├───────────┼──────────────────┤\n",
      "│ q26       │             3315 │\n",
      "├───────────┼──────────────────┤\n",
      "│ q27       │             3526 │\n",
      "├───────────┼──────────────────┤\n",
      "│ q28       │            15577 │\n",
      "├───────────┼──────────────────┤\n",
      "│ q29       │             6152 │\n",
      "├───────────┼──────────────────┤\n",
      "│ q3        │             1718 │\n",
      "├───────────┼──────────────────┤\n",
      "│ q30       │             6765 │\n",
      "├───────────┼──────────────────┤\n",
      "│ q31       │             5480 │\n",
      "├───────────┼──────────────────┤\n",
      "│ q32       │             1423 │\n",
      "├───────────┼──────────────────┤\n",
      "│ q33       │             3184 │\n",
      "├───────────┼──────────────────┤\n",
      "│ q34       │             3239 │\n",
      "├───────────┼──────────────────┤\n",
      "│ q35       │             4581 │\n",
      "├───────────┼──────────────────┤\n",
      "│ q36       │             2772 │\n",
      "├───────────┼──────────────────┤\n",
      "│ q37       │             2821 │\n",
      "├───────────┼──────────────────┤\n",
      "│ q38       │             7666 │\n",
      "├───────────┼──────────────────┤\n",
      "│ q39a      │             4406 │\n",
      "├───────────┼──────────────────┤\n",
      "│ q39b      │             3749 │\n",
      "├───────────┼──────────────────┤\n",
      "│ q4        │            35662 │\n",
      "├───────────┼──────────────────┤\n",
      "│ q40       │             4465 │\n",
      "├───────────┼──────────────────┤\n",
      "│ q41       │              514 │\n",
      "├───────────┼──────────────────┤\n",
      "│ q42       │             1075 │\n",
      "├───────────┼──────────────────┤\n",
      "│ q43       │             2169 │\n",
      "├───────────┼──────────────────┤\n",
      "│ q44       │             8880 │\n",
      "├───────────┼──────────────────┤\n",
      "│ q45       │             2948 │\n",
      "├───────────┼──────────────────┤\n",
      "│ q46       │             2979 │\n",
      "├───────────┼──────────────────┤\n",
      "│ q47       │             7544 │\n",
      "├───────────┼──────────────────┤\n",
      "│ q48       │             3269 │\n",
      "├───────────┼──────────────────┤\n",
      "│ q49       │             7334 │\n",
      "├───────────┼──────────────────┤\n",
      "│ q5        │             6615 │\n",
      "├───────────┼──────────────────┤\n",
      "│ q50       │            15178 │\n",
      "├───────────┼──────────────────┤\n",
      "│ q51       │             7055 │\n",
      "├───────────┼──────────────────┤\n",
      "│ q52       │             1201 │\n",
      "├───────────┼──────────────────┤\n",
      "│ q53       │             1893 │\n",
      "├───────────┼──────────────────┤\n",
      "│ q54       │             3528 │\n",
      "├───────────┼──────────────────┤\n",
      "│ q55       │             1176 │\n",
      "├───────────┼──────────────────┤\n",
      "│ q56       │             2893 │\n",
      "├───────────┼──────────────────┤\n",
      "│ q57       │             5603 │\n",
      "├───────────┼──────────────────┤\n",
      "│ q58       │             3015 │\n",
      "├───────────┼──────────────────┤\n",
      "│ q59       │             4468 │\n",
      "├───────────┼──────────────────┤\n",
      "│ q6        │             2030 │\n",
      "├───────────┼──────────────────┤\n",
      "│ q60       │             3301 │\n",
      "├───────────┼──────────────────┤\n",
      "│ q61       │             3079 │\n",
      "├───────────┼──────────────────┤\n",
      "│ q62       │             2490 │\n",
      "├───────────┼──────────────────┤\n",
      "│ q63       │             1805 │\n",
      "├───────────┼──────────────────┤\n",
      "│ q64       │            24901 │\n",
      "├───────────┼──────────────────┤\n",
      "│ q65       │             9309 │\n",
      "├───────────┼──────────────────┤\n",
      "│ q66       │             3254 │\n",
      "├───────────┼──────────────────┤\n",
      "│ q67       │            61178 │\n",
      "├───────────┼──────────────────┤\n",
      "│ q68       │             2932 │\n",
      "├───────────┼──────────────────┤\n",
      "│ q69       │             3612 │\n",
      "├───────────┼──────────────────┤\n",
      "│ q7        │             3119 │\n",
      "├───────────┼──────────────────┤\n",
      "│ q70       │             5236 │\n",
      "├───────────┼──────────────────┤\n",
      "│ q71       │             4072 │\n",
      "├───────────┼──────────────────┤\n",
      "│ q72       │            18058 │\n",
      "├───────────┼──────────────────┤\n",
      "│ q73       │             2589 │\n",
      "├───────────┼──────────────────┤\n",
      "│ q74       │            13662 │\n",
      "├───────────┼──────────────────┤\n",
      "│ q75       │            20143 │\n",
      "├───────────┼──────────────────┤\n",
      "│ q76       │             9818 │\n",
      "├───────────┼──────────────────┤\n",
      "│ q77       │             3303 │\n",
      "├───────────┼──────────────────┤\n",
      "│ q78       │            24695 │\n",
      "├───────────┼──────────────────┤\n",
      "│ q79       │             2882 │\n",
      "├───────────┼──────────────────┤\n",
      "│ q8        │             2289 │\n",
      "├───────────┼──────────────────┤\n",
      "│ q80       │             9279 │\n",
      "├───────────┼──────────────────┤\n",
      "│ q81       │             4072 │\n",
      "├───────────┼──────────────────┤\n",
      "│ q82       │             3991 │\n",
      "├───────────┼──────────────────┤\n",
      "│ q83       │             1931 │\n",
      "├───────────┼──────────────────┤\n",
      "│ q84       │             2589 │\n",
      "├───────────┼──────────────────┤\n",
      "│ q85       │             5200 │\n",
      "├───────────┼──────────────────┤\n",
      "│ q86       │             2096 │\n",
      "├───────────┼──────────────────┤\n",
      "│ q87       │             7566 │\n",
      "├───────────┼──────────────────┤\n",
      "│ q88       │             5554 │\n",
      "├───────────┼──────────────────┤\n",
      "│ q89       │             2306 │\n",
      "├───────────┼──────────────────┤\n",
      "│ q9        │            10808 │\n",
      "├───────────┼──────────────────┤\n",
      "│ q90       │             2195 │\n",
      "├───────────┼──────────────────┤\n",
      "│ q91       │             2555 │\n",
      "├───────────┼──────────────────┤\n",
      "│ q92       │             1355 │\n",
      "├───────────┼──────────────────┤\n",
      "│ q93       │            19221 │\n",
      "├───────────┼──────────────────┤\n",
      "│ q94       │             9304 │\n",
      "├───────────┼──────────────────┤\n",
      "│ q95       │            21726 │\n",
      "├───────────┼──────────────────┤\n",
      "│ q96       │             3173 │\n",
      "├───────────┼──────────────────┤\n",
      "│ q97       │             7981 │\n",
      "├───────────┼──────────────────┤\n",
      "│ q98       │             2588 │\n",
      "├───────────┼──────────────────┤\n",
      "│ q99       │             3441 │\n",
      "╘═══════════╧══════════════════╛\n"
     ]
    },
    {
     "data": {
      "image/png": "[encoded data removed]",
      "text/plain": [
       "<Figure size 2500x1500 with 1 Axes>"
      ]
     },
     "metadata": {},
     "output_type": "display_data"
    },
    {
     "name": "stdout",
     "output_type": "stream",
     "text": [
      "----------------------------------------------------------------------------------------------------------\n",
      "Writing to GCS bucket sparkpoc-bucket-serverless-premium-nqe-279814974066-us-east1\n",
      "Runtime results successfully written to gs://sparkpoc-bucket-serverless-premium-nqe-279814974066-us-east1/premium/native/output/parquet/tpcds/sf1000/serverless_premium_native_parquet_sf1000_tpch_tpcds_us-east1_2025-08-08_10-39-52.csv\n",
      "----------------------------------------------------------------------------------------------------------\n",
      "Current session name: projects/nishitkamdarargo/locations/us-east1/sessions/9368ac66-3de6-4a63-8571-de8769b48dc3\n",
      "Uploading session details to GCS...\n",
      "Uploaded session details to GCS file path gs://sparkpoc-bucket-serverless-premium-nqe-279814974066-us-east1/premium/serverless_native_session/parquet/sf1000/serverless_premium_native_parquet_sf1000_tpch_tpcds_us-east1_2025-08-08_10-39-52.json\n",
      "----------------------------------------------------------------------------------\n",
      "Terminating session: projects/nishitkamdarargo/locations/us-east1/sessions/9368ac66-3de6-4a63-8571-de8769b48dc3\n",
      "Successfully requested to stop session 'projects/nishitkamdarargo/locations/us-east1/sessions/9368ac66-3de6-4a63-8571-de8769b48dc3'. The kernel will now terminate...\n"
     ]
    }
   ],
   "source": [
    "if second_benchmark is not None:    \n",
    "    \n",
    "    # Run second benchmark\n",
    "    runTPCBenchmark(spark,second_benchmark,benchmark_configs,BUCKET_NAME,RUN_ID,PROJECT,RUNTYPE,TIER)\n",
    "    \n",
    "    # Call cleanup function\n",
    "    finalize_notebook_and_cleanup(benchmark_configs,BUCKET_NAME,REGION,PROJECT,RUN_ID,RUNTYPE,TIER)\n",
    "else:\n",
    "    print(\"Second benchmark is empty!\")\n",
    "    print(\"Skipping this step.\")        "
   ]
  }
 ],
 "metadata": {
  "environment": {
   "kernel": "9c39b79e5d2e7072beb4bd59-premium-native-runtime",
   "name": "workbench-notebooks.m131",
   "type": "gcloud",
   "uri": "us-docker.pkg.dev/deeplearning-platform-release/gcr.io/workbench-notebooks:m131"
  },
  "kernelspec": {
   "display_name": "Premium with NQE for running TPC Benchmark on Serverless Spark (Remote)",
   "language": "python",
   "name": "9c39b79e5d2e7072beb4bd59-premium-native-runtime"
  },
  "language_info": {
   "codemirror_mode": {
    "name": "ipython",
    "version": 3
   },
   "file_extension": ".py",
   "mimetype": "text/x-python",
   "name": "python",
   "nbconvert_exporter": "python",
   "pygments_lexer": "ipython3",
   "version": "3.12.3"
  }
 },
 "nbformat": 4,
 "nbformat_minor": 5
}
